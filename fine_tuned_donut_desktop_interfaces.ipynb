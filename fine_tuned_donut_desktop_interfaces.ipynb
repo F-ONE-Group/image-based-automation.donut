{
 "cells": [
  {
   "cell_type": "markdown",
   "metadata": {
    "colab_type": "text",
    "id": "view-in-github"
   },
   "source": [
    "<a href=\"https://colab.research.google.com/github/ivelin/donut_ui_refexp/blob/main/Fine_tune_Donut_on_UI_RefExp.ipynb\" target=\"_parent\"><img src=\"https://colab.research.google.com/assets/colab-badge.svg\" alt=\"Open In Colab\"/></a>"
   ]
  },
  {
   "cell_type": "markdown",
   "metadata": {
    "id": "DNMqJ821yNVo"
   },
   "source": [
    "# Fine-tune Donut 🍩 on UI RefExp\n",
    "\n",
    "> _NOTE_: This notebook is based on the [Donut fine-tuning notebooks by Niels Rogge](https://github.com/NielsRogge/Transformers-Tutorials/tree/master/Donut). \n",
    "\n",
    "In this notebook, we'll fine-tune [Donut](https://huggingface.co/docs/transformers/model_doc/donut) (which is an instance of [`VisionEncoderDecoderModel`](https://huggingface.co/docs/transformers/model_doc/vision-encoder-decoder)) on a [UI RefExp dataset](https://huggingface.co/datasets/ivelin/ui_refexp_saved), which is a dataset consisting of triplets: (UI screenshot, prompt, and target bounding box). This way, the model will learn to look at a screenshot image, and answer a prompt referring to a UI component. For example: \"select the search icon next to the menu drawer\". This could be useful for tasks such as converting natural language app documentation to exectuable tests, bug reporting front end test automation and app support chat bots.\n",
    "\n",
    "Multiple specialized models have been proposed to solve the UI RefExp task in recent years: [seq2act](https://paperswithcode.com/paper/mapping-natural-language-instructions-to), [UIBert](https://paperswithcode.com/paper/uibert-learning-generic-multimodal), [pix2struct](https://paperswithcode.com/paper/pix2struct-screenshot-parsing-as-pretraining) and others.\n",
    "\n",
    "Here we will use Donut - an OCR-free Document Understanding model with state of the art performance as of 2022. Donut showed SOTA performance across several natural languages and document understanding tasks. Since UI components use language labels as well as image icons such Material Design and emoticons, we hope that it's ability to extract features from multiple languages will transfer to non-textual UI component features.\n",
    "\n",
    "Let's find out if Donut can be fine tuned to perform well on the UI RefExp task even though it was not originally designed for it. The intuition is that paper documents have similar visual and language comprehension challenges as UI screens. Since Donut is OCR-free multi-modal model, it should be able to pick up visual and text features in UI components as well as spacial relationships between them.\n",
    "\n",
    "In [Grounding Natural Language Instructions: Can Large Language Models Capture Spatial Information?](https://arxiv.org/abs/2109.08634) it was shown that Document Understanding models such as LayoutLM are able to outperform previous models specialized on UI tasks. However the paper focuses on UI components with text labels. Ideally we would like our model to be able to also understand non-textual components.\n",
    "\n",
    "We will start from the DocVQA pre-trained Donut model and repurpose the DocVQA fine tuning notebook so that the model learns to output bounding box coordinates of the referred component instead of its text label.\n",
    "\n",
    "Let's get started!\n",
    "\n",
    "## Set-up environment\n",
    "\n",
    "First, let's install the relevant libraries:\n",
    "* 🤗 Transformers, for the model\n",
    "* 🤗 Datasets, for loading + processing the data\n",
    "* PyTorch Lightning, for training the model\n",
    "* Weights and Biases, for logging metrics during training\n",
    "* Sentencepiece, used for tokenization."
   ]
  },
  {
   "cell_type": "code",
   "execution_count": 1,
   "metadata": {
    "id": "ot1nP9YHz8co"
   },
   "outputs": [],
   "source": [
    "#@title Let's install required dependencies\n",
    "\n",
    "!pip install -q git+https://github.com/huggingface/transformers.git"
   ]
  },
  {
   "cell_type": "code",
   "execution_count": 2,
   "metadata": {
    "id": "OqcGNPJHyOlt"
   },
   "outputs": [],
   "source": [
    "!pip install -q datasets sentencepiece"
   ]
  },
  {
   "cell_type": "code",
   "execution_count": 3,
   "metadata": {
    "id": "zMZ6tiMB1JxD"
   },
   "outputs": [
    {
     "name": "stderr",
     "output_type": "stream",
     "text": [
      "ERROR: pip's dependency resolver does not currently take into account all the packages that are installed. This behaviour is the source of the following dependency conflicts.\n",
      "anaconda-project 0.11.1 requires ruamel-yaml, which is not installed.\n"
     ]
    }
   ],
   "source": [
    "!pip install -q pytorch-lightning mlflow"
   ]
  },
  {
   "cell_type": "code",
   "execution_count": 4,
   "metadata": {},
   "outputs": [
    {
     "name": "stdout",
     "output_type": "stream",
     "text": [
      "^C\n"
     ]
    }
   ],
   "source": [
    "!conda install -c conda-forge ruamel.yaml"
   ]
  },
  {
   "cell_type": "code",
   "execution_count": 5,
   "metadata": {
    "id": "1kf0n5wkudMT"
   },
   "outputs": [
    {
     "name": "stdout",
     "output_type": "stream",
     "text": [
      "CPU Count: 20\n"
     ]
    }
   ],
   "source": [
    "#@title Let's see what system resources we are running on\n",
    "import os\n",
    "print(f\"CPU Count: {os.cpu_count()}\")"
   ]
  },
  {
   "cell_type": "code",
   "execution_count": 6,
   "metadata": {
    "id": "714_cbKavUrT"
   },
   "outputs": [
    {
     "name": "stdout",
     "output_type": "stream",
     "text": [
      "Mon Mar 20 13:24:20 2023       \n",
      "+-----------------------------------------------------------------------------+\n",
      "| NVIDIA-SMI 527.37       Driver Version: 527.37       CUDA Version: 12.0     |\n",
      "|-------------------------------+----------------------+----------------------+\n",
      "| GPU  Name            TCC/WDDM | Bus-Id        Disp.A | Volatile Uncorr. ECC |\n",
      "| Fan  Temp  Perf  Pwr:Usage/Cap|         Memory-Usage | GPU-Util  Compute M. |\n",
      "|                               |                      |               MIG M. |\n",
      "|===============================+======================+======================|\n",
      "|   0  NVIDIA GeForce ... WDDM  | 00000000:01:00.0 Off |                  N/A |\n",
      "| N/A   60C    P8     4W /  N/A |     51MiB /  4096MiB |      3%      Default |\n",
      "|                               |                      |                  N/A |\n",
      "+-------------------------------+----------------------+----------------------+\n",
      "                                                                               \n",
      "+-----------------------------------------------------------------------------+\n",
      "| Processes:                                                                  |\n",
      "|  GPU   GI   CI        PID   Type   Process name                  GPU Memory |\n",
      "|        ID   ID                                                   Usage      |\n",
      "|=============================================================================|\n",
      "|    0   N/A  N/A     18844    C+G   ...ser\\Application\\brave.exe    N/A      |\n",
      "+-----------------------------------------------------------------------------+\n"
     ]
    }
   ],
   "source": [
    "gpu_info = !nvidia-smi\n",
    "gpu_info = '\\n'.join(gpu_info)\n",
    "if gpu_info.find('failed') >= 0:\n",
    "  print('Not connected to a GPU')\n",
    "else:\n",
    "  print(gpu_info)"
   ]
  },
  {
   "cell_type": "code",
   "execution_count": 7,
   "metadata": {
    "id": "O7ui-jfWx4TZ"
   },
   "outputs": [
    {
     "data": {
      "text/plain": [
       "(device(type='cpu'),\n",
       " device(type='cuda', index=0),\n",
       " device(type='cuda', index=1))"
      ]
     },
     "execution_count": 7,
     "metadata": {},
     "output_type": "execute_result"
    }
   ],
   "source": [
    "import torch\n",
    "\n",
    "def cpu():\n",
    "    return torch.device('cpu')\n",
    "def gpu(i=0):\n",
    "    return torch.device(f'cuda:{i}')\n",
    "cpu(), gpu(), gpu(1)"
   ]
  },
  {
   "cell_type": "code",
   "execution_count": 8,
   "metadata": {
    "id": "VQ1tIEgDyCJb"
   },
   "outputs": [
    {
     "data": {
      "text/plain": [
       "0"
      ]
     },
     "execution_count": 8,
     "metadata": {},
     "output_type": "execute_result"
    }
   ],
   "source": [
    "\n",
    "def num_gpus():\n",
    "    return torch.cuda.device_count()\n",
    "num_gpus()"
   ]
  },
  {
   "cell_type": "code",
   "execution_count": 9,
   "metadata": {
    "id": "TvERoforv2qS"
   },
   "outputs": [
    {
     "name": "stdout",
     "output_type": "stream",
     "text": [
      "Your runtime has 34.0 gigabytes of available RAM\n",
      "\n",
      "You are using a high-RAM runtime!\n"
     ]
    }
   ],
   "source": [
    "from psutil import virtual_memory\n",
    "ram_gb = virtual_memory().total / 1e9\n",
    "print('Your runtime has {:.1f} gigabytes of available RAM\\n'.format(ram_gb))\n",
    "\n",
    "if ram_gb < 20:\n",
    "  print('Not using a high-RAM runtime')\n",
    "else:\n",
    "  print('You are using a high-RAM runtime!')"
   ]
  },
  {
   "cell_type": "code",
   "execution_count": 10,
   "metadata": {
    "id": "PdgBa6qK3nup"
   },
   "outputs": [],
   "source": [
    "# #@title Login to HuggingFace hub so we can save our trained model checkpoints\n",
    "# !huggingface-cli login"
   ]
  },
  {
   "cell_type": "code",
   "execution_count": null,
   "metadata": {
    "id": "GWoh-cGbnWpM"
   },
   "outputs": [],
   "source": []
  },
  {
   "cell_type": "markdown",
   "metadata": {
    "id": "kWYic8VNyDNU"
   },
   "source": [
    "## Load dataset\n",
    "\n",
    "Next, let's load the dataset from the [hub](https://huggingface.co/datasets/ivelin/rico_refexp_combined). We're prepared a RICO based dataset with combined synthetic and crowdsourced UI referring expressions. The first 15K samples in the dataset are crowdsourced. The rest of the 350K samples are synthetically generated.\n"
   ]
  },
  {
   "cell_type": "code",
   "execution_count": 11,
   "metadata": {
    "id": "5hU27XC2yEot"
   },
   "outputs": [],
   "source": [
    "REFEXP_DATASET_NAME = \"ivelin/rico_refexp_combined\"\n",
    "\n",
    "# Pick which pretrained checkpoint to start the fine tuning process from\n",
    "REFEXP_MODEL_CHECKPOINT = 'ivelin/donut-refexp-combined-v1'\n",
    "REFEXP_MODEL_CP_BRANCH = 'main' \n",
    "# revision: '348ddad8e958d370b7e341acd6050330faa0500f' # Iou = 0.47\n",
    "# revision: '41210d7c42a22e77711711ec45508a6b63ec380f'# : IoU=0.42 # \n",
    "# use 'main' for latest revision\n",
    "\n",
    "# REFEXP_MODEL_CHECKPOINT = \"ivelin/donut-refexp-draft\"\n",
    "# REFEXP_MODEL_CHECKPOINT = \"naver-clova-ix/donut-base\"\n",
    "# REFEXP_MODEL_CHECKPOINT = \"ivelin/donut-docvqa-demo\"\n"
   ]
  },
  {
   "cell_type": "code",
   "execution_count": 12,
   "metadata": {
    "id": "hSguzMVA-KCj"
   },
   "outputs": [
    {
     "data": {
      "application/vnd.jupyter.widget-view+json": {
       "model_id": "80750a7116e24e518cfdfd051c2378f4",
       "version_major": 2,
       "version_minor": 0
      },
      "text/plain": [
       "Downloading readme:   0%|          | 0.00/1.08k [00:00<?, ?B/s]"
      ]
     },
     "metadata": {},
     "output_type": "display_data"
    },
    {
     "name": "stdout",
     "output_type": "stream",
     "text": [
      "Downloading and preparing dataset None/None to C:/Users/evgenii.saurov/.cache/huggingface/datasets/ivelin___parquet/ivelin--rico_refexp_combined-00b3f39c0a84947d/0.0.0/2a3b91fbd88a2c90d1dbbb32b460cf621d31bd5b05b934492fdef7d8d6f236ec...\n"
     ]
    },
    {
     "name": "stderr",
     "output_type": "stream",
     "text": [
      "Setting num_proc from 8 back to 1 for the test split to disable multiprocessing as it only contains one shard.\n"
     ]
    },
    {
     "data": {
      "application/vnd.jupyter.widget-view+json": {
       "model_id": "",
       "version_major": 2,
       "version_minor": 0
      },
      "text/plain": [
       "Generating test split:   0%|          | 0/3912 [00:00<?, ? examples/s]"
      ]
     },
     "metadata": {},
     "output_type": "display_data"
    },
    {
     "data": {
      "application/vnd.jupyter.widget-view+json": {
       "model_id": "",
       "version_major": 2,
       "version_minor": 0
      },
      "text/plain": [
       "Generating train split:   0%|          | 0/390084 [00:00<?, ? examples/s]"
      ]
     },
     "metadata": {},
     "output_type": "display_data"
    },
    {
     "name": "stderr",
     "output_type": "stream",
     "text": [
      "Setting num_proc from 8 back to 1 for the validation split to disable multiprocessing as it only contains one shard.\n"
     ]
    },
    {
     "data": {
      "application/vnd.jupyter.widget-view+json": {
       "model_id": "",
       "version_major": 2,
       "version_minor": 0
      },
      "text/plain": [
       "Generating validation split:   0%|          | 0/3191 [00:00<?, ? examples/s]"
      ]
     },
     "metadata": {},
     "output_type": "display_data"
    },
    {
     "name": "stdout",
     "output_type": "stream",
     "text": [
      "Dataset parquet downloaded and prepared to C:/Users/evgenii.saurov/.cache/huggingface/datasets/ivelin___parquet/ivelin--rico_refexp_combined-00b3f39c0a84947d/0.0.0/2a3b91fbd88a2c90d1dbbb32b460cf621d31bd5b05b934492fdef7d8d6f236ec. Subsequent calls will reuse this data.\n"
     ]
    },
    {
     "data": {
      "application/vnd.jupyter.widget-view+json": {
       "model_id": "0e925e7301d34fcea63540e5a9cfff29",
       "version_major": 2,
       "version_minor": 0
      },
      "text/plain": [
       "  0%|          | 0/3 [00:00<?, ?it/s]"
      ]
     },
     "metadata": {},
     "output_type": "display_data"
    }
   ],
   "source": [
    "from datasets import load_dataset\n",
    "\n",
    "dataset = load_dataset(REFEXP_DATASET_NAME, num_proc=8)"
   ]
  },
  {
   "cell_type": "markdown",
   "metadata": {
    "id": "wjI5uyk48V-g"
   },
   "source": [
    "As can be seen, the dataset contains a training, a validation and a test split. And each example consists of an image, a prompt, and a target bounding box."
   ]
  },
  {
   "cell_type": "code",
   "execution_count": 16,
   "metadata": {
    "id": "1DYk7tDBy-ys"
   },
   "outputs": [
    {
     "name": "stdout",
     "output_type": "stream",
     "text": [
      "DatasetInfo(description='', citation='', homepage='', license='', features={'image': Image(decode=True, id=None), 'image_id': Value(dtype='string', id=None), 'prompt': Value(dtype='string', id=None), 'target_bounding_box': {'xmax': Value(dtype='float64', id=None), 'xmin': Value(dtype='float64', id=None), 'ymax': Value(dtype='float64', id=None), 'ymin': Value(dtype='float64', id=None)}}, post_processed=None, supervised_keys=None, task_templates=None, builder_name=None, config_name=None, version=None, splits={'test': SplitInfo(name='test', num_bytes=456367852, num_examples=3912, shard_lengths=None, dataset_name='parquet'), 'train': SplitInfo(name='train', num_bytes=42129003316, num_examples=390084, shard_lengths=[4590, 4590, 4590, 4590, 9180, 9180, 4590, 9180, 9180, 9180, 4590, 9180, 4590, 9178, 4589, 4589, 9178, 9178, 9178, 9178, 4589, 4589, 9178, 4589, 4589, 9178, 9178, 9178, 4589, 9178, 9178, 4589, 9178, 9178, 9178, 4589, 9178, 4589, 4589, 9178, 9178, 4589, 9178, 4589, 9178, 9178, 9178, 4589, 4589, 9178, 4589, 4589, 9178, 9178, 4589], dataset_name='parquet'), 'validation': SplitInfo(name='validation', num_bytes=409057163, num_examples=3191, shard_lengths=None, dataset_name='parquet')}, download_checksums={'https://huggingface.co/datasets/ivelin/rico_refexp_combined/resolve/89a10374941b0e80d75ae00ad6ca81d7b67e33ac/data/test-00000-of-00001-09f7223bee6a973d.parquet': {'num_bytes': 318595519, 'checksum': None}, 'https://huggingface.co/datasets/ivelin/rico_refexp_combined/resolve/89a10374941b0e80d75ae00ad6ca81d7b67e33ac/data/train-00000-of-00085-f3461cdd9dc9472d.parquet': {'num_bytes': 433640875, 'checksum': None}, 'https://huggingface.co/datasets/ivelin/rico_refexp_combined/resolve/89a10374941b0e80d75ae00ad6ca81d7b67e33ac/data/train-00001-of-00085-5020257913158460.parquet': {'num_bytes': 424785562, 'checksum': None}, 'https://huggingface.co/datasets/ivelin/rico_refexp_combined/resolve/89a10374941b0e80d75ae00ad6ca81d7b67e33ac/data/train-00002-of-00085-a20edafbec0b704f.parquet': {'num_bytes': 434432898, 'checksum': None}, 'https://huggingface.co/datasets/ivelin/rico_refexp_combined/resolve/89a10374941b0e80d75ae00ad6ca81d7b67e33ac/data/train-00003-of-00085-b81946b76e056cf4.parquet': {'num_bytes': 373085441, 'checksum': None}, 'https://huggingface.co/datasets/ivelin/rico_refexp_combined/resolve/89a10374941b0e80d75ae00ad6ca81d7b67e33ac/data/train-00004-of-00085-2c7a2f400a85d114.parquet': {'num_bytes': 301731775, 'checksum': None}, 'https://huggingface.co/datasets/ivelin/rico_refexp_combined/resolve/89a10374941b0e80d75ae00ad6ca81d7b67e33ac/data/train-00005-of-00085-abefdcdb0b1adbaa.parquet': {'num_bytes': 269861229, 'checksum': None}, 'https://huggingface.co/datasets/ivelin/rico_refexp_combined/resolve/89a10374941b0e80d75ae00ad6ca81d7b67e33ac/data/train-00006-of-00085-36df8ccf502abdab.parquet': {'num_bytes': 268812418, 'checksum': None}, 'https://huggingface.co/datasets/ivelin/rico_refexp_combined/resolve/89a10374941b0e80d75ae00ad6ca81d7b67e33ac/data/train-00007-of-00085-f2349a4d9c8faac0.parquet': {'num_bytes': 266539933, 'checksum': None}, 'https://huggingface.co/datasets/ivelin/rico_refexp_combined/resolve/89a10374941b0e80d75ae00ad6ca81d7b67e33ac/data/train-00008-of-00085-e3435f6a9371b2de.parquet': {'num_bytes': 346235984, 'checksum': None}, 'https://huggingface.co/datasets/ivelin/rico_refexp_combined/resolve/89a10374941b0e80d75ae00ad6ca81d7b67e33ac/data/train-00009-of-00085-6316245cccc68c06.parquet': {'num_bytes': 299331628, 'checksum': None}, 'https://huggingface.co/datasets/ivelin/rico_refexp_combined/resolve/89a10374941b0e80d75ae00ad6ca81d7b67e33ac/data/train-00010-of-00085-e29edd7943eea668.parquet': {'num_bytes': 307812745, 'checksum': None}, 'https://huggingface.co/datasets/ivelin/rico_refexp_combined/resolve/89a10374941b0e80d75ae00ad6ca81d7b67e33ac/data/train-00011-of-00085-afb4ae70e43ebf8c.parquet': {'num_bytes': 304277452, 'checksum': None}, 'https://huggingface.co/datasets/ivelin/rico_refexp_combined/resolve/89a10374941b0e80d75ae00ad6ca81d7b67e33ac/data/train-00012-of-00085-c46f70504573fdb6.parquet': {'num_bytes': 294968797, 'checksum': None}, 'https://huggingface.co/datasets/ivelin/rico_refexp_combined/resolve/89a10374941b0e80d75ae00ad6ca81d7b67e33ac/data/train-00013-of-00085-ff77dd39650811bc.parquet': {'num_bytes': 278419794, 'checksum': None}, 'https://huggingface.co/datasets/ivelin/rico_refexp_combined/resolve/89a10374941b0e80d75ae00ad6ca81d7b67e33ac/data/train-00014-of-00085-b5cc0d0467e4753a.parquet': {'num_bytes': 301589114, 'checksum': None}, 'https://huggingface.co/datasets/ivelin/rico_refexp_combined/resolve/89a10374941b0e80d75ae00ad6ca81d7b67e33ac/data/train-00015-of-00085-f45399d1640a5c7d.parquet': {'num_bytes': 318887087, 'checksum': None}, 'https://huggingface.co/datasets/ivelin/rico_refexp_combined/resolve/89a10374941b0e80d75ae00ad6ca81d7b67e33ac/data/train-00016-of-00085-f61d343a34f372c3.parquet': {'num_bytes': 298126959, 'checksum': None}, 'https://huggingface.co/datasets/ivelin/rico_refexp_combined/resolve/89a10374941b0e80d75ae00ad6ca81d7b67e33ac/data/train-00017-of-00085-4c1614a15d72588f.parquet': {'num_bytes': 329461507, 'checksum': None}, 'https://huggingface.co/datasets/ivelin/rico_refexp_combined/resolve/89a10374941b0e80d75ae00ad6ca81d7b67e33ac/data/train-00018-of-00085-7d712fa6bacf1be6.parquet': {'num_bytes': 329127922, 'checksum': None}, 'https://huggingface.co/datasets/ivelin/rico_refexp_combined/resolve/89a10374941b0e80d75ae00ad6ca81d7b67e33ac/data/train-00019-of-00085-c6f5d160ab4aacd0.parquet': {'num_bytes': 309810836, 'checksum': None}, 'https://huggingface.co/datasets/ivelin/rico_refexp_combined/resolve/89a10374941b0e80d75ae00ad6ca81d7b67e33ac/data/train-00020-of-00085-aba217cf9aff5a96.parquet': {'num_bytes': 341483955, 'checksum': None}, 'https://huggingface.co/datasets/ivelin/rico_refexp_combined/resolve/89a10374941b0e80d75ae00ad6ca81d7b67e33ac/data/train-00021-of-00085-d9faf8d93228ee38.parquet': {'num_bytes': 302754967, 'checksum': None}, 'https://huggingface.co/datasets/ivelin/rico_refexp_combined/resolve/89a10374941b0e80d75ae00ad6ca81d7b67e33ac/data/train-00022-of-00085-44a73a9c9d387e6f.parquet': {'num_bytes': 350627314, 'checksum': None}, 'https://huggingface.co/datasets/ivelin/rico_refexp_combined/resolve/89a10374941b0e80d75ae00ad6ca81d7b67e33ac/data/train-00023-of-00085-0f9544edaf7b3579.parquet': {'num_bytes': 297499654, 'checksum': None}, 'https://huggingface.co/datasets/ivelin/rico_refexp_combined/resolve/89a10374941b0e80d75ae00ad6ca81d7b67e33ac/data/train-00024-of-00085-085b60d193066cec.parquet': {'num_bytes': 314512166, 'checksum': None}, 'https://huggingface.co/datasets/ivelin/rico_refexp_combined/resolve/89a10374941b0e80d75ae00ad6ca81d7b67e33ac/data/train-00025-of-00085-b118200ea7712571.parquet': {'num_bytes': 313525723, 'checksum': None}, 'https://huggingface.co/datasets/ivelin/rico_refexp_combined/resolve/89a10374941b0e80d75ae00ad6ca81d7b67e33ac/data/train-00026-of-00085-0974085cd10d5212.parquet': {'num_bytes': 297211405, 'checksum': None}, 'https://huggingface.co/datasets/ivelin/rico_refexp_combined/resolve/89a10374941b0e80d75ae00ad6ca81d7b67e33ac/data/train-00027-of-00085-8e8451c9c7ce84f8.parquet': {'num_bytes': 317699054, 'checksum': None}, 'https://huggingface.co/datasets/ivelin/rico_refexp_combined/resolve/89a10374941b0e80d75ae00ad6ca81d7b67e33ac/data/train-00028-of-00085-004e2c0b08e72700.parquet': {'num_bytes': 301972034, 'checksum': None}, 'https://huggingface.co/datasets/ivelin/rico_refexp_combined/resolve/89a10374941b0e80d75ae00ad6ca81d7b67e33ac/data/train-00029-of-00085-f6f383e0af20885b.parquet': {'num_bytes': 272795305, 'checksum': None}, 'https://huggingface.co/datasets/ivelin/rico_refexp_combined/resolve/89a10374941b0e80d75ae00ad6ca81d7b67e33ac/data/train-00030-of-00085-2ff75a6dc18e0c2a.parquet': {'num_bytes': 279730174, 'checksum': None}, 'https://huggingface.co/datasets/ivelin/rico_refexp_combined/resolve/89a10374941b0e80d75ae00ad6ca81d7b67e33ac/data/train-00031-of-00085-5828e10715c6c6c7.parquet': {'num_bytes': 342958312, 'checksum': None}, 'https://huggingface.co/datasets/ivelin/rico_refexp_combined/resolve/89a10374941b0e80d75ae00ad6ca81d7b67e33ac/data/train-00032-of-00085-f2dab9ee4a37bd34.parquet': {'num_bytes': 310556011, 'checksum': None}, 'https://huggingface.co/datasets/ivelin/rico_refexp_combined/resolve/89a10374941b0e80d75ae00ad6ca81d7b67e33ac/data/train-00033-of-00085-7c77d4fe34cf1e3b.parquet': {'num_bytes': 298577583, 'checksum': None}, 'https://huggingface.co/datasets/ivelin/rico_refexp_combined/resolve/89a10374941b0e80d75ae00ad6ca81d7b67e33ac/data/train-00034-of-00085-ee83893ea2e93ed4.parquet': {'num_bytes': 315922851, 'checksum': None}, 'https://huggingface.co/datasets/ivelin/rico_refexp_combined/resolve/89a10374941b0e80d75ae00ad6ca81d7b67e33ac/data/train-00035-of-00085-7bf2291ff8c8d050.parquet': {'num_bytes': 326038384, 'checksum': None}, 'https://huggingface.co/datasets/ivelin/rico_refexp_combined/resolve/89a10374941b0e80d75ae00ad6ca81d7b67e33ac/data/train-00036-of-00085-70c0155592cbfef4.parquet': {'num_bytes': 307408570, 'checksum': None}, 'https://huggingface.co/datasets/ivelin/rico_refexp_combined/resolve/89a10374941b0e80d75ae00ad6ca81d7b67e33ac/data/train-00037-of-00085-9d9274b43c3f1fea.parquet': {'num_bytes': 301471337, 'checksum': None}, 'https://huggingface.co/datasets/ivelin/rico_refexp_combined/resolve/89a10374941b0e80d75ae00ad6ca81d7b67e33ac/data/train-00038-of-00085-119bb86b50c598f8.parquet': {'num_bytes': 316542117, 'checksum': None}, 'https://huggingface.co/datasets/ivelin/rico_refexp_combined/resolve/89a10374941b0e80d75ae00ad6ca81d7b67e33ac/data/train-00039-of-00085-662441692a1d98e5.parquet': {'num_bytes': 309085814, 'checksum': None}, 'https://huggingface.co/datasets/ivelin/rico_refexp_combined/resolve/89a10374941b0e80d75ae00ad6ca81d7b67e33ac/data/train-00040-of-00085-d5e992ce1ffac8d8.parquet': {'num_bytes': 302986894, 'checksum': None}, 'https://huggingface.co/datasets/ivelin/rico_refexp_combined/resolve/89a10374941b0e80d75ae00ad6ca81d7b67e33ac/data/train-00041-of-00085-993e9407a78ecd99.parquet': {'num_bytes': 315567316, 'checksum': None}, 'https://huggingface.co/datasets/ivelin/rico_refexp_combined/resolve/89a10374941b0e80d75ae00ad6ca81d7b67e33ac/data/train-00042-of-00085-3158ac24e0062a4f.parquet': {'num_bytes': 307725892, 'checksum': None}, 'https://huggingface.co/datasets/ivelin/rico_refexp_combined/resolve/89a10374941b0e80d75ae00ad6ca81d7b67e33ac/data/train-00043-of-00085-027de7560b6666f7.parquet': {'num_bytes': 288240343, 'checksum': None}, 'https://huggingface.co/datasets/ivelin/rico_refexp_combined/resolve/89a10374941b0e80d75ae00ad6ca81d7b67e33ac/data/train-00044-of-00085-ed90ca1e63ec8765.parquet': {'num_bytes': 294380475, 'checksum': None}, 'https://huggingface.co/datasets/ivelin/rico_refexp_combined/resolve/89a10374941b0e80d75ae00ad6ca81d7b67e33ac/data/train-00045-of-00085-46bd0dc94c0ca4f5.parquet': {'num_bytes': 307441278, 'checksum': None}, 'https://huggingface.co/datasets/ivelin/rico_refexp_combined/resolve/89a10374941b0e80d75ae00ad6ca81d7b67e33ac/data/train-00046-of-00085-cd675cb2d1026ac9.parquet': {'num_bytes': 317835930, 'checksum': None}, 'https://huggingface.co/datasets/ivelin/rico_refexp_combined/resolve/89a10374941b0e80d75ae00ad6ca81d7b67e33ac/data/train-00047-of-00085-3ad4b6ff88f9cccb.parquet': {'num_bytes': 320683120, 'checksum': None}, 'https://huggingface.co/datasets/ivelin/rico_refexp_combined/resolve/89a10374941b0e80d75ae00ad6ca81d7b67e33ac/data/train-00048-of-00085-7ba89fba4fa4e54e.parquet': {'num_bytes': 307588463, 'checksum': None}, 'https://huggingface.co/datasets/ivelin/rico_refexp_combined/resolve/89a10374941b0e80d75ae00ad6ca81d7b67e33ac/data/train-00049-of-00085-56e8c13ca25be49e.parquet': {'num_bytes': 293076861, 'checksum': None}, 'https://huggingface.co/datasets/ivelin/rico_refexp_combined/resolve/89a10374941b0e80d75ae00ad6ca81d7b67e33ac/data/train-00050-of-00085-9480a865de2a2a93.parquet': {'num_bytes': 329763947, 'checksum': None}, 'https://huggingface.co/datasets/ivelin/rico_refexp_combined/resolve/89a10374941b0e80d75ae00ad6ca81d7b67e33ac/data/train-00051-of-00085-9ee3b0a1d9d24b94.parquet': {'num_bytes': 308444925, 'checksum': None}, 'https://huggingface.co/datasets/ivelin/rico_refexp_combined/resolve/89a10374941b0e80d75ae00ad6ca81d7b67e33ac/data/train-00052-of-00085-3176544695ea7ea2.parquet': {'num_bytes': 323710848, 'checksum': None}, 'https://huggingface.co/datasets/ivelin/rico_refexp_combined/resolve/89a10374941b0e80d75ae00ad6ca81d7b67e33ac/data/train-00053-of-00085-97e67510fd41a096.parquet': {'num_bytes': 293805829, 'checksum': None}, 'https://huggingface.co/datasets/ivelin/rico_refexp_combined/resolve/89a10374941b0e80d75ae00ad6ca81d7b67e33ac/data/train-00054-of-00085-bd4c58384a3184f9.parquet': {'num_bytes': 331830595, 'checksum': None}, 'https://huggingface.co/datasets/ivelin/rico_refexp_combined/resolve/89a10374941b0e80d75ae00ad6ca81d7b67e33ac/data/train-00055-of-00085-4d49517bfec48823.parquet': {'num_bytes': 316817621, 'checksum': None}, 'https://huggingface.co/datasets/ivelin/rico_refexp_combined/resolve/89a10374941b0e80d75ae00ad6ca81d7b67e33ac/data/train-00056-of-00085-da74c6080357bd65.parquet': {'num_bytes': 305857357, 'checksum': None}, 'https://huggingface.co/datasets/ivelin/rico_refexp_combined/resolve/89a10374941b0e80d75ae00ad6ca81d7b67e33ac/data/train-00057-of-00085-8ea752de4522fdf8.parquet': {'num_bytes': 288192616, 'checksum': None}, 'https://huggingface.co/datasets/ivelin/rico_refexp_combined/resolve/89a10374941b0e80d75ae00ad6ca81d7b67e33ac/data/train-00058-of-00085-4b7a4d278cb054de.parquet': {'num_bytes': 314691484, 'checksum': None}, 'https://huggingface.co/datasets/ivelin/rico_refexp_combined/resolve/89a10374941b0e80d75ae00ad6ca81d7b67e33ac/data/train-00059-of-00085-5d32879f1376f1aa.parquet': {'num_bytes': 308072949, 'checksum': None}, 'https://huggingface.co/datasets/ivelin/rico_refexp_combined/resolve/89a10374941b0e80d75ae00ad6ca81d7b67e33ac/data/train-00060-of-00085-f053dcb46aed8ec7.parquet': {'num_bytes': 289703573, 'checksum': None}, 'https://huggingface.co/datasets/ivelin/rico_refexp_combined/resolve/89a10374941b0e80d75ae00ad6ca81d7b67e33ac/data/train-00061-of-00085-be2cc647a6c6c3f8.parquet': {'num_bytes': 329809330, 'checksum': None}, 'https://huggingface.co/datasets/ivelin/rico_refexp_combined/resolve/89a10374941b0e80d75ae00ad6ca81d7b67e33ac/data/train-00062-of-00085-189a11f9a522fd67.parquet': {'num_bytes': 303422957, 'checksum': None}, 'https://huggingface.co/datasets/ivelin/rico_refexp_combined/resolve/89a10374941b0e80d75ae00ad6ca81d7b67e33ac/data/train-00063-of-00085-b53b6ea53c606167.parquet': {'num_bytes': 288740583, 'checksum': None}, 'https://huggingface.co/datasets/ivelin/rico_refexp_combined/resolve/89a10374941b0e80d75ae00ad6ca81d7b67e33ac/data/train-00064-of-00085-8b8ecfc949d19bd0.parquet': {'num_bytes': 289757439, 'checksum': None}, 'https://huggingface.co/datasets/ivelin/rico_refexp_combined/resolve/89a10374941b0e80d75ae00ad6ca81d7b67e33ac/data/train-00065-of-00085-7e845d8c6a855b21.parquet': {'num_bytes': 289634432, 'checksum': None}, 'https://huggingface.co/datasets/ivelin/rico_refexp_combined/resolve/89a10374941b0e80d75ae00ad6ca81d7b67e33ac/data/train-00066-of-00085-c42b5fbc1e41e2d2.parquet': {'num_bytes': 333352894, 'checksum': None}, 'https://huggingface.co/datasets/ivelin/rico_refexp_combined/resolve/89a10374941b0e80d75ae00ad6ca81d7b67e33ac/data/train-00067-of-00085-2c5d28877df175d3.parquet': {'num_bytes': 321251738, 'checksum': None}, 'https://huggingface.co/datasets/ivelin/rico_refexp_combined/resolve/89a10374941b0e80d75ae00ad6ca81d7b67e33ac/data/train-00068-of-00085-fd669d0b74258fe0.parquet': {'num_bytes': 302634054, 'checksum': None}, 'https://huggingface.co/datasets/ivelin/rico_refexp_combined/resolve/89a10374941b0e80d75ae00ad6ca81d7b67e33ac/data/train-00069-of-00085-4ffd8f0e8e2b52a5.parquet': {'num_bytes': 292886221, 'checksum': None}, 'https://huggingface.co/datasets/ivelin/rico_refexp_combined/resolve/89a10374941b0e80d75ae00ad6ca81d7b67e33ac/data/train-00070-of-00085-39db9f54b44d6d5d.parquet': {'num_bytes': 300465060, 'checksum': None}, 'https://huggingface.co/datasets/ivelin/rico_refexp_combined/resolve/89a10374941b0e80d75ae00ad6ca81d7b67e33ac/data/train-00071-of-00085-54c3fc5af53319f0.parquet': {'num_bytes': 300059144, 'checksum': None}, 'https://huggingface.co/datasets/ivelin/rico_refexp_combined/resolve/89a10374941b0e80d75ae00ad6ca81d7b67e33ac/data/train-00072-of-00085-d4e10642217ea413.parquet': {'num_bytes': 284487577, 'checksum': None}, 'https://huggingface.co/datasets/ivelin/rico_refexp_combined/resolve/89a10374941b0e80d75ae00ad6ca81d7b67e33ac/data/train-00073-of-00085-5f8b5091b568771c.parquet': {'num_bytes': 322014304, 'checksum': None}, 'https://huggingface.co/datasets/ivelin/rico_refexp_combined/resolve/89a10374941b0e80d75ae00ad6ca81d7b67e33ac/data/train-00074-of-00085-91d2bb92aa1db45d.parquet': {'num_bytes': 316728998, 'checksum': None}, 'https://huggingface.co/datasets/ivelin/rico_refexp_combined/resolve/89a10374941b0e80d75ae00ad6ca81d7b67e33ac/data/train-00075-of-00085-e13ba5f653a686a1.parquet': {'num_bytes': 332067056, 'checksum': None}, 'https://huggingface.co/datasets/ivelin/rico_refexp_combined/resolve/89a10374941b0e80d75ae00ad6ca81d7b67e33ac/data/train-00076-of-00085-299618a0f1263427.parquet': {'num_bytes': 301582242, 'checksum': None}, 'https://huggingface.co/datasets/ivelin/rico_refexp_combined/resolve/89a10374941b0e80d75ae00ad6ca81d7b67e33ac/data/train-00077-of-00085-22f7f3479a1919c0.parquet': {'num_bytes': 302924005, 'checksum': None}, 'https://huggingface.co/datasets/ivelin/rico_refexp_combined/resolve/89a10374941b0e80d75ae00ad6ca81d7b67e33ac/data/train-00078-of-00085-a8e102ed84ab94a1.parquet': {'num_bytes': 359427940, 'checksum': None}, 'https://huggingface.co/datasets/ivelin/rico_refexp_combined/resolve/89a10374941b0e80d75ae00ad6ca81d7b67e33ac/data/train-00079-of-00085-ac326da56258d9f5.parquet': {'num_bytes': 331201495, 'checksum': None}, 'https://huggingface.co/datasets/ivelin/rico_refexp_combined/resolve/89a10374941b0e80d75ae00ad6ca81d7b67e33ac/data/train-00080-of-00085-358b4ea3c0ddd139.parquet': {'num_bytes': 278258727, 'checksum': None}, 'https://huggingface.co/datasets/ivelin/rico_refexp_combined/resolve/89a10374941b0e80d75ae00ad6ca81d7b67e33ac/data/train-00081-of-00085-fa452125ac2ef07d.parquet': {'num_bytes': 319102965, 'checksum': None}, 'https://huggingface.co/datasets/ivelin/rico_refexp_combined/resolve/89a10374941b0e80d75ae00ad6ca81d7b67e33ac/data/train-00082-of-00085-286c5bf9065384d5.parquet': {'num_bytes': 299899585, 'checksum': None}, 'https://huggingface.co/datasets/ivelin/rico_refexp_combined/resolve/89a10374941b0e80d75ae00ad6ca81d7b67e33ac/data/train-00083-of-00085-162dd5c5d7ab8a7d.parquet': {'num_bytes': 305128811, 'checksum': None}, 'https://huggingface.co/datasets/ivelin/rico_refexp_combined/resolve/89a10374941b0e80d75ae00ad6ca81d7b67e33ac/data/train-00084-of-00085-b015e42a159bcc0d.parquet': {'num_bytes': 300122796, 'checksum': None}, 'https://huggingface.co/datasets/ivelin/rico_refexp_combined/resolve/89a10374941b0e80d75ae00ad6ca81d7b67e33ac/data/validation-00000-of-00001-6231b5fbb365cd26.parquet': {'num_bytes': 284902161, 'checksum': None}}, download_size=27184189035, post_processing_size=None, dataset_size=42994428331, size_in_bytes=70178617366)\n"
     ]
    }
   ],
   "source": [
    "print(dataset['train'].info)\n",
    "# print(dataset)\n"
   ]
  },
  {
   "cell_type": "code",
   "execution_count": 17,
   "metadata": {},
   "outputs": [
    {
     "data": {
      "text/plain": [
       "{'image': <PIL.JpegImagePlugin.JpegImageFile image mode=RGB size=540x960>,\n",
       " 'image_id': '36017',\n",
       " 'prompt': 'go to next',\n",
       " 'target_bounding_box': {'xmax': 1.0,\n",
       "  'xmin': 0.8759258985519409,\n",
       "  'ymax': 0.1041666641831398,\n",
       "  'ymin': 0.03854166716337204}}"
      ]
     },
     "execution_count": 17,
     "metadata": {},
     "output_type": "execute_result"
    }
   ],
   "source": [
    "dataset[\"train\"][49]"
   ]
  },
  {
   "cell_type": "code",
   "execution_count": null,
   "metadata": {},
   "outputs": [],
   "source": []
  },
  {
   "cell_type": "code",
   "execution_count": 14,
   "metadata": {
    "id": "6f2fjxGaHWli"
   },
   "outputs": [
    {
     "name": "stdout",
     "output_type": "stream",
     "text": [
      "image width, height: (540, 960)\n",
      "prompt: go to next\n",
      "target bounding box: {'xmax': 1.0, 'xmin': 0.8759258985519409, 'ymax': 0.1041666641831398, 'ymin': 0.03854166716337204}\n",
      "to image pixel values: xmin, ymin, xmax, ymax: (472, 37, 540, 99)\n"
     ]
    },
    {
     "data": {
      "image/png": "[encoded data removed]",
      "text/plain": [
       "<PIL.Image.Image image mode=RGB size=270x480>"
      ]
     },
     "execution_count": 14,
     "metadata": {},
     "output_type": "execute_result"
    }
   ],
   "source": [
    "#@title Let's look at a sample in the dataset\n",
    "import math\n",
    "import json\n",
    "from PIL import Image, ImageDraw\n",
    "\n",
    "# change this index from 0 to split size to see different samples\n",
    "sample = dataset['train'][49]\n",
    "image = sample['image']\n",
    "width, height = image.size\n",
    "print(f\"image width, height: {width, height}\")\n",
    "print(f\"prompt: {sample['prompt']}\")\n",
    "\n",
    "# bb = json.loads(sample[\"target_bounding_box\"])\n",
    "bb = sample[\"target_bounding_box\"]\n",
    "\n",
    "\n",
    "print(f\"target bounding box: {bb}\")\n",
    "\n",
    "xmin = math.floor(width*bb[\"xmin\"])\n",
    "ymin = math.floor(height*bb[\"ymin\"])\n",
    "xmax = math.floor(width*bb[\"xmax\"])\n",
    "ymax = math.floor(height*bb[\"ymax\"])\n",
    "\n",
    "print(f\"to image pixel values: xmin, ymin, xmax, ymax: {xmin, ymin, xmax, ymax}\")\n",
    "\n",
    "shape = [(xmin, ymin), (xmax, ymax)]\n",
    "\n",
    "# create rectangle image\n",
    "img1 = ImageDraw.Draw(image)  \n",
    "img1.rectangle(shape, outline =\"green\", width=5)\n",
    "image.resize((int(width*0.5), int(height*0.5)))\n"
   ]
  },
  {
   "cell_type": "markdown",
   "metadata": {},
   "source": [
    "### Desktop dataset"
   ]
  },
  {
   "cell_type": "code",
   "execution_count": 186,
   "metadata": {},
   "outputs": [],
   "source": [
    "import base64\n",
    "from io import BytesIO\n",
    "from PIL import Image\n",
    "\n",
    "def base64_to_pil_image(base64_string):\n",
    "    # Decode the base64 string to bytes\n",
    "    image_bytes = base64.b64decode(base64_string)\n",
    "\n",
    "    # Open a BytesIO stream to read the decoded bytes\n",
    "    stream = BytesIO(image_bytes)\n",
    "\n",
    "    # Open the image using PIL and return it\n",
    "    return Image.open(stream)"
   ]
  },
  {
   "cell_type": "code",
   "execution_count": 206,
   "metadata": {},
   "outputs": [],
   "source": [
    "import pandas as pd\n",
    "PATH: str = \"./dataset/full_prepared_dataset.tsv\"\n",
    "PATH_TRAIN: str = \"./dataset/train.tsv\"\n",
    "PATH_TEST: str = \"./dataset/test.tsv\"\n",
    "PATH_VAL: str = \"./dataset/val.tsv\"\n",
    "SEP: str = \"\\t\"\n",
    "desktop_dataset = pd.read_csv(PATH, sep=SEP)\n",
    "train_dataset = pd.read_csv(PATH_TRAIN, sep=SEP)\n",
    "test_dataset = pd.read_csv(PATH_TEST, sep=SEP)\n",
    "val_dataset = pd.read_csv(PATH_VAL, sep=SEP)"
   ]
  },
  {
   "cell_type": "code",
   "execution_count": 207,
   "metadata": {},
   "outputs": [],
   "source": [
    "import ast\n",
    "desktop_dataset[\"target_bounding_box\"] = desktop_dataset[\"target_bounding_box\"].apply(ast.literal_eval)\n",
    "train_dataset[\"target_bounding_box\"] = train_dataset[\"target_bounding_box\"].apply(ast.literal_eval)\n",
    "test_dataset[\"target_bounding_box\"] = test_dataset[\"target_bounding_box\"].apply(ast.literal_eval)\n",
    "val_dataset[\"target_bounding_box\"] = val_dataset[\"target_bounding_box\"].apply(ast.literal_eval)\n",
    "\n"
   ]
  },
  {
   "cell_type": "code",
   "execution_count": 208,
   "metadata": {},
   "outputs": [],
   "source": [
    "desktop_dataset[\"image\"] = desktop_dataset[\"base64\"].apply(base64_to_pil_image)\n",
    "desktop_dataset = desktop_dataset.drop(columns=[\"base64\"])\n",
    "\n",
    "train_dataset[\"image\"] = train_dataset[\"base64\"].apply(base64_to_pil_image)\n",
    "train_dataset = train_dataset.drop(columns=[\"base64\"])\n",
    "\n",
    "test_dataset[\"image\"] = test_dataset[\"base64\"].apply(base64_to_pil_image)\n",
    "test_dataset = test_dataset.drop(columns=[\"base64\"])\n",
    "\n",
    "val_dataset[\"image\"] = val_dataset[\"base64\"].apply(base64_to_pil_image)\n",
    "val_dataset = val_dataset.drop(columns=[\"base64\"])"
   ]
  },
  {
   "cell_type": "code",
   "execution_count": 209,
   "metadata": {},
   "outputs": [],
   "source": [
    "values = {}\n",
    "for i in range(0, len(desktop_dataset)-1):\n",
    "    values[i] = desktop_dataset.iloc[i].to_dict()\n",
    "    \n",
    "train_values = {}\n",
    "for i in range(0, len(train_dataset)-1):\n",
    "    train_values[i] = train_dataset.iloc[i].to_dict()\n",
    "      \n",
    "test_values = {}\n",
    "for i in range(0, len(test_dataset)-1):\n",
    "    test_values[i] = test_dataset.iloc[i].to_dict()  \n",
    "    \n",
    "val_values = {}\n",
    "for i in range(0, len(val_dataset)-1):\n",
    "    val_values[i] = val_dataset.iloc[i].to_dict()"
   ]
  },
  {
   "cell_type": "code",
   "execution_count": 210,
   "metadata": {},
   "outputs": [],
   "source": [
    "desktop_dataset_dict = {\"train\": train_values, \"test\": test_values, \"validation\": val_values}"
   ]
  },
  {
   "cell_type": "code",
   "execution_count": 211,
   "metadata": {},
   "outputs": [
    {
     "data": {
      "text/plain": [
       "{'image_id': 'excel_1',\n",
       " 'prompt': 'Data',\n",
       " 'target_bounding_box': {'xmin': 0.17873651771956856,\n",
       "  'ymin': 0.050228310502283095,\n",
       "  'xmax': 0.19619928094504363,\n",
       "  'ymax': 0.06666666666666667},\n",
       " 'image': <PIL.PngImagePlugin.PngImageFile image mode=RGB size=1920x1080>}"
      ]
     },
     "execution_count": 211,
     "metadata": {},
     "output_type": "execute_result"
    }
   ],
   "source": [
    "desktop_dataset_dict[\"train\"][0]"
   ]
  },
  {
   "cell_type": "code",
   "execution_count": 212,
   "metadata": {},
   "outputs": [
    {
     "name": "stdout",
     "output_type": "stream",
     "text": [
      "image width, height: (1921, 1080)\n",
      "prompt: OneNote\n",
      "target bounding box: {'xmin': 0.08890845070422536, 'ymin': 0.26760563380281693, 'xmax': 0.10827464788732395, 'ymax': 0.3051643192488263}\n",
      "to image pixel values: xmin, ymin, xmax, ymax: (170, 289, 207, 329)\n"
     ]
    },
    {
     "data": {
      "image/png": "[encoded data removed]",
      "text/plain": [
       "<PIL.Image.Image image mode=RGBA size=960x540>"
      ]
     },
     "execution_count": 212,
     "metadata": {},
     "output_type": "execute_result"
    }
   ],
   "source": [
    "# change this index from 0 to split size to see different samples\n",
    "sample = desktop_dataset_dict['train'][49]\n",
    "image = sample['image']\n",
    "width, height = image.size\n",
    "print(f\"image width, height: {width, height}\")\n",
    "print(f\"prompt: {sample['prompt']}\")\n",
    "\n",
    "# bb = json.loads(sample[\"target_bounding_box\"])\n",
    "bb = sample[\"target_bounding_box\"]\n",
    "\n",
    "\n",
    "print(f\"target bounding box: {bb}\")\n",
    "\n",
    "xmin = math.floor(width*bb[\"xmin\"])\n",
    "ymin = math.floor(height*bb[\"ymin\"])\n",
    "xmax = math.floor(width*bb[\"xmax\"])\n",
    "ymax = math.floor(height*bb[\"ymax\"])\n",
    "\n",
    "print(f\"to image pixel values: xmin, ymin, xmax, ymax: {xmin, ymin, xmax, ymax}\")\n",
    "\n",
    "shape = [(xmin, ymin), (xmax, ymax)]\n",
    "\n",
    "# create rectangle image\n",
    "img1 = ImageDraw.Draw(image)  \n",
    "img1.rectangle(shape, outline =\"red\", width=5)\n",
    "image.resize((int(width*0.5), int(height*0.5)))"
   ]
  },
  {
   "cell_type": "markdown",
   "metadata": {
    "id": "BCjMK93Cz3zf"
   },
   "source": [
    "## Load model and processor\n",
    "\n",
    "Next, we load the model (which is an instance of [VisionEncoderDecoderModel](https://huggingface.co/docs/transformers/model_doc/vision-encoder-decoder), and the processor, which is the object that can be used to prepare inputs for the model."
   ]
  },
  {
   "cell_type": "code",
   "execution_count": 213,
   "metadata": {
    "id": "ahkkeo8_o69z"
   },
   "outputs": [],
   "source": [
    "from transformers import VisionEncoderDecoderConfig\n",
    "\n",
    "pretrained_repo_name = REFEXP_MODEL_CHECKPOINT\n",
    "pretrained_repo_branch = REFEXP_MODEL_CP_BRANCH\n",
    "\n",
    "max_length = 128\n",
    "image_size = [1280, 960]\n",
    "\n",
    "# update image_size of the encoder\n",
    "# during pre-training, a larger image size was used\n",
    "config = VisionEncoderDecoderConfig.from_pretrained(pretrained_repo_name, branch=pretrained_repo_branch)\n",
    "config.encoder.image_size = image_size # (height, width)\n",
    "# update max_length of the decoder (for generation)\n",
    "config.decoder.max_length = max_length\n",
    "# TODO we should actually update max_position_embeddings and interpolate the pre-trained ones:\n",
    "# https://github.com/clovaai/donut/blob/0acc65a85d140852b8d9928565f0f6b2d98dc088/donut/model.py#L602"
   ]
  },
  {
   "cell_type": "markdown",
   "metadata": {},
   "source": [
    "### donut-refexp-combined-v1\n",
    "\n",
    "Instead of the VisionEncoderDecoderModel used in the original experiment, the current fine-tuning leverages the model trained by @ivelin (https://github.com/ivelin)."
   ]
  },
  {
   "cell_type": "code",
   "execution_count": 214,
   "metadata": {
    "id": "84TkZP5zz4hE"
   },
   "outputs": [],
   "source": [
    "from transformers import DonutProcessor, VisionEncoderDecoderModel, BartConfig\n",
    "\n",
    "processor = DonutProcessor.from_pretrained(pretrained_repo_name, revision=pretrained_repo_branch)\n",
    "model = VisionEncoderDecoderModel.from_pretrained(pretrained_repo_name, revision=pretrained_repo_branch, config=config)\n",
    "\n",
    "# from transformers import AutoTokenizer, AutoModel\n",
    "\n",
    "# tokenizer = AutoTokenizer.from_pretrained(\"ivelin/donut-refexp-combined-v1\")\n",
    "\n",
    "# model = AutoModel.from_pretrained(\"ivelin/donut-refexp-combined-v1\")"
   ]
  },
  {
   "cell_type": "markdown",
   "metadata": {
    "id": "PfTPbvNRCEDF"
   },
   "source": [
    "## Add special tokens\n",
    "\n",
    "For RefExp, we add special tokens for \\<prompt> \\<target_bounding_box>, \\<xmin>, \\<xmax>, \\<ymin> and \\<ymax>, to make sure that the model (actually the decoder) learns embedding vectors for those explicitly."
   ]
  },
  {
   "cell_type": "code",
   "execution_count": 215,
   "metadata": {
    "id": "CfJMb2o31AA-"
   },
   "outputs": [],
   "source": [
    "from typing import List\n",
    "\n",
    "def add_tokens(list_of_tokens: List[str]):\n",
    "    \"\"\"\n",
    "    Add tokens to tokenizer and resize the token embeddings\n",
    "    \"\"\"\n",
    "    newly_added_num = processor.tokenizer.add_tokens(list_of_tokens)\n",
    "    if newly_added_num > 0:\n",
    "        model.decoder.resize_token_embeddings(len(processor.tokenizer))"
   ]
  },
  {
   "cell_type": "markdown",
   "metadata": {
    "id": "b46s3KR-x8Iv"
   },
   "source": [
    "## Create PyTorch dataset\n",
    "\n",
    "Here we create a regular PyTorch dataset.\n",
    "\n",
    "The model doesn't directly take the (image, JSON) pairs as input and labels. Rather, we create `pixel_values`, `decoder_input_ids` and `labels`. These are all PyTorch tensors. The `pixel_values` are the input images (resized, padded and normalized), the `decoder_input_ids` are the decoder inputs, and the `labels` are the decoder targets.\n",
    "\n",
    "The reason we create the `decoder_input_ids` explicitly here is because otherwise, the model would create them automatically based on the `labels` (by prepending the decoder start token ID, replacing -100 tokens by padding tokens). The reason for that is that we don't want the model to learn to generate the entire prompt, which includes the question. Rather, we only want it to learn to generate the answer. Hence, we'll set the labels of the prompt tokens to -100.\n",
    "\n"
   ]
  },
  {
   "cell_type": "code",
   "execution_count": 203,
   "metadata": {
    "id": "7tWX_qJDvw_S"
   },
   "outputs": [],
   "source": [
    "import json\n",
    "import random\n",
    "from typing import Any, List, Tuple\n",
    "import weakref\n",
    "\n",
    "import torch\n",
    "from torch.utils.data import Dataset\n",
    "\n",
    "added_tokens = []\n",
    "\n",
    "class DonutDataset(Dataset):\n",
    "    \"\"\"\n",
    "    DonutDataset which is saved in huggingface datasets format. (see details in https://huggingface.co/docs/datasets)\n",
    "    Each row, consists of image blob, prompt and target bounding box.,\n",
    "    and it will be converted into input_tensor(vectorized image) and input_ids(tokenized string).\n",
    "    Args:\n",
    "        dataset_name_or_path: name of dataset (available at huggingface.co/datasets) or the path containing image files and metadata.jsonl\n",
    "        max_length: the max number of tokens for the target sequences\n",
    "        split: whether to load \"train\", \"validation\" or \"test\" split\n",
    "        ignore_id: ignore_index for torch.nn.CrossEntropyLoss\n",
    "        task_start_token: the special token to be fed to the decoder to conduct the target task\n",
    "        prompt_end_token: the special token at the end of the sequences\n",
    "        sort_json_key: whether or not to sort the JSON keys\n",
    "    \"\"\"\n",
    "\n",
    "    def __init__(\n",
    "        self,\n",
    "        dataset_name_or_path: str,\n",
    "        max_length: int,\n",
    "        range_samples: int = None,\n",
    "        shuffle: bool = False,\n",
    "        split: str = \"train\",\n",
    "        ignore_id: int = -100,\n",
    "        task_start_token: str = \"<s>\",\n",
    "        prompt_end_token: str = None,\n",
    "        sort_json_key: bool = True,\n",
    "    ):\n",
    "        super().__init__()\n",
    "\n",
    "        self.max_length = max_length\n",
    "        self.split = split\n",
    "        self.ignore_id = ignore_id\n",
    "        self.task_start_token = task_start_token\n",
    "        self.prompt_end_token = prompt_end_token if prompt_end_token else task_start_token\n",
    "        self.sort_json_key = sort_json_key\n",
    "\n",
    "        self.dataset = load_dataset(dataset_name_or_path, split=self.split)\n",
    "\n",
    "        self.gt_token_sequences = []\n",
    "        if shuffle:\n",
    "          self.dataset = self.dataset.shuffle()\n",
    "        if range_samples is not None:\n",
    "          self.dataset = self.dataset.select(range_samples)\n",
    "        self.dataset = self.dataset.shuffle()\n",
    "        self.dataset_length = self.dataset.num_rows\n",
    "        # create an in-memory cache for pixel tensors\n",
    "        self.pixel_cache = weakref.WeakValueDictionary()\n",
    "        # create an in-memory cache for input_ids\n",
    "        self.input_ids_cache = weakref.WeakValueDictionary()\n",
    "        for sample in self.dataset:\n",
    "            prompt = sample[\"prompt\"]\n",
    "            # bb = json.loads(sample[\"target_bounding_box\"])\n",
    "            bb = sample[\"target_bounding_box\"]\n",
    "            # Trim float precision to simplify training with shorter string representations of component coordinates.\n",
    "            # 2 decimals precision seems to be a good balance between component position acccuracy and model convergance time.\n",
    "            # 3 decimals precision is good enough for screenshot size up to [1000x1000], but it takes longer for the model to converge.\n",
    "            # For even finer granurality, we cam increase precision to 4 for [10,000 x 10,000] screen sizes, but it will take much more training time and compute resources to converge.\n",
    "            for key, value in bb.items():\n",
    "              bb[key] = round(value,2)\n",
    "\n",
    "            assert isinstance(bb, dict)\n",
    "            ground_truth = {\"prompt\": prompt, \"target_bounding_box\": bb}\n",
    "            gt_json = ground_truth\n",
    "\n",
    "            j2t = self.json2token(\n",
    "                  gt_json,\n",
    "                  update_special_tokens_for_json_key=self.split == \"train\",\n",
    "                  sort_json_key=self.sort_json_key,\n",
    "              ) + processor.tokenizer.eos_token\n",
    "            self.gt_token_sequences.append(j2t)\n",
    "\n",
    "        self.add_tokens([self.task_start_token, self.prompt_end_token])\n",
    "        self.prompt_end_token_id = processor.tokenizer.convert_tokens_to_ids(self.prompt_end_token)\n",
    "\n",
    "    def json2token(self, obj: Any, update_special_tokens_for_json_key: bool = True, sort_json_key: bool = True):\n",
    "        \"\"\"\n",
    "        Convert an ordered JSON object into a token sequence\n",
    "        \"\"\"\n",
    "        if type(obj) == dict:\n",
    "            if len(obj) == 1 and \"text_sequence\" in obj:\n",
    "                return obj[\"text_sequence\"]\n",
    "            else:\n",
    "                output = \"\"\n",
    "                if sort_json_key:\n",
    "                    keys = sorted(obj.keys(), reverse=True)\n",
    "                else:\n",
    "                    keys = obj.keys()\n",
    "                for k in keys:\n",
    "                    if update_special_tokens_for_json_key:\n",
    "                        self.add_tokens([fr\"<s_{k}>\", fr\"</s_{k}>\"])\n",
    "                    output += (\n",
    "                        fr\"<s_{k}>\"\n",
    "                        + self.json2token(obj[k], update_special_tokens_for_json_key, sort_json_key)\n",
    "                        + fr\"</s_{k}>\"\n",
    "                    )\n",
    "                return output\n",
    "        elif type(obj) == list:\n",
    "            return r\"<sep/>\".join(\n",
    "                [self.json2token(item, update_special_tokens_for_json_key, sort_json_key) for item in obj]\n",
    "            )\n",
    "        else:\n",
    "            obj = str(obj)\n",
    "            if f\"<{obj}/>\" in added_tokens:\n",
    "                obj = f\"<{obj}/>\"  # for categorical special tokens\n",
    "            return obj\n",
    "    \n",
    "    def add_tokens(self, list_of_tokens: List[str]):\n",
    "        \"\"\"\n",
    "        Add special tokens to tokenizer and resize the token embeddings of the decoder\n",
    "        \"\"\"\n",
    "        newly_added_num = processor.tokenizer.add_tokens(list_of_tokens)\n",
    "        if newly_added_num > 0:\n",
    "            model.decoder.resize_token_embeddings(len(processor.tokenizer))\n",
    "            added_tokens.extend(list_of_tokens)\n",
    "    \n",
    "    def __len__(self) -> int:\n",
    "        return self.dataset_length - 1\n",
    "\n",
    "    def __getitem__(self, idx: int) -> Tuple[torch.Tensor, torch.Tensor, torch.Tensor]:\n",
    "        \"\"\"\n",
    "        Load image from image_path of given dataset_path and convert into input_tensor and labels\n",
    "        Convert gt data into input_ids (tokenized string)\n",
    "        Returns:\n",
    "            input_tensor : preprocessed image\n",
    "            input_ids : tokenized gt_data\n",
    "            labels : masked labels (model doesn't need to predict prompt and pad token)\n",
    "        \"\"\"\n",
    "        sample = self.dataset[idx]\n",
    "\n",
    "        # input_tensor\n",
    "        input_tensor = self.pixel_cache.get(idx)\n",
    "        if input_tensor is None:\n",
    "          pixel_values = processor(sample[\"image\"].convert(\"RGB\"), random_padding=self.split == \"train\", return_tensors=\"pt\").pixel_values\n",
    "          input_tensor = pixel_values.squeeze()\n",
    "          self.pixel_cache[idx] = input_tensor\n",
    "        # elif idx % 100 == 0:\n",
    "        #   print(f'{self.split} dataloader pixel_cache hit at index {idx}')\n",
    "\n",
    "        # input_ids\n",
    "        input_ids = self.input_ids_cache.get(idx)\n",
    "        if input_ids is None:\n",
    "          processed_parse = self.gt_token_sequences[idx]\n",
    "          input_ids = processor.tokenizer(\n",
    "              processed_parse,\n",
    "              add_special_tokens=False,\n",
    "              max_length=self.max_length,\n",
    "              padding=\"max_length\",\n",
    "              truncation=True,\n",
    "              return_tensors=\"pt\",\n",
    "          )[\"input_ids\"].squeeze(0)\n",
    "          self.input_ids_cache[idx] = input_ids\n",
    "        # elif idx % 100 == 0:\n",
    "        #   print(f'{self.split} dataloader input_ids cache hit at index {idx}')\n",
    "\n",
    "\n",
    "        if idx % 200 == 0:\n",
    "          print(f\"sameple #{idx}, input_ids: {input_ids}\")\n",
    "\n",
    "        if self.split == \"train\":\n",
    "            labels = input_ids.clone()\n",
    "            labels[\n",
    "                labels == processor.tokenizer.pad_token_id\n",
    "            ] = self.ignore_id  # model doesn't need to predict pad token\n",
    "            labels[\n",
    "                : torch.nonzero(labels == self.prompt_end_token_id).sum() + 1\n",
    "            ] = self.ignore_id  # model doesn't need to predict prompt (for VQA)\n",
    "            return input_tensor, input_ids, labels\n",
    "        else:\n",
    "            prompt_end_index = torch.nonzero(\n",
    "                input_ids == self.prompt_end_token_id\n",
    "            ).sum()  # return prompt end index instead of target output labels\n",
    "            return input_tensor, input_ids, prompt_end_index, processed_parse"
   ]
  },
  {
   "cell_type": "code",
   "execution_count": 216,
   "metadata": {
    "id": "4_h6nyTm3RN0"
   },
   "outputs": [
    {
     "data": {
      "text/plain": [
       "DatasetDict({\n",
       "    test: Dataset({\n",
       "        features: ['image', 'image_id', 'prompt', 'target_bounding_box'],\n",
       "        num_rows: 3912\n",
       "    })\n",
       "    train: Dataset({\n",
       "        features: ['image', 'image_id', 'prompt', 'target_bounding_box'],\n",
       "        num_rows: 390084\n",
       "    })\n",
       "    validation: Dataset({\n",
       "        features: ['image', 'image_id', 'prompt', 'target_bounding_box'],\n",
       "        num_rows: 3191\n",
       "    })\n",
       "})"
      ]
     },
     "execution_count": 216,
     "metadata": {},
     "output_type": "execute_result"
    }
   ],
   "source": [
    "dataset"
   ]
  },
  {
   "cell_type": "code",
   "execution_count": 217,
   "metadata": {
    "id": "3JpazNkf8CnA"
   },
   "outputs": [
    {
     "name": "stderr",
     "output_type": "stream",
     "text": [
      "C:\\Users\\evgenii.saurov\\Anaconda3\\lib\\site-packages\\transformers\\models\\donut\\processing_donut.py:186: FutureWarning: `feature_extractor` is deprecated and will be removed in v5. Use `image_processor` instead.\n",
      "  warnings.warn(\n",
      "Found cached dataset parquet (C:/Users/evgenii.saurov/.cache/huggingface/datasets/ivelin___parquet/ivelin--rico_refexp_combined-00b3f39c0a84947d/0.0.0/2a3b91fbd88a2c90d1dbbb32b460cf621d31bd5b05b934492fdef7d8d6f236ec)\n"
     ]
    }
   ],
   "source": [
    "# we update some settings which differ from pretraining; namely the size of the images + no rotation required\n",
    "# source: https://github.com/clovaai/donut/blob/master/config/train_cord.yaml\n",
    "processor.feature_extractor.size = image_size[::-1] # should be (width, height)\n",
    "processor.feature_extractor.do_align_long_axis = False\n",
    "\n",
    "# For warm up phase, consider picking only a small subset to see if the model converges on the data\n",
    "max_train_samples = 1024\n",
    "# pick a range for sampling\n",
    "# range_train_samples = range(4000, 4000+max_train_samples)\n",
    "range_train_samples = range(max_train_samples)\n",
    "\n",
    "train_dataset = DonutDataset(REFEXP_DATASET_NAME, max_length=max_length, \n",
    "                             range_samples=range_train_samples,\n",
    "                             shuffle=True,\n",
    "                             split=\"train\", task_start_token=\"<s_refexp>\", prompt_end_token=\"<s_target_bounding_box>\",\n",
    "                             sort_json_key=False,\n",
    "                             )\n",
    "\n"
   ]
  },
  {
   "cell_type": "code",
   "execution_count": 218,
   "metadata": {
    "id": "vlrKXSzLBAwi"
   },
   "outputs": [
    {
     "name": "stdout",
     "output_type": "stream",
     "text": [
      "sameple #0, input_ids: tensor([57527, 18539, 14304, 12428,  6905,  4371, 57528, 57529, 57535, 50891,\n",
      "        39539, 11699, 57536, 57531, 54824, 55144, 57532, 57537, 50891, 39539,\n",
      "        41742, 57538, 57533, 50891, 39539,  2559, 57534, 57530,     2,     1,\n",
      "            1,     1,     1,     1,     1,     1,     1,     1,     1,     1,\n",
      "            1,     1,     1,     1,     1,     1,     1,     1,     1,     1,\n",
      "            1,     1,     1,     1,     1,     1,     1,     1,     1,     1,\n",
      "            1,     1,     1,     1,     1,     1,     1,     1,     1,     1,\n",
      "            1,     1,     1,     1,     1,     1,     1,     1,     1,     1,\n",
      "            1,     1,     1,     1,     1,     1,     1,     1,     1,     1,\n",
      "            1,     1,     1,     1,     1,     1,     1,     1,     1,     1,\n",
      "            1,     1,     1,     1,     1,     1,     1,     1,     1,     1,\n",
      "            1,     1,     1,     1,     1,     1,     1,     1,     1,     1,\n",
      "            1,     1,     1,     1,     1,     1,     1,     1])\n"
     ]
    },
    {
     "data": {
      "text/plain": [
       "(tensor([[[-1., -1., -1.,  ..., -1., -1., -1.],\n",
       "          [-1., -1., -1.,  ..., -1., -1., -1.],\n",
       "          [-1., -1., -1.,  ..., -1., -1., -1.],\n",
       "          ...,\n",
       "          [-1., -1., -1.,  ..., -1., -1., -1.],\n",
       "          [-1., -1., -1.,  ..., -1., -1., -1.],\n",
       "          [-1., -1., -1.,  ..., -1., -1., -1.]],\n",
       " \n",
       "         [[-1., -1., -1.,  ..., -1., -1., -1.],\n",
       "          [-1., -1., -1.,  ..., -1., -1., -1.],\n",
       "          [-1., -1., -1.,  ..., -1., -1., -1.],\n",
       "          ...,\n",
       "          [-1., -1., -1.,  ..., -1., -1., -1.],\n",
       "          [-1., -1., -1.,  ..., -1., -1., -1.],\n",
       "          [-1., -1., -1.,  ..., -1., -1., -1.]],\n",
       " \n",
       "         [[-1., -1., -1.,  ..., -1., -1., -1.],\n",
       "          [-1., -1., -1.,  ..., -1., -1., -1.],\n",
       "          [-1., -1., -1.,  ..., -1., -1., -1.],\n",
       "          ...,\n",
       "          [-1., -1., -1.,  ..., -1., -1., -1.],\n",
       "          [-1., -1., -1.,  ..., -1., -1., -1.],\n",
       "          [-1., -1., -1.,  ..., -1., -1., -1.]]]),\n",
       " tensor([57527, 18539, 14304, 12428,  6905,  4371, 57528, 57529, 57535, 50891,\n",
       "         39539, 11699, 57536, 57531, 54824, 55144, 57532, 57537, 50891, 39539,\n",
       "         41742, 57538, 57533, 50891, 39539,  2559, 57534, 57530,     2,     1,\n",
       "             1,     1,     1,     1,     1,     1,     1,     1,     1,     1,\n",
       "             1,     1,     1,     1,     1,     1,     1,     1,     1,     1,\n",
       "             1,     1,     1,     1,     1,     1,     1,     1,     1,     1,\n",
       "             1,     1,     1,     1,     1,     1,     1,     1,     1,     1,\n",
       "             1,     1,     1,     1,     1,     1,     1,     1,     1,     1,\n",
       "             1,     1,     1,     1,     1,     1,     1,     1,     1,     1,\n",
       "             1,     1,     1,     1,     1,     1,     1,     1,     1,     1,\n",
       "             1,     1,     1,     1,     1,     1,     1,     1,     1,     1,\n",
       "             1,     1,     1,     1,     1,     1,     1,     1,     1,     1,\n",
       "             1,     1,     1,     1,     1,     1,     1,     1]),\n",
       " tensor([ -100,  -100,  -100,  -100,  -100,  -100,  -100,  -100, 57535, 50891,\n",
       "         39539, 11699, 57536, 57531, 54824, 55144, 57532, 57537, 50891, 39539,\n",
       "         41742, 57538, 57533, 50891, 39539,  2559, 57534, 57530,     2,  -100,\n",
       "          -100,  -100,  -100,  -100,  -100,  -100,  -100,  -100,  -100,  -100,\n",
       "          -100,  -100,  -100,  -100,  -100,  -100,  -100,  -100,  -100,  -100,\n",
       "          -100,  -100,  -100,  -100,  -100,  -100,  -100,  -100,  -100,  -100,\n",
       "          -100,  -100,  -100,  -100,  -100,  -100,  -100,  -100,  -100,  -100,\n",
       "          -100,  -100,  -100,  -100,  -100,  -100,  -100,  -100,  -100,  -100,\n",
       "          -100,  -100,  -100,  -100,  -100,  -100,  -100,  -100,  -100,  -100,\n",
       "          -100,  -100,  -100,  -100,  -100,  -100,  -100,  -100,  -100,  -100,\n",
       "          -100,  -100,  -100,  -100,  -100,  -100,  -100,  -100,  -100,  -100,\n",
       "          -100,  -100,  -100,  -100,  -100,  -100,  -100,  -100,  -100,  -100,\n",
       "          -100,  -100,  -100,  -100,  -100,  -100,  -100,  -100]))"
      ]
     },
     "execution_count": 218,
     "metadata": {},
     "output_type": "execute_result"
    }
   ],
   "source": [
    "train_dataset[0]\n",
    "\n"
   ]
  },
  {
   "cell_type": "code",
   "execution_count": null,
   "metadata": {
    "id": "cxv4RS8i-rsJ"
   },
   "outputs": [],
   "source": [
    "\n",
    "# pick a small subset for initial val set to see if validation metrics improve\n",
    "max_val_samples = 1500\n",
    "range_val_samples = range(0,max_val_samples,5)\n",
    "\n",
    "val_dataset = DonutDataset(REFEXP_DATASET_NAME, max_length=max_length, range_samples=range_val_samples,\n",
    "                             split=\"validation\", task_start_token=\"<s_refexp>\", prompt_end_token=\"<s_target_bounding_box>\",\n",
    "                             sort_json_key=False,\n",
    "                             )\n"
   ]
  },
  {
   "cell_type": "code",
   "execution_count": null,
   "metadata": {
    "id": "9ZUvmOdAs7xk"
   },
   "outputs": [],
   "source": [
    "pixel_values, decoder_input_ids, labels = train_dataset[0]\n"
   ]
  },
  {
   "cell_type": "code",
   "execution_count": null,
   "metadata": {
    "id": "AQMuNYnA4XYk"
   },
   "outputs": [],
   "source": [
    "pixel_values.shape"
   ]
  },
  {
   "cell_type": "code",
   "execution_count": null,
   "metadata": {
    "id": "vWKlLJML4o-6"
   },
   "outputs": [],
   "source": [
    "print(labels)"
   ]
  },
  {
   "cell_type": "code",
   "execution_count": null,
   "metadata": {
    "id": "Zud4yPeN4qQb"
   },
   "outputs": [],
   "source": [
    "for decoder_input_id, label in zip(decoder_input_ids.tolist()[:-1], labels.tolist()[1:]):\n",
    "  if label != -100:\n",
    "    print(processor.decode([decoder_input_id]), processor.decode([label]))\n",
    "  else:\n",
    "    print(processor.decode([decoder_input_id]), label)"
   ]
  },
  {
   "cell_type": "code",
   "execution_count": null,
   "metadata": {
    "id": "0xcQqFDsBmPq"
   },
   "outputs": [],
   "source": [
    "pixel_values, decoder_input_ids, prompt_end_index, processed_parse = val_dataset[0]\n"
   ]
  },
  {
   "cell_type": "code",
   "execution_count": null,
   "metadata": {
    "id": "Szz2rquaBq89"
   },
   "outputs": [],
   "source": [
    "pixel_values.shape"
   ]
  },
  {
   "cell_type": "code",
   "execution_count": null,
   "metadata": {
    "id": "1mUwVF9yBr_u"
   },
   "outputs": [],
   "source": [
    "prompt_end_index"
   ]
  },
  {
   "cell_type": "code",
   "execution_count": null,
   "metadata": {
    "id": "cj2gybmeBuvQ"
   },
   "outputs": [],
   "source": [
    "processed_parse"
   ]
  },
  {
   "cell_type": "markdown",
   "metadata": {
    "id": "ygTIylugfasG"
   },
   "source": [
    "## Create PyTorch DataLoaders\n",
    "\n",
    "Next, we create corresponding PyTorch DataLoaders."
   ]
  },
  {
   "cell_type": "code",
   "execution_count": null,
   "metadata": {
    "id": "nLQ_Vl5MLugu"
   },
   "outputs": [],
   "source": [
    "print(f\"train dataset length: {train_dataset.dataset_length}\")\n",
    "print(f\"validation dataset length: {val_dataset.dataset_length}\")\n"
   ]
  },
  {
   "cell_type": "code",
   "execution_count": null,
   "metadata": {
    "id": "9BFgvT3twpaJ"
   },
   "outputs": [],
   "source": [
    "# torch.cuda.empty_cache()"
   ]
  },
  {
   "cell_type": "code",
   "execution_count": null,
   "metadata": {
    "id": "lSwRsj8imFuX"
   },
   "outputs": [],
   "source": [
    "#@title Set optimal batch size for training and validation \n",
    "# Currently there is an issue with VisualEncoderDecoder when batch size > 1\n",
    "# Causes error in loss calculation during training\n",
    "train_batch_size = 1 # Usually increments of 8. Value depends on GPU capacity.\n",
    "print(f\"train_batch_size: {train_batch_size}\")\n",
    "val_batch_size = 1"
   ]
  },
  {
   "cell_type": "code",
   "execution_count": null,
   "metadata": {
    "id": "pIkar2gaX4Xl"
   },
   "outputs": [],
   "source": [
    "from torch.utils.data import DataLoader\n",
    "\n",
    "train_dataloader = DataLoader(train_dataset, batch_size=train_batch_size, shuffle=True, num_workers=4, pin_memory=True)\n",
    "val_dataloader = DataLoader(val_dataset, batch_size=1, shuffle=False, num_workers=4, pin_memory=True)"
   ]
  },
  {
   "cell_type": "markdown",
   "metadata": {
    "id": "AxtTVgNnfdkD"
   },
   "source": [
    "Let's verify a batch:"
   ]
  },
  {
   "cell_type": "code",
   "execution_count": null,
   "metadata": {
    "id": "WHurHlLnL8Xm"
   },
   "outputs": [],
   "source": [
    "batch = next(iter(train_dataloader))\n",
    "pixel_values, decoder_input_ids, labels = batch\n",
    "print(pixel_values.shape)"
   ]
  },
  {
   "cell_type": "code",
   "execution_count": null,
   "metadata": {
    "id": "Vo0TXXDL8oHj"
   },
   "outputs": [],
   "source": [
    "decoder_input_ids.shape"
   ]
  },
  {
   "cell_type": "markdown",
   "metadata": {
    "id": "a_GvAiCQkPSf"
   },
   "source": [
    "We can clearly see that we have set the labels of all prompt tokens (which includes the prompt) to -100, to make sure the model doesn't learn to generate them. We only start to have labels starting from the \\<s_target_bounding_box> decoder input token."
   ]
  },
  {
   "cell_type": "code",
   "execution_count": null,
   "metadata": {
    "id": "f8ehAwgPZrcc"
   },
   "outputs": [],
   "source": [
    "for decoder_input_id, label in zip(decoder_input_ids[0].tolist()[:-1][:50], labels[0].tolist()[1:][:50]):\n",
    "  if label != -100:\n",
    "    print(processor.decode([decoder_input_id]), processor.decode([label]))\n",
    "  else:\n",
    "    print(processor.decode([decoder_input_id]), label)"
   ]
  },
  {
   "cell_type": "markdown",
   "metadata": {
    "id": "mnmD7rRy2WLI"
   },
   "source": [
    "## Define LightningModule\n",
    "\n",
    "We'll fine-tune the model using [PyTorch Lightning](https://www.pytorchlightning.ai/) here, but note that you can of course also just fine-tune with regular PyTorch, HuggingFace [Accelerate](https://github.com/huggingface/accelerate), the HuggingFace [Trainer](https://huggingface.co/docs/transformers/main_classes/trainer), etc.\n",
    "\n",
    "PyTorch Lightning is pretty convenient to handle things like device placement, mixed precision and logging for you."
   ]
  },
  {
   "cell_type": "markdown",
   "metadata": {
    "id": "UXzLACRy1ZLP"
   },
   "source": [
    "### Defining Evaluation Metric\n",
    "\n",
    "The pretrained Donut DocVQA model that we started with uses Edit Distance, which is reasonable to measure how close the answer text is close to the ground truth. However edit distance is not the most natural choice for bounding box evaluation.\n",
    "\n",
    "Edit distance does reward perfect match, but it may show less useful intermediate values. For example `xmin=0.123` and `xmin=0.923` are only 1 character separated, but in terms of bounding box overlap, they are very far apart.\n",
    "\n",
    "A popular metric used in object detection is [mAP](https://towardsdatascience.com/on-object-detection-metrics-with-worked-example-216f173ed31e). It takes into account IoU of bounding boxes and detected object classes. It treats both object class and bounding box as classification problems which is useful technically but not very intuitive. One of the issues with mAP is that it does not give us any signal whether the model is improving bounding box detection until it reaches a certain threshold (usually 0.5 IoU).\n",
    "\n",
    "Can we define an evaluation metric that is both useful and intuitive for the RefExp task? Ideally we would like it to give us a continous feedback wheter the model is advancing on a stable trajectory towards perfect accuracy. Ideally it would not have blackout regions during training where we are not certain if the product is improving incrementally.\n"
   ]
  },
  {
   "cell_type": "markdown",
   "metadata": {
    "id": "PWQWMb2fH2V1"
   },
   "source": [
    "\n",
    "#### Distance between rectangle centers\n",
    "\n",
    "One intuitive metric could be to measure the distance in bbox center coordinates between prediction and ground truth.\n",
    "\n",
    "In the early stages of training, center distance is a useful coarse grained eval metric. It tells us how close the center of the predicted bounding box is from the center of the ground truth bounding box.\n",
    "\n",
    "As the model improves, we can switch to a more fine grained eval metric such as IoU or CUI. See further details below.\n"
   ]
  },
  {
   "cell_type": "code",
   "execution_count": null,
   "metadata": {
    "id": "YYk7Y6SoU9Qe"
   },
   "outputs": [],
   "source": [
    "import math\n",
    "\n",
    "def validate_bbox(bb):\n",
    "  \"\"\"\n",
    "  Ensures correct coordinates for bounding box. Returns true\n",
    "  Returns\n",
    "  -------\n",
    "  True if bbox coordinates are valid. False otherwise.\n",
    "  \"\"\"\n",
    "  try:\n",
    "    if bb['xmin'] > bb['xmax']:\n",
    "      return False\n",
    "    if bb['ymin'] > bb['ymax']:\n",
    "      return False\n",
    "  except Exception as e:\n",
    "    print(f\"Invalid bbox: {bb}\", e)\n",
    "    return False \n",
    "  return True\n",
    "\n",
    "def get_center_distance(bb1, bb2):\n",
    "    \"\"\"\n",
    "    Calculate the distance between the centers of two bounding boxes.\n",
    "    Best case, distance between centers of predicted and ground truth bounding boxes will be 0.\n",
    "    Worst case,  distance will be the larges diagonal in the screen - sqrt(1,1).\n",
    "\n",
    "    Parameters\n",
    "    ----------\n",
    "    bb1 : dict\n",
    "        Keys: {'xmin', 'xmax', 'ymin', 'ymax'}\n",
    "        The (xmin, ymin) position is at the top left corner,\n",
    "        the (xmax, y2) position is at the bottom right corner\n",
    "    bb2 : dict\n",
    "        Keys: {'xmin', 'xmax', 'ymin', 'ymax'}\n",
    "        The (x, y) position is at the top left corner,\n",
    "        the (xmax, ymax) position is at the bottom right corner\n",
    "\n",
    "    Returns\n",
    "    -------\n",
    "    float\n",
    "        in [0, sqrt(1+1)]\n",
    "    \"\"\"\n",
    "    best_case = 0.0\n",
    "    worst_case = math.sqrt(1+1) # max diagonal\n",
    "    if not validate_bbox(bb1) or not validate_bbox(bb2):\n",
    "      return worst_case\n",
    "\n",
    "    # determine the coordinates of the center of each rectangle\n",
    "    bb1_x_center = (bb1['xmax'] + bb1['xmin'])/2\n",
    "    bb1_y_center = (bb1['ymax'] + bb1['ymin'])/2\n",
    "\n",
    "    bb2_x_center = (bb2['xmax'] + bb2['xmin'])/2\n",
    "    bb2_y_center = (bb2['ymax'] + bb2['ymin'])/2\n",
    "    center_dist = math.sqrt((bb2_x_center - bb1_x_center)**2 + (bb2_y_center - bb1_y_center)**2)\n",
    "\n",
    "    assert center_dist >= best_case\n",
    "    assert center_dist <= worst_case # sqrt(1+1)\n",
    "    return center_dist"
   ]
  },
  {
   "cell_type": "markdown",
   "metadata": {
    "id": "RKtTK9RWU9kH"
   },
   "source": [
    "\n",
    "#### Intersection over Union\n",
    "\n",
    "We can use [Intersection over Union](https://pyimagesearch.com/2016/11/07/intersection-over-union-iou-for-object-detection/) (IoU) to measure bounding box match as a validation progress metric instead of the Edit Distance metric used in DocVQA.\n",
    "\n",
    "Since the model outputs bounding box coordinates, we would like to see these bounding boxes trend towards overlapping exactly with the ground truth.\n",
    "\n",
    "![IoU image](https://i.stack.imgur.com/n1AZj.png)\n",
    "\n",
    "\n"
   ]
  },
  {
   "cell_type": "code",
   "execution_count": null,
   "metadata": {
    "id": "AmDmvkkfnDef"
   },
   "outputs": [],
   "source": [
    "\n",
    "def get_iou(bb1, bb2):\n",
    "    \"\"\"\n",
    "    Calculate the Intersection over Union (IoU) of two bounding boxes.\n",
    "    Best case, IoU is 1 indicating perfect match between prediction and ground truth.\n",
    "    Worst case, IoU is 0 when no overlap between bounding boxes.\n",
    "    Modifed version from the following original on stackoverflow:\n",
    "    https://stackoverflow.com/questions/25349178/calculating-percentage-of-bounding-box-overlap-for-image-detector-evaluation\n",
    "\n",
    "    Parameters\n",
    "    ----------\n",
    "    bb1 : dict\n",
    "        Keys: {'xmin', 'xmax', 'ymin', 'ymax'}\n",
    "        The (xmin, ymin) position is at the top left corner,\n",
    "        the (xmax, y2) position is at the bottom right corner\n",
    "    bb2 : dict\n",
    "        Keys: {'xmin', 'xmax', 'ymin', 'ymax'}\n",
    "        The (x, y) position is at the top left corner,\n",
    "        the (xmax, ymax) position is at the bottom right corner\n",
    "\n",
    "    Returns\n",
    "    -------\n",
    "    float\n",
    "        in [0, 1]\n",
    "    \"\"\"\n",
    "    best_case = 1.0\n",
    "    worst_case = 0.0\n",
    "    if not validate_bbox(bb1) or not validate_bbox(bb2):\n",
    "      return worst_case\n",
    "\n",
    "    # determine the coordinates of the intersection rectangle\n",
    "    x_left = max(bb1['xmin'], bb2['xmin'])\n",
    "    y_top = max(bb1['ymin'], bb2['ymin'])\n",
    "    x_right = min(bb1['xmax'], bb2['xmax'])\n",
    "    y_bottom = min(bb1['ymax'], bb2['ymax'])\n",
    "\n",
    "    # print(f\"IoU x_left: {x_left}, y_top: {y_top}, x_right: {x_right}, y_bottom: {y_bottom}\")\n",
    "\n",
    "    if x_right < x_left or y_bottom < y_top:\n",
    "        return worst_case # no bbox overlap\n",
    "\n",
    "    # The intersection of two axis-aligned bounding boxes is always an\n",
    "    # axis-aligned bounding box\n",
    "    intersection_area = (x_right - x_left) * (y_bottom - y_top)\n",
    "    # print(f\"IoU intersection_area: {intersection_area}\")\n",
    "\n",
    "    # compute the area of both AABBs\n",
    "    bb1_area = (bb1['xmax'] - bb1['xmin']) * (bb1['ymax'] - bb1['ymin'])\n",
    "    bb2_area = (bb2['xmax'] - bb2['xmin']) * (bb2['ymax'] - bb2['ymin'])\n",
    "    # print(f\"IoU bb1_area: {bb1_area}\")\n",
    "    # print(f\"IoU bb2_area: {bb2_area}\")\n",
    "\n",
    "    # compute the intersection over union by taking the intersection\n",
    "    # area and dividing it by the sum of prediction + ground-truth\n",
    "    # areas - the interesection area\n",
    "    iou = intersection_area / float(bb1_area + bb2_area - intersection_area)\n",
    "    # if iou > 0:\n",
    "    #   print(f\"IoU input bb1, bb2: {bb1} , {bb2}\")\n",
    "    #   print(f\"IoU : {iou}\")\n",
    "    assert iou >= worst_case\n",
    "    assert iou <= best_case\n",
    "    return iou"
   ]
  },
  {
   "cell_type": "markdown",
   "metadata": {
    "id": "wZGE3iK2jYxA"
   },
   "source": [
    "\n",
    "#### Center_Distance * (Union - Intersection)\n",
    "\n",
    "Central distance is convenient in the early stages of training but it does not tell us if two bounding boxes match. It is possible centers to be exatcly the same but corners to be far apart.\n",
    "\n",
    "IoU on the other hand has the issue of a long flat 0 range before two bouning boxes have at least a few overlapping pixels. It does not reward model performance in the stage when bounding boxes do not overlap but are pulled closer to each other.\n",
    "\n",
    "What if we measure the difference between Union and Intersection and multiply by the center distance. We end up with a function that is non-zero for all cases except complete overlap between two bounding boxes. It is also monotonously decreasing as the centers of two bounding boxes come close to each other. The function can be 0 if both boxes have 0 surface area, but that is not a realistic nor useful sample to work with so we will ignore such outliers.\n",
    "\n",
    "The center distance component gives us a way to measure model improvements while bounding boxes do not intersect at all but their centers come closer.\n",
    "\n",
    "It also rewards bounding box intersection.\n",
    "\n",
    "We will look to minimize this function.\n",
    "\n",
    "![CUI](https://user-images.githubusercontent.com/2234901/215337428-ef2f30f4-6a51-4ea4-a4fc-61e54b593fe9.png)\n",
    "\n",
    "\n"
   ]
  },
  {
   "cell_type": "code",
   "execution_count": null,
   "metadata": {
    "id": "SJhf6dgvjQpo"
   },
   "outputs": [],
   "source": [
    "\n",
    "def get_cui(bb1, bb2):\n",
    "    \"\"\"\n",
    "    Calculates Central Distance times Union minus Intersection.\n",
    "    The model should aim to minimize this function towards 0,\n",
    "    which is complete bounding box overlap.\n",
    "\n",
    "    Parameters\n",
    "    ----------\n",
    "    bb1 : dict\n",
    "        Keys: {'xmin', 'xmax', 'ymin', 'ymax'}\n",
    "        The (xmin, ymin) position is at the top left corner,\n",
    "        the (xmax, y2) position is at the bottom right corner\n",
    "    bb2 : dict\n",
    "        Keys: {'xmin', 'xmax', 'ymin', 'ymax'}\n",
    "        The (x, y) position is at the top left corner,\n",
    "        the (xmax, ymax) position is at the bottom right corner\n",
    "\n",
    "    Returns\n",
    "    -------\n",
    "    float\n",
    "        in [0, 1]\n",
    "    \"\"\"\n",
    "    best_case = 0.0\n",
    "    # max(central distance) = sqrt(1+1)\n",
    "    # max(U-I) = 1\n",
    "    worst_case = 1*math.sqrt(1+1) \n",
    "    # print(f\"\\n\\n>>>>>>>> get_cui bb1: {bb1}, bb2 {bb2} \\n\\n\")\n",
    "    if not validate_bbox(bb1) or not validate_bbox(bb2):\n",
    "      # print(f\"get_cui: invalid boundig box: {bb1}, {bb2}\")\n",
    "      return worst_case\n",
    "\n",
    "    # determine the coordinates of the intersection rectangle\n",
    "    x_left = max(bb1['xmin'], bb2['xmin'])\n",
    "    y_top = max(bb1['ymin'], bb2['ymin'])\n",
    "    x_right = min(bb1['xmax'], bb2['xmax'])\n",
    "    y_bottom = min(bb1['ymax'], bb2['ymax'])\n",
    "\n",
    "    # print(f\"get_cui: x_left: {x_left}, y_top: {y_top}, x_right: {x_right}, y_bottom: {y_bottom}\")\n",
    "\n",
    "\n",
    "    if x_right > x_left and y_bottom > y_top:\n",
    "      # The intersection of two axis-aligned bounding boxes is always an\n",
    "      # axis-aligned bounding box\n",
    "      intersection_area = (x_right - x_left) * (y_bottom - y_top)\n",
    "    else:\n",
    "      intersection_area = 0.0\n",
    "    # print(f\"get_cui: intersection_area: {intersection_area}\")\n",
    "\n",
    "\n",
    "    # compute Union: the area of both AABBs\n",
    "    bb1_area = (bb1['xmax'] - bb1['xmin']) * (bb1['ymax'] - bb1['ymin'])\n",
    "    bb2_area = (bb2['xmax'] - bb2['xmin']) * (bb2['ymax'] - bb2['ymin'])\n",
    "    union_area = float(bb1_area + bb2_area - intersection_area)\n",
    "    # print(f\"get_cui: bb1_area: {bb1_area}\")\n",
    "    # print(f\"get_cui: bb2_area: {bb2_area}\")\n",
    "    # print(f\"get_cui: union_area: {union_area}\")\n",
    "\n",
    "    # compute the intersection over union by taking the intersection\n",
    "    # area and dividing it by the sum of prediction + ground-truth\n",
    "    # areas - the interesection area\n",
    "    non_overlapping_area = float(union_area - intersection_area)\n",
    "    # print(f\"get_cui: non_overlapping_area: {non_overlapping_area}\")\n",
    "    center_distance = get_center_distance(bb1, bb2)\n",
    "    # print(f\"get_cui: center_distance: {center_distance}\")\n",
    "    cui = non_overlapping_area*center_distance\n",
    "    # print(f\"get_cui: CUI score: {cui}\")\n",
    "    intersection_area\n",
    "    assert cui >= best_case\n",
    "    assert cui <= worst_case\n",
    "    return cui"
   ]
  },
  {
   "cell_type": "code",
   "execution_count": null,
   "metadata": {
    "id": "EdwzQ0_Nzj8y"
   },
   "outputs": [],
   "source": [
    "# is_valid = validate_bbox({'xmin': 0.04, 'ymin': 0.68, 'xmax': 0.48, 'ymax': 0.72})\n",
    "# print(is_valid)"
   ]
  },
  {
   "cell_type": "code",
   "execution_count": null,
   "metadata": {
    "id": "Cqk3K0ibzDHp"
   },
   "outputs": [],
   "source": [
    "\n",
    "# get_cui({'xmin': 0.04, 'ymin': 0.68, 'xmax': 0.48, 'ymax': 0.72},\n",
    "#       {'xmin': 0.50, 'ymin': 0.68, 'xmax': 0.58, 'ymax': 0.73})"
   ]
  },
  {
   "cell_type": "markdown",
   "metadata": {
    "id": "2KxW79QQIMc5"
   },
   "source": [
    "### Donut Lightning Module"
   ]
  },
  {
   "cell_type": "code",
   "execution_count": null,
   "metadata": {
    "id": "oRm5i4gWG-sb"
   },
   "outputs": [],
   "source": [
    "from pathlib import Path\n",
    "import re\n",
    "# from nltk import edit_distance\n",
    "import numpy as np\n",
    "import math\n",
    "\n",
    "from torch.nn.utils.rnn import pad_sequence\n",
    "from torch.optim.lr_scheduler import ReduceLROnPlateau\n",
    "\n",
    "import pytorch_lightning as pl\n",
    "from pytorch_lightning.utilities import rank_zero_only\n",
    "\n",
    "\n",
    "class DonutModelPLModule(pl.LightningModule):\n",
    "    def __init__(self, config, processor, model):\n",
    "        super().__init__()\n",
    "        self.config = config\n",
    "        self.processor = processor\n",
    "        self.model = model\n",
    "        self.batch_size = train_batch_size\n",
    "        self.learning_rate = self.config.get(\"lr\")        \n",
    "        # self.log_dict(config)\n",
    "\n",
    "    def training_step(self, batch, batch_idx):\n",
    "        pixel_values, decoder_input_ids, labels = batch\n",
    "        \n",
    "        outputs = self.model(pixel_values,\n",
    "                             decoder_input_ids=decoder_input_ids[:, :-1],\n",
    "                             labels=labels[:, 1:])\n",
    "        loss = outputs.loss\n",
    "        self.log_dict({\"train_loss\": loss}, sync_dist=True)\n",
    "        return loss\n",
    "\n",
    "    def token2bbox(self, seq: str):\n",
    "        target_bbox = self.processor.token2json(seq)\n",
    "        bbox = target_bbox.get('target_bounding_box')\n",
    "        if bbox is None:\n",
    "          print(f\"token2bbox seq has no target_bounding_box, seq:{seq}\")\n",
    "          bbox = bbox = {\"xmin\": 0, \"ymin\": 0, \"xmax\": 0, \"ymax\": 0}\n",
    "          return bbox\n",
    "        # print(f\"token2 bounding box json: {bbox}\")\n",
    "        # safeguard in case text prediction is missing some bounding box coordinates\n",
    "        # or coordinates are not valid numeric values\n",
    "        try:\n",
    "          xmin = float(bbox.get(\"xmin\", 0))\n",
    "        except Exception:\n",
    "          xmin = 0\n",
    "        try:\n",
    "          ymin = float(bbox.get(\"ymin\", 0))\n",
    "        except Exception:\n",
    "          ymin = 0\n",
    "        try:\n",
    "          xmax = float(bbox.get(\"xmax\", 1))\n",
    "        except Exception:\n",
    "          xmax = 1\n",
    "        try:\n",
    "          ymax = float(bbox.get(\"ymax\", 1))\n",
    "        except Exception:\n",
    "          ymax = 1\n",
    "        # replace str with float coords\n",
    "        bbox = {\"xmin\": xmin, \"ymin\": ymin, \"xmax\": xmax, \"ymax\": ymax}\n",
    "        # print(f\"token2 bounding box float: {bbox}\")\n",
    "        return bbox\n",
    "\n",
    "    def validation_step(self, batch, batch_idx, dataset_idx=0):\n",
    "        pixel_values, decoder_input_ids, prompt_end_idxs, answers = batch\n",
    "        decoder_prompts = pad_sequence(\n",
    "            [input_id[: end_idx + 1] for input_id, end_idx in zip(decoder_input_ids, prompt_end_idxs)],\n",
    "            batch_first=True,\n",
    "        )\n",
    "        \n",
    "        outputs = self.model.generate(pixel_values,\n",
    "                                   decoder_input_ids=decoder_prompts,\n",
    "                                   max_length=max_length,\n",
    "                                   early_stopping=True,\n",
    "                                   pad_token_id=self.processor.tokenizer.pad_token_id,\n",
    "                                   eos_token_id=self.processor.tokenizer.eos_token_id,\n",
    "                                   use_cache=True,\n",
    "                                   num_beams=1,\n",
    "                                   bad_words_ids=[[self.processor.tokenizer.unk_token_id]],\n",
    "                                   return_dict_in_generate=True,)\n",
    "    \n",
    "        predictions = []\n",
    "        for seq in self.processor.tokenizer.batch_decode(outputs.sequences):\n",
    "            seq = seq.replace(self.processor.tokenizer.eos_token, \"\").replace(self.processor.tokenizer.pad_token, \"\")\n",
    "            seq = re.sub(r\"<.*?>\", \"\", seq, count=1).strip()  # remove first task start token\n",
    "            predictions.append(seq)\n",
    "\n",
    "        scores = list()\n",
    "        for pred, answer in zip(predictions, answers):\n",
    "            answer = re.sub(r\"<.*?>\", \"\", answer, count=1)\n",
    "            answer = answer.replace(self.processor.tokenizer.eos_token, \"\")\n",
    "            answer_bbox = self.token2bbox(answer)\n",
    "            pred_bbox = self.token2bbox(pred)\n",
    "            # scores.append(get_center_distance(pred_bbox, answer_bbox))\n",
    "            #scores.append(get_iou(pred_bbox, answer_bbox))\n",
    "            scores.append(get_cui(pred_bbox, answer_bbox))\n",
    "            if self.config.get(\"verbose\", False) and len(scores) == 1:\n",
    "              print(f\"      Prediction: {pred}\")\n",
    "              print(f\"          Answer: {answer}\")\n",
    "              print(f\" Prediction bbox: {pred_bbox}\")\n",
    "              print(f\"     Answer bbox: {answer_bbox}\")\n",
    "              # print(f\"Eval score (Center Distance): {scores[0]}\")\n",
    "              print(f\"Eval score CUI=CDx(U-I): {scores[0]}\")\n",
    "              iou = get_iou(pred_bbox, answer_bbox)\n",
    "              print(f\"Eval score (IoU): {iou}\")\n",
    "              # print(f\"Eval score (IoU): {scores[0]}\")\n",
    "              # print(f\"Eval score (Edit Distance): {scores[2]}\")\n",
    "\n",
    "        return scores\n",
    "\n",
    "    def validation_epoch_end(self, validation_step_outputs):\n",
    "        # I set this to 1 manually\n",
    "        # (previously set to len(self.config.dataset_name_or_paths))\n",
    "        num_of_loaders = 1\n",
    "        if num_of_loaders == 1:\n",
    "            validation_step_outputs = [validation_step_outputs]\n",
    "        assert len(validation_step_outputs) == num_of_loaders\n",
    "        cnt = [0] * num_of_loaders\n",
    "        total_metric = [0] * num_of_loaders\n",
    "        val_metric = [0] * num_of_loaders\n",
    "        for i, results in enumerate(validation_step_outputs):\n",
    "            for scores in results:\n",
    "                cnt[i] += len(scores)\n",
    "                total_metric[i] += np.sum(scores)\n",
    "            val_metric[i] = total_metric[i] / cnt[i]\n",
    "            val_metric_name = f\"val_metric_{i}th_dataset\"\n",
    "            self.log_dict({val_metric_name: val_metric[i]}, sync_dist=True)\n",
    "        self.log_dict({\"val_metric\": np.sum(total_metric) / np.sum(cnt)}, sync_dist=True)\n",
    "\n",
    "    def configure_optimizers(self):\n",
    "        # https://pytorch-lightning.readthedocs.io/en/stable/common/lightning_module.html?highlight=configure_optimizers#configure-optimizers\n",
    "        optimizer = torch.optim.Adam(self.parameters(), lr=self.learning_rate)\n",
    "        # https://pytorch.org/docs/stable/generated/torch.optim.lr_scheduler.ReduceLROnPlateau.html\n",
    "        # we use max below, because we want the lr to decrease if IoU stops increasing\n",
    "        scheduler = ReduceLROnPlateau(optimizer, mode='min', patience=2) # previously patience=3, 5\n",
    "        # log initial value for val_metric to avoid train error before its calculated\n",
    "        # self.log_dict({\"val_metric\": 0.0}, sync_dist=True)\n",
    "        return  {\n",
    "          \"optimizer\": optimizer,\n",
    "          \"lr_scheduler\": {\n",
    "              \"scheduler\":scheduler,\n",
    "              \"monitor\": \"val_metric\", # track IoU progress\n",
    "              # \"frequency\": \"indicates how often the metric is updated\"\n",
    "              # If \"monitor\" references validation metrics, then \"frequency\" should be set to a\n",
    "              # multiple of \"trainer.check_val_every_n_epoch\".\n",
    "        }\n",
    "    }\n",
    "\n",
    "    def train_dataloader(self):\n",
    "        return train_dataloader\n",
    "\n",
    "    def val_dataloader(self):\n",
    "        return val_dataloader"
   ]
  },
  {
   "cell_type": "markdown",
   "metadata": {
    "id": "bKujfvIDlAHo"
   },
   "source": [
    "Next, we instantiate the module:"
   ]
  },
  {
   "cell_type": "code",
   "execution_count": null,
   "metadata": {
    "id": "pxNJhCGjKhtR"
   },
   "outputs": [],
   "source": [
    "# Since the whole dataset is too big to train in a single epoch\n",
    "# We will sample a small subset (5%-10%) per loop and train for a few epochs\n",
    "# Then sample again and loop a few more epochs\n",
    "# In effect simulating training on the whole dataset.\n",
    "max_epochs_per_loop=10 # previously at 30 epochs and 1024 training samples\n",
    "print(f\"max_epochs_per_loop: {max_epochs_per_loop}\")\n",
    "\n",
    "num_training_samples_per_epoch=800 # initially 800\n",
    "print(f\"num_training_samples_per_epoch: {num_training_samples_per_epoch}\")\n",
    "\n",
    "# Start at 3e-5 and reduce gradually every few epochs if loss oscilations too high. Use LR scheduler if epochs > 10.\n",
    "# See scheduler docs: https://pytorch.org/docs/stable/generated/torch.optim.lr_scheduler.StepLR.html\n",
    "learning_rate= 3e-6 # previously , 1e-6, 1e-5\n",
    "print(f\"learning_rate: {learning_rate}\")\n",
    "\n",
    "# Aim for 10%. Examples: 20 = 800/8*2/10, 10%; 300 for 800/8*30/10\n",
    "warmup_steps=(num_training_samples_per_epoch/train_batch_size)*max_epochs_per_loop/10\n",
    "print(f\"warmup_steps: {warmup_steps}\")\n",
    "\n",
    "\n",
    "def getPLModuleConfig():\n",
    "  config = {\"max_epochs\": max_epochs_per_loop, # aim for 30,\n",
    "            \"val_check_interval\": 1.0, # how many times we want to validate during an epoch\n",
    "            \"check_val_every_n_epoch\":1,\n",
    "            \"gradient_clip_val\":1.0,\n",
    "            \"num_training_samples_per_epoch\": num_training_samples_per_epoch,\n",
    "            \"lr\": learning_rate,\n",
    "            \"train_batch_sizes\": [train_batch_size],\n",
    "            \"val_batch_sizes\": [val_batch_size],\n",
    "            # \"seed\":2022,\n",
    "            # \"num_nodes\": 1,\n",
    "            \"warmup_steps\": warmup_steps, \n",
    "            \"result_path\": \"./result\",\n",
    "            \"verbose\": True,\n",
    "            }\n",
    "  print(f'PL Module Config: {config}')\n",
    "  return config\n",
    "\n"
   ]
  },
  {
   "cell_type": "markdown",
   "metadata": {
    "id": "0ZoPiDOPKg0o"
   },
   "source": [
    "## Train!"
   ]
  },
  {
   "cell_type": "code",
   "execution_count": null,
   "metadata": {
    "id": "GQhXL0AdWpuk"
   },
   "outputs": [],
   "source": [
    "import mlflow\n"
   ]
  },
  {
   "cell_type": "code",
   "execution_count": null,
   "metadata": {
    "id": "NiK6-vQHKnBy"
   },
   "outputs": [],
   "source": [
    "from pytorch_lightning.loggers import MlflowLogger\n",
    "from pytorch_lightning.callbacks import StochasticWeightAveraging, LearningRateMonitor\n",
    "\n",
    "mlflow_logger = MlflowLogger(project=\"Donut-RefExp\")\n",
    "\n",
    "\n",
    "experiment_name = \"DonutUI\"\n",
    "save_dir = \"./donutUI/v1/\"\n",
    "\n",
    "# Create the save directory if it doesn't exist\n",
    "if not os.path.exists(save_dir):\n",
    "    os.makedirs(save_dir)\n",
    "\n",
    "# Take advantage of A100 GPU features\n",
    "# https://pytorch.org/docs/stable/generated/torch.set_float32_matmul_precision.html#torch.set_float32_matmul_precision\n",
    "torch.set_float32_matmul_precision('medium')\n",
    "\n",
    "\n",
    "def prep_trainer():\n",
    "  global processor, model, trainer, model_module\n",
    "  config = getPLModuleConfig()\n",
    "  model_module = DonutModelPLModule(config, processor, model)\n",
    "  mlflow_logger = MlflowLogger(\n",
    "    experiment_name=experiment_name,\n",
    "    save_dir=save_dir\n",
    "  )  # Take advantage of A100 GPU features\n",
    "  # https://pytorch.org/docs/stable/generated/torch.set_float32_matmul_precision.html#torch.set_float32_matmul_precision\n",
    "  torch.set_float32_matmul_precision('medium')\n",
    "\n",
    "  # log learning rate changes by optimizer\n",
    "  lr_monitor = LearningRateMonitor()\n",
    "\n",
    "  trainer = pl.Trainer(\n",
    "          accelerator=\"auto\",\n",
    "          devices=\"auto\",\n",
    "          auto_scale_batch_size=True,\n",
    "          auto_lr_find=True,\n",
    "          # accelerator=\"gpu\",\n",
    "          # devices=1,\n",
    "          max_epochs=config.get(\"max_epochs\"),\n",
    "          val_check_interval=config.get(\"val_check_interval\"),\n",
    "          check_val_every_n_epoch=config.get(\"check_val_every_n_epoch\"),\n",
    "          gradient_clip_val=config.get(\"gradient_clip_val\"),\n",
    "          precision=16, # we'll use mixed precision\n",
    "          num_sanity_val_steps=0,\n",
    "          logger=mlflow_logger,\n",
    "          benchmark=True, # usually speeds up training,\n",
    "          # strategy=\"ddp_notebook\",\n",
    "          # Other effective optimization techniques follow\n",
    "          # https://pytorch-lightning.readthedocs.io/en/stable/advanced/training_tricks.html#accumulate-gradients\n",
    "          # https://pytorch-lightning.readthedocs.io/en/stable/advanced/training_tricks.html#stochastic-weight-averaging\n",
    "          # accumulate_grad_batches={0: 8}, # , 3: 4, 6: 8, 9: 4, 12: 2, 15: 1},\n",
    "          callbacks=[lr_monitor], # , StochasticWeightAveraging(swa_lrs=1e-5)]\n",
    "          # strategy=\"ddp_notebook\",\n",
    "          # callbacks=[lr_callback, checkpoint_callback],\n",
    "  )\n",
    "\n"
   ]
  },
  {
   "cell_type": "code",
   "execution_count": null,
   "metadata": {
    "id": "KNax96JP0CWR"
   },
   "outputs": [],
   "source": [
    "prep_trainer()\n",
    "trainer.fit(model_module) # , ckpt_path=\"last\")"
   ]
  },
  {
   "cell_type": "code",
   "execution_count": null,
   "metadata": {
    "id": "KuU1meNkN3-x"
   },
   "outputs": [],
   "source": []
  },
  {
   "cell_type": "markdown",
   "metadata": {
    "id": "1xl4AeMl3jmb"
   },
   "source": [
    "## Push to hub and reuse\n",
    "\n",
    "HuggingFace's [hub](https://huggingface.co/) is a nice place to host, version and share machine learning models (and datasets, and demos in the form of [Spaces](https://huggingface.co/spaces)).\n",
    "\n"
   ]
  },
  {
   "cell_type": "markdown",
   "metadata": {
    "id": "7X7GV-YE5loA"
   },
   "source": [
    "Pushing to the hub after training is as easy as:"
   ]
  },
  {
   "cell_type": "code",
   "execution_count": null,
   "metadata": {
    "id": "gY24Xk8IDtNR"
   },
   "outputs": [],
   "source": [
    "from transformers import DonutProcessor, VisionEncoderDecoderModel\n",
    "\n",
    "hub_repo_name = REFEXP_MODEL_CHECKPOINT\n",
    "hub_backup_repo_name = \"ivelin/donut-refexp-combined-v1-backup\"\n",
    "local_save_dir=\"saved_pretrained\"\n",
    "local_backup_save_dir=\"saved_pretrained_backup\"\n",
    "\n",
    "def save_pretrained():\n",
    "  global model_module, processor, model\n",
    "\n",
    "  # save a copy to local disk storage just in case push to Hub is rejected.\n",
    "  model_module.processor.save_pretrained(local_save_dir) # repo_id=\"ivelin/donut-refexp-combined-v1.1\") #, use_auth_token=\"...\") \n",
    "  model_module.model.save_pretrained(local_save_dir) # backup_repo_name)\n",
    "\n",
    "  # make sure we can load the model back from disk\n",
    "  processor = processor.from_pretrained(local_save_dir)\n",
    "  model = model.from_pretrained(local_save_dir)\n",
    "\n",
    "  # save a backup\n",
    "  model_module.processor.save_pretrained(local_backup_save_dir) # repo_id=\"ivelin/donut-refexp-combined-v1.1\") #, use_auth_token=\"...\") \n",
    "  model_module.model.save_pretrained(local_backup_save_dir) # backup_repo_name)\n",
    "\n",
    "  #\n",
    "  # here we push the processor and model to the hub\n",
    "  # note that you can add `private=True` in case you're using the private hub\n",
    "  # which makes sure the model is only shared with your colleagues\n",
    "  try:\n",
    "    model_module.processor.push_to_hub(repo_id=hub_repo_name) \n",
    "    model_module.model.push_to_hub(repo_id=hub_repo_name)\n",
    "\n",
    "    processor = DonutProcessor.from_pretrained(hub_repo_name)\n",
    "    model = VisionEncoderDecoderModel.from_pretrained(hub_repo_name)\n",
    "\n",
    "    # save a backup in case uploading to the main model fails and corrupts the data\n",
    "    model_module.processor.push_to_hub(repo_id=hub_backup_repo_name) \n",
    "    model_module.model.push_to_hub(repo_id=hub_backup_repo_name)\n",
    "  except Exception as e:\n",
    "    print(\"Error pushing model to hub\", e)\n",
    "\n",
    " "
   ]
  },
  {
   "cell_type": "code",
   "execution_count": null,
   "metadata": {
    "id": "chaFQM0R3mrb"
   },
   "outputs": [],
   "source": [
    "save_pretrained()"
   ]
  },
  {
   "cell_type": "markdown",
   "metadata": {
    "id": "vsEe8Dt8Fw1m"
   },
   "source": [
    "## Rinse and Repeat\n",
    "\n",
    "Now that we have confidence in the end to end training process, we can setup a continuous loop that runs unattended overnight.\n",
    "\n",
    "\n",
    "\n"
   ]
  },
  {
   "cell_type": "code",
   "execution_count": null,
   "metadata": {
    "id": "0VuSxzW_F1Rl"
   },
   "outputs": [],
   "source": [
    "#@ Set training on cruise control. Repeat the above cycle starting each pass with a fresh data subset.\n",
    "\n",
    "\n",
    "# learning_rate= 1e-7 # latest recommended by trainer.tune()\n",
    "print(f\"Learning rate set to {learning_rate}\")\n",
    "# There is an issue with VisualEncoderDecoder when batch > 1 during training loss calculation\n",
    "# train_batch_size = 1 \n",
    "print(f\"Train batch size set to {train_batch_size}\")\n",
    "\n",
    "\n",
    "def prep_next_data_subset():\n",
    "  train_dataset = DonutDataset(REFEXP_DATASET_NAME, max_length=max_length, \n",
    "                              range_samples=range_train_samples,\n",
    "                              shuffle=True,\n",
    "                              split=\"train\", task_start_token=\"<s_refexp>\", prompt_end_token=\"<s_target_bounding_box>\",\n",
    "                              sort_json_key=False,\n",
    "                              )\n",
    "  val_dataset = DonutDataset(REFEXP_DATASET_NAME, max_length=max_length, range_samples=range_val_samples,\n",
    "                              split=\"validation\", task_start_token=\"<s_refexp>\", prompt_end_token=\"<s_target_bounding_box>\",\n",
    "                              sort_json_key=False,\n",
    "                              )\n",
    "  global train_dataloader, val_dataloader, train_batch_size\n",
    "  train_dataloader = DataLoader(train_dataset, batch_size=train_batch_size, shuffle=True, num_workers=4, pin_memory=True)\n",
    "  val_dataloader = DataLoader(val_dataset, batch_size=1, shuffle=False, num_workers=4, pin_memory=True)  \n",
    "  return train_dataloader, val_dataloader\n",
    "\n",
    "\n",
    "def train_on_data_subset(train_dataloader=None, val_dataloader=None):\n",
    "  global trainer, model_module\n",
    "  trainer.fit(model_module, train_dataloader, val_dataloader) #, ckpt_path=\"last\")\n",
    "  save_pretrained()\n",
    "\n",
    "def tune_hparams():\n",
    "  \"\"\"Use PL Tune the model to discover optimal hyper-parameters. \n",
    "  More details here: https://pytorch-lightning.readthedocs.io/en/stable/common/trainer.html?highlight=batch_size#pytorch_lightning.trainer.Trainer.params.auto_scale_batch_size\"\"\"\n",
    "  global trainer, model_module\n",
    "  print(f\"Tuning trainer hyper parameters...\")\n",
    "  trainer.tune(model_module)\n",
    "  print(f\"Recommended batch_size: {model_module.batch_size}\")\n",
    "  print(f\"Recommended learning rate: {model_module.learning_rate}\")\n",
    "  return model_module.batch_size, model_module.learning_rate\n",
    "\n",
    "\n",
    "def overnight_training():\n",
    "  global train_dataset, val_dataset, max_epochs_per_loop\n",
    "  total_train_samples = dataset['train'].num_rows\n",
    "  total_epochs_per_loop = max_epochs_per_loop * int(total_train_samples/max_train_samples)\n",
    "  # aiming for 100 passes of epoch loops over the whole dataset\n",
    "  total_epochs = total_epochs_per_loop * 100\n",
    "  for epoch_count in range(0, total_epochs, max_epochs_per_loop):\n",
    "    epoch_loop_params = {\n",
    "        'global_epoch_count': epoch_count,\n",
    "        'train_batch_size': train_batch_size, \n",
    "        'learning_rate': learning_rate\n",
    "        }\n",
    "    print(f'Starting epoch loop: {epoch_loop_params}.')\n",
    "    train_dataloader, val_dataloader = prep_next_data_subset()\n",
    "    print(f'Data loaders prepared.')\n",
    "    prep_trainer()\n",
    "    print(f'Trainer prepared.')\n",
    "    # tune hyper parameters every once in a while\n",
    "    # docs: https://pytorch-lightning.readthedocs.io/en/stable/common/trainer.html?highlight=batch_size#pytorch_lightning.trainer.Trainer.params.auto_scale_batch_size\n",
    "    # if epoch_count % total_epochs_per_loop == 0:\n",
    "    #   optimal_batch_size, optimal_lr = tune_hparams()\n",
    "    #   global train_batch_size, learning_rate\n",
    "    #   # save to global space vars for interactive debugging\n",
    "    #   # uncomment below after solving the train loss calc error\n",
    "    #   # train_batch_size = optimal_batch_size\n",
    "    #   learning_rate = optimal_lr\n",
    "    #   # reconfigure trainer with optimal values\n",
    "    #   config[\"lr\"] = optimal_lr\n",
    "    #   config[\"train_batch_sizes\"] = [optimal_batch_size]\n",
    "    #   print(f\"Train learning rate set to {optimal_lr}\")\n",
    "    #   print(f\"Train batch size set to {optimal_batch_size}\")\n",
    "    print(f'Starting training epoch loop.')\n",
    "    train_on_data_subset(train_dataloader=train_dataloader, val_dataloader=val_dataloader)\n",
    "    print(f'Ended training epoch loop.')\n"
   ]
  },
  {
   "cell_type": "code",
   "execution_count": null,
   "metadata": {
    "id": "3wlOVLAMGK32"
   },
   "outputs": [],
   "source": [
    "overnight_training()\n",
    "\n"
   ]
  },
  {
   "cell_type": "code",
   "execution_count": null,
   "metadata": {
    "id": "1Bu-ixvEsRAy"
   },
   "outputs": [],
   "source": []
  },
  {
   "cell_type": "code",
   "execution_count": null,
   "metadata": {
    "id": "IhVQ-stkd0Ym"
   },
   "outputs": [],
   "source": [
    "\n"
   ]
  },
  {
   "cell_type": "markdown",
   "metadata": {
    "id": "9t50qDh-lGMg"
   },
   "source": [
    "# Inference\n",
    "\n",
    "For inference, you can use this [Gradio playground notebook](https://github.com/ivelin/donut_ui_refexp/blob/main/Inference_Playground_Donut_UI_RefExp_Gradio.ipynb) or this [Huggingface playspace](https://huggingface.co/spaces/ivelin/ui-refexp). Also see the Donut [docs](https://huggingface.co/docs/transformers/main/en/model_doc/donut#inference)."
   ]
  },
  {
   "cell_type": "markdown",
   "metadata": {
    "id": "AJczyEB6Vq4G"
   },
   "source": [
    "# Questions and Contributions\n",
    "\n",
    "For questions and suggestions, please open an Issue in the [github repo](https://github.com/ivelin/donut_ui_refexp). PRs are also most welcome."
   ]
  }
 ],
 "metadata": {
  "accelerator": "GPU",
  "colab": {
   "include_colab_link": true,
   "machine_shape": "hm",
   "name": "Fine-tune Donut on UI RefExp.ipynb",
   "private_outputs": true,
   "provenance": [],
   "toc_visible": true
  },
  "gpuClass": "standard",
  "kernelspec": {
   "display_name": "Python 3 (ipykernel)",
   "language": "python",
   "name": "python3"
  },
  "language_info": {
   "codemirror_mode": {
    "name": "ipython",
    "version": 3
   },
   "file_extension": ".py",
   "mimetype": "text/x-python",
   "name": "python",
   "nbconvert_exporter": "python",
   "pygments_lexer": "ipython3",
   "version": "3.9.13"
  }
 },
 "nbformat": 4,
 "nbformat_minor": 1
}
