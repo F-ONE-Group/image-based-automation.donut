{
  "nbformat": 4,
  "nbformat_minor": 0,
  "metadata": {
    "colab": {
      "name": "Fine-tune Donut on UI RefExp.ipynb",
      "provenance": [],
      "include_colab_link": true
    },
    "kernelspec": {
      "name": "python3",
      "display_name": "Python 3"
    },
    "language_info": {
      "name": "python"
    },
    "accelerator": "GPU",
    "gpuClass": "standard",
    "widgets": {
      "application/vnd.jupyter.widget-state+json": {
        "86e583718ef747b3a9a764dffe819561": {
          "model_module": "@jupyter-widgets/controls",
          "model_name": "HBoxModel",
          "model_module_version": "1.5.0",
          "state": {
            "_dom_classes": [],
            "_model_module": "@jupyter-widgets/controls",
            "_model_module_version": "1.5.0",
            "_model_name": "HBoxModel",
            "_view_count": null,
            "_view_module": "@jupyter-widgets/controls",
            "_view_module_version": "1.5.0",
            "_view_name": "HBoxView",
            "box_style": "",
            "children": [
              "IPY_MODEL_ca979743ccfe4e17ae1272b095ca422d",
              "IPY_MODEL_f1030ea9c9ff417d9fd8dddb938013d2",
              "IPY_MODEL_4a9d8c377067448c9e315cb723351677"
            ],
            "layout": "IPY_MODEL_a83a8448be594404ad652a792504984e"
          }
        },
        "ca979743ccfe4e17ae1272b095ca422d": {
          "model_module": "@jupyter-widgets/controls",
          "model_name": "HTMLModel",
          "model_module_version": "1.5.0",
          "state": {
            "_dom_classes": [],
            "_model_module": "@jupyter-widgets/controls",
            "_model_module_version": "1.5.0",
            "_model_name": "HTMLModel",
            "_view_count": null,
            "_view_module": "@jupyter-widgets/controls",
            "_view_module_version": "1.5.0",
            "_view_name": "HTMLView",
            "description": "",
            "description_tooltip": null,
            "layout": "IPY_MODEL_cb870f14cee347229650f6c9514a0ea8",
            "placeholder": "​",
            "style": "IPY_MODEL_de7f3867a3cf4df39987907d731629af",
            "value": "100%"
          }
        },
        "f1030ea9c9ff417d9fd8dddb938013d2": {
          "model_module": "@jupyter-widgets/controls",
          "model_name": "FloatProgressModel",
          "model_module_version": "1.5.0",
          "state": {
            "_dom_classes": [],
            "_model_module": "@jupyter-widgets/controls",
            "_model_module_version": "1.5.0",
            "_model_name": "FloatProgressModel",
            "_view_count": null,
            "_view_module": "@jupyter-widgets/controls",
            "_view_module_version": "1.5.0",
            "_view_name": "ProgressView",
            "bar_style": "success",
            "description": "",
            "description_tooltip": null,
            "layout": "IPY_MODEL_76fb7fe2a63443c0a9910967aadda37c",
            "max": 3,
            "min": 0,
            "orientation": "horizontal",
            "style": "IPY_MODEL_89249ea947d447e59f8b5576cb6ccc27",
            "value": 3
          }
        },
        "4a9d8c377067448c9e315cb723351677": {
          "model_module": "@jupyter-widgets/controls",
          "model_name": "HTMLModel",
          "model_module_version": "1.5.0",
          "state": {
            "_dom_classes": [],
            "_model_module": "@jupyter-widgets/controls",
            "_model_module_version": "1.5.0",
            "_model_name": "HTMLModel",
            "_view_count": null,
            "_view_module": "@jupyter-widgets/controls",
            "_view_module_version": "1.5.0",
            "_view_name": "HTMLView",
            "description": "",
            "description_tooltip": null,
            "layout": "IPY_MODEL_db129da47bfc49979a182fc4300630e4",
            "placeholder": "​",
            "style": "IPY_MODEL_dbf1bdc825684f47be043e4d1ea08f1c",
            "value": " 3/3 [00:03&lt;00:00,  1.13s/it]"
          }
        },
        "a83a8448be594404ad652a792504984e": {
          "model_module": "@jupyter-widgets/base",
          "model_name": "LayoutModel",
          "model_module_version": "1.2.0",
          "state": {
            "_model_module": "@jupyter-widgets/base",
            "_model_module_version": "1.2.0",
            "_model_name": "LayoutModel",
            "_view_count": null,
            "_view_module": "@jupyter-widgets/base",
            "_view_module_version": "1.2.0",
            "_view_name": "LayoutView",
            "align_content": null,
            "align_items": null,
            "align_self": null,
            "border": null,
            "bottom": null,
            "display": null,
            "flex": null,
            "flex_flow": null,
            "grid_area": null,
            "grid_auto_columns": null,
            "grid_auto_flow": null,
            "grid_auto_rows": null,
            "grid_column": null,
            "grid_gap": null,
            "grid_row": null,
            "grid_template_areas": null,
            "grid_template_columns": null,
            "grid_template_rows": null,
            "height": null,
            "justify_content": null,
            "justify_items": null,
            "left": null,
            "margin": null,
            "max_height": null,
            "max_width": null,
            "min_height": null,
            "min_width": null,
            "object_fit": null,
            "object_position": null,
            "order": null,
            "overflow": null,
            "overflow_x": null,
            "overflow_y": null,
            "padding": null,
            "right": null,
            "top": null,
            "visibility": null,
            "width": null
          }
        },
        "cb870f14cee347229650f6c9514a0ea8": {
          "model_module": "@jupyter-widgets/base",
          "model_name": "LayoutModel",
          "model_module_version": "1.2.0",
          "state": {
            "_model_module": "@jupyter-widgets/base",
            "_model_module_version": "1.2.0",
            "_model_name": "LayoutModel",
            "_view_count": null,
            "_view_module": "@jupyter-widgets/base",
            "_view_module_version": "1.2.0",
            "_view_name": "LayoutView",
            "align_content": null,
            "align_items": null,
            "align_self": null,
            "border": null,
            "bottom": null,
            "display": null,
            "flex": null,
            "flex_flow": null,
            "grid_area": null,
            "grid_auto_columns": null,
            "grid_auto_flow": null,
            "grid_auto_rows": null,
            "grid_column": null,
            "grid_gap": null,
            "grid_row": null,
            "grid_template_areas": null,
            "grid_template_columns": null,
            "grid_template_rows": null,
            "height": null,
            "justify_content": null,
            "justify_items": null,
            "left": null,
            "margin": null,
            "max_height": null,
            "max_width": null,
            "min_height": null,
            "min_width": null,
            "object_fit": null,
            "object_position": null,
            "order": null,
            "overflow": null,
            "overflow_x": null,
            "overflow_y": null,
            "padding": null,
            "right": null,
            "top": null,
            "visibility": null,
            "width": null
          }
        },
        "de7f3867a3cf4df39987907d731629af": {
          "model_module": "@jupyter-widgets/controls",
          "model_name": "DescriptionStyleModel",
          "model_module_version": "1.5.0",
          "state": {
            "_model_module": "@jupyter-widgets/controls",
            "_model_module_version": "1.5.0",
            "_model_name": "DescriptionStyleModel",
            "_view_count": null,
            "_view_module": "@jupyter-widgets/base",
            "_view_module_version": "1.2.0",
            "_view_name": "StyleView",
            "description_width": ""
          }
        },
        "76fb7fe2a63443c0a9910967aadda37c": {
          "model_module": "@jupyter-widgets/base",
          "model_name": "LayoutModel",
          "model_module_version": "1.2.0",
          "state": {
            "_model_module": "@jupyter-widgets/base",
            "_model_module_version": "1.2.0",
            "_model_name": "LayoutModel",
            "_view_count": null,
            "_view_module": "@jupyter-widgets/base",
            "_view_module_version": "1.2.0",
            "_view_name": "LayoutView",
            "align_content": null,
            "align_items": null,
            "align_self": null,
            "border": null,
            "bottom": null,
            "display": null,
            "flex": null,
            "flex_flow": null,
            "grid_area": null,
            "grid_auto_columns": null,
            "grid_auto_flow": null,
            "grid_auto_rows": null,
            "grid_column": null,
            "grid_gap": null,
            "grid_row": null,
            "grid_template_areas": null,
            "grid_template_columns": null,
            "grid_template_rows": null,
            "height": null,
            "justify_content": null,
            "justify_items": null,
            "left": null,
            "margin": null,
            "max_height": null,
            "max_width": null,
            "min_height": null,
            "min_width": null,
            "object_fit": null,
            "object_position": null,
            "order": null,
            "overflow": null,
            "overflow_x": null,
            "overflow_y": null,
            "padding": null,
            "right": null,
            "top": null,
            "visibility": null,
            "width": null
          }
        },
        "89249ea947d447e59f8b5576cb6ccc27": {
          "model_module": "@jupyter-widgets/controls",
          "model_name": "ProgressStyleModel",
          "model_module_version": "1.5.0",
          "state": {
            "_model_module": "@jupyter-widgets/controls",
            "_model_module_version": "1.5.0",
            "_model_name": "ProgressStyleModel",
            "_view_count": null,
            "_view_module": "@jupyter-widgets/base",
            "_view_module_version": "1.2.0",
            "_view_name": "StyleView",
            "bar_color": null,
            "description_width": ""
          }
        },
        "db129da47bfc49979a182fc4300630e4": {
          "model_module": "@jupyter-widgets/base",
          "model_name": "LayoutModel",
          "model_module_version": "1.2.0",
          "state": {
            "_model_module": "@jupyter-widgets/base",
            "_model_module_version": "1.2.0",
            "_model_name": "LayoutModel",
            "_view_count": null,
            "_view_module": "@jupyter-widgets/base",
            "_view_module_version": "1.2.0",
            "_view_name": "LayoutView",
            "align_content": null,
            "align_items": null,
            "align_self": null,
            "border": null,
            "bottom": null,
            "display": null,
            "flex": null,
            "flex_flow": null,
            "grid_area": null,
            "grid_auto_columns": null,
            "grid_auto_flow": null,
            "grid_auto_rows": null,
            "grid_column": null,
            "grid_gap": null,
            "grid_row": null,
            "grid_template_areas": null,
            "grid_template_columns": null,
            "grid_template_rows": null,
            "height": null,
            "justify_content": null,
            "justify_items": null,
            "left": null,
            "margin": null,
            "max_height": null,
            "max_width": null,
            "min_height": null,
            "min_width": null,
            "object_fit": null,
            "object_position": null,
            "order": null,
            "overflow": null,
            "overflow_x": null,
            "overflow_y": null,
            "padding": null,
            "right": null,
            "top": null,
            "visibility": null,
            "width": null
          }
        },
        "dbf1bdc825684f47be043e4d1ea08f1c": {
          "model_module": "@jupyter-widgets/controls",
          "model_name": "DescriptionStyleModel",
          "model_module_version": "1.5.0",
          "state": {
            "_model_module": "@jupyter-widgets/controls",
            "_model_module_version": "1.5.0",
            "_model_name": "DescriptionStyleModel",
            "_view_count": null,
            "_view_module": "@jupyter-widgets/base",
            "_view_module_version": "1.2.0",
            "_view_name": "StyleView",
            "description_width": ""
          }
        }
      }
    }
  },
  "cells": [
    {
      "cell_type": "markdown",
      "metadata": {
        "id": "view-in-github",
        "colab_type": "text"
      },
      "source": [
        "<a href=\"https://colab.research.google.com/github/ivelin/donut_ui_refexp/blob/main/Fine_tune_Donut_on_UI_RefExp.ipynb\" target=\"_parent\"><img src=\"https://colab.research.google.com/assets/colab-badge.svg\" alt=\"Open In Colab\"/></a>"
      ]
    },
    {
      "cell_type": "markdown",
      "metadata": {
        "id": "DNMqJ821yNVo"
      },
      "source": [
        "# Fine-tune Donut 🍩 on UI RefExp\n",
        "\n",
        "> _NOTE_: This notebook is based on the [Donut fine-tuning notebooks by Niels Rogge](https://github.com/NielsRogge/Transformers-Tutorials/tree/master/Donut). \n",
        "\n",
        "In this notebook, we'll fine-tune [Donut](https://huggingface.co/docs/transformers/model_doc/donut) (which is an instance of [`VisionEncoderDecoderModel`](https://huggingface.co/docs/transformers/model_doc/vision-encoder-decoder)) on a [UI RefExp dataset](https://huggingface.co/datasets/ivelin/ui_refexp_saved), which is a dataset consisting of triplets: (UI screenshot, prompt, and target bounding box). This way, the model will learn to look at a screenshot image, and answer a prompt referring to a UI component. For example: \"select the search icon next to the menu drawer\". This could be useful for tasks such as converting natural language app documentation to exectuable tests, bug reporting front end test automation and app support chat bots.\n",
        "\n",
        "Multiple specialized models have been proposed to solve the UI RefExp task in recent years: [seq2act](https://paperswithcode.com/paper/mapping-natural-language-instructions-to), [UIBert](https://paperswithcode.com/paper/uibert-learning-generic-multimodal), [pix2struct](https://paperswithcode.com/paper/pix2struct-screenshot-parsing-as-pretraining) and others.\n",
        "\n",
        "Here we will use Donut - a Document Understanding model with state of the art performance as of 2022. We will see Donut can be fine tuned to perform well on the UI RefExp task even though it was not originally designed for it. The intuition is that paper documents have similar visual and language comprehension challenges as UI screens. Since Donut is OCR-free multi-modal model, it should be able to pick up visual and text features in UI components as well as spacial relationships between them.\n",
        "\n",
        "We will repurpose the DocVQA fine-tuning task so that the model learns to output bounding box coordinates of the referred component instead of its text label.\n",
        "\n",
        "Let's get started!\n",
        "\n",
        "## Set-up environment\n",
        "\n",
        "First, let's install the relevant libraries:\n",
        "* 🤗 Transformers, for the model\n",
        "* 🤗 Datasets, for loading + processing the data\n",
        "* PyTorch Lightning, for training the model\n",
        "* Weights and Biases, for logging metrics during training\n",
        "* Sentencepiece, used for tokenization."
      ]
    },
    {
      "cell_type": "code",
      "execution_count": 1,
      "metadata": {
        "colab": {
          "base_uri": "https://localhost:8080/"
        },
        "id": "ot1nP9YHz8co",
        "outputId": "cd11be74-d50d-4ca9-ee4b-f054f70887c8"
      },
      "outputs": [
        {
          "output_type": "stream",
          "name": "stdout",
          "text": [
            "  Installing build dependencies ... \u001b[?25l\u001b[?25hdone\n",
            "  Getting requirements to build wheel ... \u001b[?25l\u001b[?25hdone\n",
            "  Preparing metadata (pyproject.toml) ... \u001b[?25l\u001b[?25hdone\n"
          ]
        }
      ],
      "source": [
        "!pip install -q git+https://github.com/huggingface/transformers.git"
      ]
    },
    {
      "cell_type": "code",
      "execution_count": 2,
      "metadata": {
        "id": "OqcGNPJHyOlt"
      },
      "outputs": [],
      "source": [
        "!pip install -q datasets sentencepiece"
      ]
    },
    {
      "cell_type": "code",
      "execution_count": 3,
      "metadata": {
        "id": "zMZ6tiMB1JxD"
      },
      "outputs": [],
      "source": [
        "!pip install -q pytorch-lightning wandb"
      ]
    },
    {
      "cell_type": "code",
      "source": [
        "#@title Login to HuggingFace hub so we can save our trained model checkpoints\n",
        "!huggingface-cli login"
      ],
      "metadata": {
        "colab": {
          "base_uri": "https://localhost:8080/"
        },
        "id": "PdgBa6qK3nup",
        "outputId": "5e2c4590-457f-494c-d7a1-a8bba03b24d6"
      },
      "execution_count": 4,
      "outputs": [
        {
          "output_type": "stream",
          "name": "stdout",
          "text": [
            "\n",
            "    _|    _|  _|    _|    _|_|_|    _|_|_|  _|_|_|  _|      _|    _|_|_|      _|_|_|_|    _|_|      _|_|_|  _|_|_|_|\n",
            "    _|    _|  _|    _|  _|        _|          _|    _|_|    _|  _|            _|        _|    _|  _|        _|\n",
            "    _|_|_|_|  _|    _|  _|  _|_|  _|  _|_|    _|    _|  _|  _|  _|  _|_|      _|_|_|    _|_|_|_|  _|        _|_|_|\n",
            "    _|    _|  _|    _|  _|    _|  _|    _|    _|    _|    _|_|  _|    _|      _|        _|    _|  _|        _|\n",
            "    _|    _|    _|_|      _|_|_|    _|_|_|  _|_|_|  _|      _|    _|_|_|      _|        _|    _|    _|_|_|  _|_|_|_|\n",
            "\n",
            "    To login, `huggingface_hub` now requires a token generated from https://huggingface.co/settings/tokens .\n",
            "    \n",
            "Token: \n",
            "Add token as git credential? (Y/n) n\n",
            "Token is valid.\n",
            "Your token has been saved to /root/.huggingface/token\n",
            "Login successful\n"
          ]
        }
      ]
    },
    {
      "cell_type": "code",
      "source": [
        "#@title Login to Weights&Biases so we can log and chart our training metrics\n",
        "!wandb login"
      ],
      "metadata": {
        "colab": {
          "base_uri": "https://localhost:8080/"
        },
        "id": "GWoh-cGbnWpM",
        "outputId": "75c4aa83-5c1b-4920-ca12-fc4f6ff491fc"
      },
      "execution_count": 5,
      "outputs": [
        {
          "output_type": "stream",
          "name": "stdout",
          "text": [
            "\u001b[34m\u001b[1mwandb\u001b[0m: Currently logged in as: \u001b[33mivelin-eth\u001b[0m. Use \u001b[1m`wandb login --relogin`\u001b[0m to force relogin\n"
          ]
        }
      ]
    },
    {
      "cell_type": "markdown",
      "metadata": {
        "id": "kWYic8VNyDNU"
      },
      "source": [
        "## Load dataset\n",
        "\n",
        "Next, let's load the dataset from the [hub](https://huggingface.co/datasets/naver-clova-ix/cord-v2). We're prepared a minimal dataset for DocVQA, the notebook for that can be found [here](https://github.com/NielsRogge/Transformers-Tutorials/blob/master/Donut/DocVQA/Creating_a_toy_DocVQA_dataset_for_Donut.ipynb).\n",
        "\n",
        "Important here is that we've added a \"ground_truth\" column, containing the ground truth JSON which the model will learn to generate."
      ]
    },
    {
      "cell_type": "code",
      "execution_count": 6,
      "metadata": {
        "id": "5hU27XC2yEot"
      },
      "outputs": [],
      "source": [
        "REFEXP_DATASET_NAME = \"ivelin/rico_refexp_combined\"\n",
        "\n",
        "# Pick which pretrained checkpoint to start the fine tuning process from\n",
        "REFEXP_MODEL_CHECKPOINT = \"ivelin/donut-refexp-combined-v1\"\n",
        "\n",
        "# REFEXP_MODEL_CHECKPOINT = \"ivelin/donut-refexp-draft\"\n",
        "# REFEXP_MODEL_CHECKPOINT = \"naver-clova-ix/donut-base\"\n",
        "# REFEXP_MODEL_CHECKPOINT = \"ivelin/donut-docvqa-demo\"\n"
      ]
    },
    {
      "cell_type": "code",
      "source": [
        "from datasets import load_dataset\n",
        "\n",
        "dataset = load_dataset(REFEXP_DATASET_NAME)"
      ],
      "metadata": {
        "colab": {
          "base_uri": "https://localhost:8080/",
          "height": 84,
          "referenced_widgets": [
            "86e583718ef747b3a9a764dffe819561",
            "ca979743ccfe4e17ae1272b095ca422d",
            "f1030ea9c9ff417d9fd8dddb938013d2",
            "4a9d8c377067448c9e315cb723351677",
            "a83a8448be594404ad652a792504984e",
            "cb870f14cee347229650f6c9514a0ea8",
            "de7f3867a3cf4df39987907d731629af",
            "76fb7fe2a63443c0a9910967aadda37c",
            "89249ea947d447e59f8b5576cb6ccc27",
            "db129da47bfc49979a182fc4300630e4",
            "dbf1bdc825684f47be043e4d1ea08f1c"
          ]
        },
        "id": "hSguzMVA-KCj",
        "outputId": "cf5bdad2-8eaa-4ee5-82d1-2a6d91dafc11"
      },
      "execution_count": 7,
      "outputs": [
        {
          "output_type": "stream",
          "name": "stderr",
          "text": [
            "WARNING:datasets.builder:Using custom data configuration ivelin--rico_refexp_combined-00b3f39c0a84947d\n",
            "WARNING:datasets.builder:Found cached dataset parquet (/root/.cache/huggingface/datasets/ivelin___parquet/ivelin--rico_refexp_combined-00b3f39c0a84947d/0.0.0/2a3b91fbd88a2c90d1dbbb32b460cf621d31bd5b05b934492fdef7d8d6f236ec)\n"
          ]
        },
        {
          "output_type": "display_data",
          "data": {
            "text/plain": [
              "  0%|          | 0/3 [00:00<?, ?it/s]"
            ],
            "application/vnd.jupyter.widget-view+json": {
              "version_major": 2,
              "version_minor": 0,
              "model_id": "86e583718ef747b3a9a764dffe819561"
            }
          },
          "metadata": {}
        }
      ]
    },
    {
      "cell_type": "markdown",
      "source": [
        "As can be seen, the dataset contains a training, a validation and a test split. And each example consists of an image, a prompt, and a target bounding box."
      ],
      "metadata": {
        "id": "wjI5uyk48V-g"
      }
    },
    {
      "cell_type": "code",
      "execution_count": 8,
      "metadata": {
        "colab": {
          "base_uri": "https://localhost:8080/"
        },
        "id": "1DYk7tDBy-ys",
        "outputId": "271b691b-6669-47ca-c7f3-4f93ac97f5a1"
      },
      "outputs": [
        {
          "output_type": "stream",
          "name": "stdout",
          "text": [
            "DatasetInfo(description='', citation='', homepage='', license='', features={'image': Image(decode=True, id=None), 'image_id': Value(dtype='string', id=None), 'prompt': Value(dtype='string', id=None), 'target_bounding_box': {'xmax': Value(dtype='float64', id=None), 'xmin': Value(dtype='float64', id=None), 'ymax': Value(dtype='float64', id=None), 'ymin': Value(dtype='float64', id=None)}}, post_processed=None, supervised_keys=None, task_templates=None, builder_name=None, config_name=None, version=None, splits={'validation': SplitInfo(name='validation', num_bytes=409057163, num_examples=3191, shard_lengths=None, dataset_name='parquet'), 'test': SplitInfo(name='test', num_bytes=456367852, num_examples=3912, shard_lengths=None, dataset_name='parquet'), 'train': SplitInfo(name='train', num_bytes=42129003316, num_examples=390084, shard_lengths=[4590, 4590, 4590, 4590, 9180, 9180, 4590, 9180, 9180, 9180, 4590, 9180, 4590, 9178, 9178, 9178, 9178, 9178, 9178, 4589, 9178, 4589, 4589, 4589, 9178, 9178, 9178, 9178, 9178, 4589, 4589, 9178, 9178, 9178, 4589, 9178, 4589, 4589, 9178, 9178, 9178, 4589, 4589, 9178, 9178, 9178, 4589, 4589, 9178, 4589, 4589, 9178, 9178, 4589], dataset_name='parquet')}, download_checksums={'https://huggingface.co/datasets/ivelin/rico_refexp_combined/resolve/89a10374941b0e80d75ae00ad6ca81d7b67e33ac/data/validation-00000-of-00001-6231b5fbb365cd26.parquet': {'num_bytes': 284902161, 'checksum': '84d01518d13227e91714475c87d6ee59452061b11e7ea8f8e33453f421b17b28'}, 'https://huggingface.co/datasets/ivelin/rico_refexp_combined/resolve/89a10374941b0e80d75ae00ad6ca81d7b67e33ac/data/test-00000-of-00001-09f7223bee6a973d.parquet': {'num_bytes': 318595519, 'checksum': 'b37ba8683d93fac871b173b5133ac869ec153e8e55752236470d958faf6b9e8c'}, 'https://huggingface.co/datasets/ivelin/rico_refexp_combined/resolve/89a10374941b0e80d75ae00ad6ca81d7b67e33ac/data/train-00000-of-00085-f3461cdd9dc9472d.parquet': {'num_bytes': 433640875, 'checksum': '3ed49ecda2bfae0fd03c3facc6e79d8078b8c452b5922a716442f42b967c9448'}, 'https://huggingface.co/datasets/ivelin/rico_refexp_combined/resolve/89a10374941b0e80d75ae00ad6ca81d7b67e33ac/data/train-00001-of-00085-5020257913158460.parquet': {'num_bytes': 424785562, 'checksum': '5a4705bb508a1c4dc742385b922c3644be80526e4f83677082f8daa4bd9979a2'}, 'https://huggingface.co/datasets/ivelin/rico_refexp_combined/resolve/89a10374941b0e80d75ae00ad6ca81d7b67e33ac/data/train-00002-of-00085-a20edafbec0b704f.parquet': {'num_bytes': 434432898, 'checksum': 'd3d37cb1029fc281c79f1ad7fecd8efde44974cd642fa3b5fd6cc1339d1ac946'}, 'https://huggingface.co/datasets/ivelin/rico_refexp_combined/resolve/89a10374941b0e80d75ae00ad6ca81d7b67e33ac/data/train-00003-of-00085-b81946b76e056cf4.parquet': {'num_bytes': 373085441, 'checksum': 'f82a98d0141d14f0439f02ef77f79df92ffb3d5bf2cb60531e235a3b9783e390'}, 'https://huggingface.co/datasets/ivelin/rico_refexp_combined/resolve/89a10374941b0e80d75ae00ad6ca81d7b67e33ac/data/train-00004-of-00085-2c7a2f400a85d114.parquet': {'num_bytes': 301731775, 'checksum': 'cfd596c87cf74ca04fd6b9e456030f510562df3b09bb4f7a72c28c9c28d9b720'}, 'https://huggingface.co/datasets/ivelin/rico_refexp_combined/resolve/89a10374941b0e80d75ae00ad6ca81d7b67e33ac/data/train-00005-of-00085-abefdcdb0b1adbaa.parquet': {'num_bytes': 269861229, 'checksum': '14e8a6834d0d41561c995a5845cb4df1c8e229cfff9a6b83739160a244038b0b'}, 'https://huggingface.co/datasets/ivelin/rico_refexp_combined/resolve/89a10374941b0e80d75ae00ad6ca81d7b67e33ac/data/train-00006-of-00085-36df8ccf502abdab.parquet': {'num_bytes': 268812418, 'checksum': 'c733a0999889c52802ccf6c264ab9739aa22fc463a52207f37079f9a7f06451f'}, 'https://huggingface.co/datasets/ivelin/rico_refexp_combined/resolve/89a10374941b0e80d75ae00ad6ca81d7b67e33ac/data/train-00007-of-00085-f2349a4d9c8faac0.parquet': {'num_bytes': 266539933, 'checksum': '71ce9b50a264371fc825b89c677d0544906126403e084eadfd6e8174b0f2260b'}, 'https://huggingface.co/datasets/ivelin/rico_refexp_combined/resolve/89a10374941b0e80d75ae00ad6ca81d7b67e33ac/data/train-00008-of-00085-e3435f6a9371b2de.parquet': {'num_bytes': 346235984, 'checksum': '65a48150397af761bb39bfb91a7c58e8d65b3d4d39ab292b5b4037c404701c0c'}, 'https://huggingface.co/datasets/ivelin/rico_refexp_combined/resolve/89a10374941b0e80d75ae00ad6ca81d7b67e33ac/data/train-00009-of-00085-6316245cccc68c06.parquet': {'num_bytes': 299331628, 'checksum': 'b66ab04e63aaca96e55427da74a80afcdbc0599ed34cf532f9d23ef130a36a1c'}, 'https://huggingface.co/datasets/ivelin/rico_refexp_combined/resolve/89a10374941b0e80d75ae00ad6ca81d7b67e33ac/data/train-00010-of-00085-e29edd7943eea668.parquet': {'num_bytes': 307812745, 'checksum': 'b3ad505fe87f22db98979deba1a3ea65679199ca53a9935573098c3a4926dee3'}, 'https://huggingface.co/datasets/ivelin/rico_refexp_combined/resolve/89a10374941b0e80d75ae00ad6ca81d7b67e33ac/data/train-00011-of-00085-afb4ae70e43ebf8c.parquet': {'num_bytes': 304277452, 'checksum': 'aecd8699aaeb21312d8221ddd87e6eb63a3e3b5500fe0adf271e3968f4956c66'}, 'https://huggingface.co/datasets/ivelin/rico_refexp_combined/resolve/89a10374941b0e80d75ae00ad6ca81d7b67e33ac/data/train-00012-of-00085-c46f70504573fdb6.parquet': {'num_bytes': 294968797, 'checksum': 'dd86a0502f1dd4f9a0803feb19ee2ba1a31b37907345154c4d2a14e0d439886f'}, 'https://huggingface.co/datasets/ivelin/rico_refexp_combined/resolve/89a10374941b0e80d75ae00ad6ca81d7b67e33ac/data/train-00013-of-00085-ff77dd39650811bc.parquet': {'num_bytes': 278419794, 'checksum': 'd0a8cb73a9d5665d413fe5f564378963ee4e496396062afb42d1171039521916'}, 'https://huggingface.co/datasets/ivelin/rico_refexp_combined/resolve/89a10374941b0e80d75ae00ad6ca81d7b67e33ac/data/train-00014-of-00085-b5cc0d0467e4753a.parquet': {'num_bytes': 301589114, 'checksum': 'fa6b23cfb7485b7fa43fcb0c50ae77a32a6cfa3defd6501e3461985ca6c343cd'}, 'https://huggingface.co/datasets/ivelin/rico_refexp_combined/resolve/89a10374941b0e80d75ae00ad6ca81d7b67e33ac/data/train-00015-of-00085-f45399d1640a5c7d.parquet': {'num_bytes': 318887087, 'checksum': '4f0b50bca3f7086472bc7dfc4be000cbbefb46f4d079da5ce0be886aec3537d5'}, 'https://huggingface.co/datasets/ivelin/rico_refexp_combined/resolve/89a10374941b0e80d75ae00ad6ca81d7b67e33ac/data/train-00016-of-00085-f61d343a34f372c3.parquet': {'num_bytes': 298126959, 'checksum': 'ab81a2df25ed8bcfd090cd0610c83200aa603d131d59a6e0b499da26112280d2'}, 'https://huggingface.co/datasets/ivelin/rico_refexp_combined/resolve/89a10374941b0e80d75ae00ad6ca81d7b67e33ac/data/train-00017-of-00085-4c1614a15d72588f.parquet': {'num_bytes': 329461507, 'checksum': 'c6e615cc395bdf27f05ba8022edb5b917411cee6a9b842a73abc1c1c4868123a'}, 'https://huggingface.co/datasets/ivelin/rico_refexp_combined/resolve/89a10374941b0e80d75ae00ad6ca81d7b67e33ac/data/train-00018-of-00085-7d712fa6bacf1be6.parquet': {'num_bytes': 329127922, 'checksum': '8ccfb9b0caef362c0614b9816a0bef49e747f0af51697f7a58473732ea9d81d4'}, 'https://huggingface.co/datasets/ivelin/rico_refexp_combined/resolve/89a10374941b0e80d75ae00ad6ca81d7b67e33ac/data/train-00019-of-00085-c6f5d160ab4aacd0.parquet': {'num_bytes': 309810836, 'checksum': 'b993ed3084727f36d0b79b1f2401d18ff0a54edb8c0abab4071c22ff6856c5f7'}, 'https://huggingface.co/datasets/ivelin/rico_refexp_combined/resolve/89a10374941b0e80d75ae00ad6ca81d7b67e33ac/data/train-00020-of-00085-aba217cf9aff5a96.parquet': {'num_bytes': 341483955, 'checksum': '9ebe2cb42bcfb7dff5f5c425ef58400e4b0c116186bc94515495f28aeb9e5f3a'}, 'https://huggingface.co/datasets/ivelin/rico_refexp_combined/resolve/89a10374941b0e80d75ae00ad6ca81d7b67e33ac/data/train-00021-of-00085-d9faf8d93228ee38.parquet': {'num_bytes': 302754967, 'checksum': 'ba61fb859b8c2350ed54ec7b8989e3be824f968455860235d5e0c53c946119c6'}, 'https://huggingface.co/datasets/ivelin/rico_refexp_combined/resolve/89a10374941b0e80d75ae00ad6ca81d7b67e33ac/data/train-00022-of-00085-44a73a9c9d387e6f.parquet': {'num_bytes': 350627314, 'checksum': 'd7c75c61ac1931cb35976cecd98d093fc2f2486338edc1a81c8f88fcf9c22664'}, 'https://huggingface.co/datasets/ivelin/rico_refexp_combined/resolve/89a10374941b0e80d75ae00ad6ca81d7b67e33ac/data/train-00023-of-00085-0f9544edaf7b3579.parquet': {'num_bytes': 297499654, 'checksum': '1cf58055ff63091f6690f3bac96e14cefce030484227d90d93eeb6005c41388b'}, 'https://huggingface.co/datasets/ivelin/rico_refexp_combined/resolve/89a10374941b0e80d75ae00ad6ca81d7b67e33ac/data/train-00024-of-00085-085b60d193066cec.parquet': {'num_bytes': 314512166, 'checksum': '2a8eda792ac009927522cea6203937a02fa1d7c2c883eaeac92c800cb91be810'}, 'https://huggingface.co/datasets/ivelin/rico_refexp_combined/resolve/89a10374941b0e80d75ae00ad6ca81d7b67e33ac/data/train-00025-of-00085-b118200ea7712571.parquet': {'num_bytes': 313525723, 'checksum': '84bc44afb9cbe54a5a2bac50c6e1e927053c0efe394d6871f105d10ce5992b49'}, 'https://huggingface.co/datasets/ivelin/rico_refexp_combined/resolve/89a10374941b0e80d75ae00ad6ca81d7b67e33ac/data/train-00026-of-00085-0974085cd10d5212.parquet': {'num_bytes': 297211405, 'checksum': 'b340733a6b8ecceeff284979dbfe40c6b385fd25dcc5ece40ba8fd52af29565b'}, 'https://huggingface.co/datasets/ivelin/rico_refexp_combined/resolve/89a10374941b0e80d75ae00ad6ca81d7b67e33ac/data/train-00027-of-00085-8e8451c9c7ce84f8.parquet': {'num_bytes': 317699054, 'checksum': 'd0302096daf818919b64da169402b7ba01fa0f198fdce3f647b0068d80b9026a'}, 'https://huggingface.co/datasets/ivelin/rico_refexp_combined/resolve/89a10374941b0e80d75ae00ad6ca81d7b67e33ac/data/train-00028-of-00085-004e2c0b08e72700.parquet': {'num_bytes': 301972034, 'checksum': '052f310bea8e350090796dc28e7202dc73019055d783308450fac6090468fd4f'}, 'https://huggingface.co/datasets/ivelin/rico_refexp_combined/resolve/89a10374941b0e80d75ae00ad6ca81d7b67e33ac/data/train-00029-of-00085-f6f383e0af20885b.parquet': {'num_bytes': 272795305, 'checksum': 'eb1f18666d4b7fca19b28759c4d44d84bbf566753f4f6e3c7ede9818921e1db9'}, 'https://huggingface.co/datasets/ivelin/rico_refexp_combined/resolve/89a10374941b0e80d75ae00ad6ca81d7b67e33ac/data/train-00030-of-00085-2ff75a6dc18e0c2a.parquet': {'num_bytes': 279730174, 'checksum': 'bd42081d6c3ae18f7935dd9b6f44c8fc6b20454bdb614cab8aef11e7fecba2b1'}, 'https://huggingface.co/datasets/ivelin/rico_refexp_combined/resolve/89a10374941b0e80d75ae00ad6ca81d7b67e33ac/data/train-00031-of-00085-5828e10715c6c6c7.parquet': {'num_bytes': 342958312, 'checksum': '1702ae091ccde66aa5e58d4850cc394437d031dca6c0678787e3d9625c6c9dac'}, 'https://huggingface.co/datasets/ivelin/rico_refexp_combined/resolve/89a10374941b0e80d75ae00ad6ca81d7b67e33ac/data/train-00032-of-00085-f2dab9ee4a37bd34.parquet': {'num_bytes': 310556011, 'checksum': '84fc3fec83b2830ac984ccb24a628adf815af7d29d7d2cb976a3ddfcbe646274'}, 'https://huggingface.co/datasets/ivelin/rico_refexp_combined/resolve/89a10374941b0e80d75ae00ad6ca81d7b67e33ac/data/train-00033-of-00085-7c77d4fe34cf1e3b.parquet': {'num_bytes': 298577583, 'checksum': '5467d2486413a5e18d6f106549cda323c4c4f5bf4cb1b7ee8a54c39fe977078b'}, 'https://huggingface.co/datasets/ivelin/rico_refexp_combined/resolve/89a10374941b0e80d75ae00ad6ca81d7b67e33ac/data/train-00034-of-00085-ee83893ea2e93ed4.parquet': {'num_bytes': 315922851, 'checksum': 'aa5d3dd7a0d23c9d826da8e7372d13bab6115a58abc9cbc6437a0b3a20f92980'}, 'https://huggingface.co/datasets/ivelin/rico_refexp_combined/resolve/89a10374941b0e80d75ae00ad6ca81d7b67e33ac/data/train-00035-of-00085-7bf2291ff8c8d050.parquet': {'num_bytes': 326038384, 'checksum': '182dee5b9d4ae27f44b555d5afdb9f9264a77613944cc216a0c58497906146c5'}, 'https://huggingface.co/datasets/ivelin/rico_refexp_combined/resolve/89a10374941b0e80d75ae00ad6ca81d7b67e33ac/data/train-00036-of-00085-70c0155592cbfef4.parquet': {'num_bytes': 307408570, 'checksum': '643e1d4385919ad19e8e7a2ed5bccf890e51c5947a555a29a542e022f20d50ab'}, 'https://huggingface.co/datasets/ivelin/rico_refexp_combined/resolve/89a10374941b0e80d75ae00ad6ca81d7b67e33ac/data/train-00037-of-00085-9d9274b43c3f1fea.parquet': {'num_bytes': 301471337, 'checksum': '62b9bb8c705913e1b8afb622edf4fe9873ea084c3e775a99d5ef53be23d8414f'}, 'https://huggingface.co/datasets/ivelin/rico_refexp_combined/resolve/89a10374941b0e80d75ae00ad6ca81d7b67e33ac/data/train-00038-of-00085-119bb86b50c598f8.parquet': {'num_bytes': 316542117, 'checksum': '28b3980bc9996b4c24e5adb3197ce7a956b42a68432745eb8a5366e68943f252'}, 'https://huggingface.co/datasets/ivelin/rico_refexp_combined/resolve/89a10374941b0e80d75ae00ad6ca81d7b67e33ac/data/train-00039-of-00085-662441692a1d98e5.parquet': {'num_bytes': 309085814, 'checksum': '1b25802384e6de7fbc738321cb2c83522d250f3be5a23670469c3a15c97b26c8'}, 'https://huggingface.co/datasets/ivelin/rico_refexp_combined/resolve/89a10374941b0e80d75ae00ad6ca81d7b67e33ac/data/train-00040-of-00085-d5e992ce1ffac8d8.parquet': {'num_bytes': 302986894, 'checksum': '45ec2e6bf1fea2ebdde9b5bcd663023763bdff767aaa3899feb55c1aada07a8e'}, 'https://huggingface.co/datasets/ivelin/rico_refexp_combined/resolve/89a10374941b0e80d75ae00ad6ca81d7b67e33ac/data/train-00041-of-00085-993e9407a78ecd99.parquet': {'num_bytes': 315567316, 'checksum': 'b3cbb5265bd8ad725a891affd37e2f02da9da5762218bbe0cdb2547201850628'}, 'https://huggingface.co/datasets/ivelin/rico_refexp_combined/resolve/89a10374941b0e80d75ae00ad6ca81d7b67e33ac/data/train-00042-of-00085-3158ac24e0062a4f.parquet': {'num_bytes': 307725892, 'checksum': 'f52627b71236c538fa64915b4df8ebdf8d8b51874091fc4446abcc5b53b51f4a'}, 'https://huggingface.co/datasets/ivelin/rico_refexp_combined/resolve/89a10374941b0e80d75ae00ad6ca81d7b67e33ac/data/train-00043-of-00085-027de7560b6666f7.parquet': {'num_bytes': 288240343, 'checksum': 'ab650d7421c8ddd9e4dabc595650a91ea60752ed2843f669a7f267d4fde3c237'}, 'https://huggingface.co/datasets/ivelin/rico_refexp_combined/resolve/89a10374941b0e80d75ae00ad6ca81d7b67e33ac/data/train-00044-of-00085-ed90ca1e63ec8765.parquet': {'num_bytes': 294380475, 'checksum': '7fac3ff07d82589e516564924fd435e5bec9973cbe41b5887d3dccca3d288455'}, 'https://huggingface.co/datasets/ivelin/rico_refexp_combined/resolve/89a10374941b0e80d75ae00ad6ca81d7b67e33ac/data/train-00045-of-00085-46bd0dc94c0ca4f5.parquet': {'num_bytes': 307441278, 'checksum': '4dcd3f0823c41d026802aa823ec66ece12e627ca25dbc995d08f242a372e53b3'}, 'https://huggingface.co/datasets/ivelin/rico_refexp_combined/resolve/89a10374941b0e80d75ae00ad6ca81d7b67e33ac/data/train-00046-of-00085-cd675cb2d1026ac9.parquet': {'num_bytes': 317835930, 'checksum': '86f4f3ef3679ac34a20c7f7c287106617b27809f662b497804bf88aa5c24ae76'}, 'https://huggingface.co/datasets/ivelin/rico_refexp_combined/resolve/89a10374941b0e80d75ae00ad6ca81d7b67e33ac/data/train-00047-of-00085-3ad4b6ff88f9cccb.parquet': {'num_bytes': 320683120, 'checksum': '17ff9bb39eef053db8dec0af06ed07cde8b8ba70b59214e7b6918a9e968fc288'}, 'https://huggingface.co/datasets/ivelin/rico_refexp_combined/resolve/89a10374941b0e80d75ae00ad6ca81d7b67e33ac/data/train-00048-of-00085-7ba89fba4fa4e54e.parquet': {'num_bytes': 307588463, 'checksum': 'd1c0c2ccbd912f77f7e26b5fc96655375e822ed56d0db9feb69b34ae718251fe'}, 'https://huggingface.co/datasets/ivelin/rico_refexp_combined/resolve/89a10374941b0e80d75ae00ad6ca81d7b67e33ac/data/train-00049-of-00085-56e8c13ca25be49e.parquet': {'num_bytes': 293076861, 'checksum': 'a27a168a6f8cf0a74d794c37c692ca662b98e5ac8ffddedfe002e7ef87c48d4e'}, 'https://huggingface.co/datasets/ivelin/rico_refexp_combined/resolve/89a10374941b0e80d75ae00ad6ca81d7b67e33ac/data/train-00050-of-00085-9480a865de2a2a93.parquet': {'num_bytes': 329763947, 'checksum': '1a82477ef42ec45af2352762e4de1463be6f4c8a923a4908ce5d7a3b924a0a85'}, 'https://huggingface.co/datasets/ivelin/rico_refexp_combined/resolve/89a10374941b0e80d75ae00ad6ca81d7b67e33ac/data/train-00051-of-00085-9ee3b0a1d9d24b94.parquet': {'num_bytes': 308444925, 'checksum': '3677312ab54dca31b1bebb483ee93b9dbbb2dd41d5e10a70d97d273a4b8a8c3a'}, 'https://huggingface.co/datasets/ivelin/rico_refexp_combined/resolve/89a10374941b0e80d75ae00ad6ca81d7b67e33ac/data/train-00052-of-00085-3176544695ea7ea2.parquet': {'num_bytes': 323710848, 'checksum': '52af942864fc21a2f11a71cd15370a3a099ac47abf707b7a9c23c4a45898ebe2'}, 'https://huggingface.co/datasets/ivelin/rico_refexp_combined/resolve/89a10374941b0e80d75ae00ad6ca81d7b67e33ac/data/train-00053-of-00085-97e67510fd41a096.parquet': {'num_bytes': 293805829, 'checksum': '1759b697713ee0acd430d400df25c6e3403b182612a3c8acfefd8f56d562754f'}, 'https://huggingface.co/datasets/ivelin/rico_refexp_combined/resolve/89a10374941b0e80d75ae00ad6ca81d7b67e33ac/data/train-00054-of-00085-bd4c58384a3184f9.parquet': {'num_bytes': 331830595, 'checksum': '8343a7b64213175a7f96425cf705a3a87ede45691870494c715f25b24505300d'}, 'https://huggingface.co/datasets/ivelin/rico_refexp_combined/resolve/89a10374941b0e80d75ae00ad6ca81d7b67e33ac/data/train-00055-of-00085-4d49517bfec48823.parquet': {'num_bytes': 316817621, 'checksum': '6cdb5341603e6a44c4eef8ad4e1de0c016ce5bf21b3b188ab6ec91ed6a51d8ae'}, 'https://huggingface.co/datasets/ivelin/rico_refexp_combined/resolve/89a10374941b0e80d75ae00ad6ca81d7b67e33ac/data/train-00056-of-00085-da74c6080357bd65.parquet': {'num_bytes': 305857357, 'checksum': '7107b52bbd023418fcca7978c0d7623b65127c5a20e7ac65c85111b6f54b0e79'}, 'https://huggingface.co/datasets/ivelin/rico_refexp_combined/resolve/89a10374941b0e80d75ae00ad6ca81d7b67e33ac/data/train-00057-of-00085-8ea752de4522fdf8.parquet': {'num_bytes': 288192616, 'checksum': '5c9cf5b760735b9966903396062af04dffb5694b4865716302647047b6ca81d4'}, 'https://huggingface.co/datasets/ivelin/rico_refexp_combined/resolve/89a10374941b0e80d75ae00ad6ca81d7b67e33ac/data/train-00058-of-00085-4b7a4d278cb054de.parquet': {'num_bytes': 314691484, 'checksum': '56508cc96dba700319c2262f8f0ec1750dd4720636ec075e6d1c2e27ec17858d'}, 'https://huggingface.co/datasets/ivelin/rico_refexp_combined/resolve/89a10374941b0e80d75ae00ad6ca81d7b67e33ac/data/train-00059-of-00085-5d32879f1376f1aa.parquet': {'num_bytes': 308072949, 'checksum': '1cb5adf1fad6bc041cd9a34d4775d86959425a2b5082c7a5a2f3d0df1f72f529'}, 'https://huggingface.co/datasets/ivelin/rico_refexp_combined/resolve/89a10374941b0e80d75ae00ad6ca81d7b67e33ac/data/train-00060-of-00085-f053dcb46aed8ec7.parquet': {'num_bytes': 289703573, 'checksum': '497f0769b34532987d55875e1bfdea0edd1086c6f6db05aab077d93d6ecb7b3e'}, 'https://huggingface.co/datasets/ivelin/rico_refexp_combined/resolve/89a10374941b0e80d75ae00ad6ca81d7b67e33ac/data/train-00061-of-00085-be2cc647a6c6c3f8.parquet': {'num_bytes': 329809330, 'checksum': '349dc8c2a9b779c8972e52fef0b0b0ac4d857555f38dc2fc84a5224e38be7d77'}, 'https://huggingface.co/datasets/ivelin/rico_refexp_combined/resolve/89a10374941b0e80d75ae00ad6ca81d7b67e33ac/data/train-00062-of-00085-189a11f9a522fd67.parquet': {'num_bytes': 303422957, 'checksum': 'b83ac2ed2c8b597f5796ebda6bfeae387c6117a1dc496b218c803e94bd769a53'}, 'https://huggingface.co/datasets/ivelin/rico_refexp_combined/resolve/89a10374941b0e80d75ae00ad6ca81d7b67e33ac/data/train-00063-of-00085-b53b6ea53c606167.parquet': {'num_bytes': 288740583, 'checksum': '3f52e2fcfd80171647dc2c23a6724809109c9719f5590de8bbf5d15ae5c4c93e'}, 'https://huggingface.co/datasets/ivelin/rico_refexp_combined/resolve/89a10374941b0e80d75ae00ad6ca81d7b67e33ac/data/train-00064-of-00085-8b8ecfc949d19bd0.parquet': {'num_bytes': 289757439, 'checksum': '252e3f30276202ae40289950e6a333d42280cd15d98502b0fac6346b6de0c91a'}, 'https://huggingface.co/datasets/ivelin/rico_refexp_combined/resolve/89a10374941b0e80d75ae00ad6ca81d7b67e33ac/data/train-00065-of-00085-7e845d8c6a855b21.parquet': {'num_bytes': 289634432, 'checksum': 'c1335063af8c7d3ae14bfbb59d69a8d3712181ba47e2d5903b6ade2e57c32cac'}, 'https://huggingface.co/datasets/ivelin/rico_refexp_combined/resolve/89a10374941b0e80d75ae00ad6ca81d7b67e33ac/data/train-00066-of-00085-c42b5fbc1e41e2d2.parquet': {'num_bytes': 333352894, 'checksum': '1de7552f5567740f16b29b5b1c72290d78838a1d7b4f99150f3dd0d27fcdf25d'}, 'https://huggingface.co/datasets/ivelin/rico_refexp_combined/resolve/89a10374941b0e80d75ae00ad6ca81d7b67e33ac/data/train-00067-of-00085-2c5d28877df175d3.parquet': {'num_bytes': 321251738, 'checksum': '327dc688e2706fea633c6c575c0d30e4c43ebddb923c32062429e6d973a2b519'}, 'https://huggingface.co/datasets/ivelin/rico_refexp_combined/resolve/89a10374941b0e80d75ae00ad6ca81d7b67e33ac/data/train-00068-of-00085-fd669d0b74258fe0.parquet': {'num_bytes': 302634054, 'checksum': '18a3bd91d03327afdf48060884c0faf96175ab5a50a5b56ecfe8d0e06d3fdc44'}, 'https://huggingface.co/datasets/ivelin/rico_refexp_combined/resolve/89a10374941b0e80d75ae00ad6ca81d7b67e33ac/data/train-00069-of-00085-4ffd8f0e8e2b52a5.parquet': {'num_bytes': 292886221, 'checksum': '3369b8b6009cc0b7c3fc0df7f9b7dec675901552d8e9396752a6cc7edab9403d'}, 'https://huggingface.co/datasets/ivelin/rico_refexp_combined/resolve/89a10374941b0e80d75ae00ad6ca81d7b67e33ac/data/train-00070-of-00085-39db9f54b44d6d5d.parquet': {'num_bytes': 300465060, 'checksum': '51abd7e86a31df7f94aa3d0e584f089122e887704e6da55ce6e63bf2f23d05a9'}, 'https://huggingface.co/datasets/ivelin/rico_refexp_combined/resolve/89a10374941b0e80d75ae00ad6ca81d7b67e33ac/data/train-00071-of-00085-54c3fc5af53319f0.parquet': {'num_bytes': 300059144, 'checksum': '06416df5d04e7800b925cb91a28f85da5cb52b82716eaf7b78d22cdcc5164c4a'}, 'https://huggingface.co/datasets/ivelin/rico_refexp_combined/resolve/89a10374941b0e80d75ae00ad6ca81d7b67e33ac/data/train-00072-of-00085-d4e10642217ea413.parquet': {'num_bytes': 284487577, 'checksum': '51ec74903dff49a637b2f1b7c063eba8fff3876f08b03381d0bfa46540dc15cb'}, 'https://huggingface.co/datasets/ivelin/rico_refexp_combined/resolve/89a10374941b0e80d75ae00ad6ca81d7b67e33ac/data/train-00073-of-00085-5f8b5091b568771c.parquet': {'num_bytes': 322014304, 'checksum': '627a697789ed3041fa9ee8144bb90a4933263e7af7fe463ec7ebb8e0b9826bd2'}, 'https://huggingface.co/datasets/ivelin/rico_refexp_combined/resolve/89a10374941b0e80d75ae00ad6ca81d7b67e33ac/data/train-00074-of-00085-91d2bb92aa1db45d.parquet': {'num_bytes': 316728998, 'checksum': '04b36cd77def83038bfd11bcc0e19084fd385b6159c98608ca12d6c581953fff'}, 'https://huggingface.co/datasets/ivelin/rico_refexp_combined/resolve/89a10374941b0e80d75ae00ad6ca81d7b67e33ac/data/train-00075-of-00085-e13ba5f653a686a1.parquet': {'num_bytes': 332067056, 'checksum': '078fb1ff9551185efb43ea73d56e1944fb493486dbb1c8613ecbcf071eebdc68'}, 'https://huggingface.co/datasets/ivelin/rico_refexp_combined/resolve/89a10374941b0e80d75ae00ad6ca81d7b67e33ac/data/train-00076-of-00085-299618a0f1263427.parquet': {'num_bytes': 301582242, 'checksum': 'af7a3d11ce8edadd1340a2b0e072c8c9699c722a47904255ccb76b7206748662'}, 'https://huggingface.co/datasets/ivelin/rico_refexp_combined/resolve/89a10374941b0e80d75ae00ad6ca81d7b67e33ac/data/train-00077-of-00085-22f7f3479a1919c0.parquet': {'num_bytes': 302924005, 'checksum': '700f404c7467ec7c63f7e8ddeeeee4aed4828678221271fb2cd6dac0fa6d2f22'}, 'https://huggingface.co/datasets/ivelin/rico_refexp_combined/resolve/89a10374941b0e80d75ae00ad6ca81d7b67e33ac/data/train-00078-of-00085-a8e102ed84ab94a1.parquet': {'num_bytes': 359427940, 'checksum': '3f752399828ab4cc0a524e02976870fc7bcc338e8ba86c749ebac0ba1fe1c39a'}, 'https://huggingface.co/datasets/ivelin/rico_refexp_combined/resolve/89a10374941b0e80d75ae00ad6ca81d7b67e33ac/data/train-00079-of-00085-ac326da56258d9f5.parquet': {'num_bytes': 331201495, 'checksum': '2b43f423d64ae12fb82235b2acc2982f6db1fa5662bfbcd665e1ffc47e27ade8'}, 'https://huggingface.co/datasets/ivelin/rico_refexp_combined/resolve/89a10374941b0e80d75ae00ad6ca81d7b67e33ac/data/train-00080-of-00085-358b4ea3c0ddd139.parquet': {'num_bytes': 278258727, 'checksum': 'b8a9a1a5ec3a89216ffd1e93f8e408aac80d5b8cf7ef86b3b45359e29ce73a08'}, 'https://huggingface.co/datasets/ivelin/rico_refexp_combined/resolve/89a10374941b0e80d75ae00ad6ca81d7b67e33ac/data/train-00081-of-00085-fa452125ac2ef07d.parquet': {'num_bytes': 319102965, 'checksum': '73f4a1219aaef382e87d13b855de65318e9c26787d5e9cf2e047b9513525b594'}, 'https://huggingface.co/datasets/ivelin/rico_refexp_combined/resolve/89a10374941b0e80d75ae00ad6ca81d7b67e33ac/data/train-00082-of-00085-286c5bf9065384d5.parquet': {'num_bytes': 299899585, 'checksum': 'f0c1bbfe986f31ba1514f0ec24fde2267ffcd2cda9052b037694e48190eaf7d6'}, 'https://huggingface.co/datasets/ivelin/rico_refexp_combined/resolve/89a10374941b0e80d75ae00ad6ca81d7b67e33ac/data/train-00083-of-00085-162dd5c5d7ab8a7d.parquet': {'num_bytes': 305128811, 'checksum': 'a295f5bcb01cb969ebfca70de835e50046dc0f75f6ab93895ab9d37186d8a952'}, 'https://huggingface.co/datasets/ivelin/rico_refexp_combined/resolve/89a10374941b0e80d75ae00ad6ca81d7b67e33ac/data/train-00084-of-00085-b015e42a159bcc0d.parquet': {'num_bytes': 300122796, 'checksum': '73545163da67455f5e7ffe8b2da5150fb21d768521e7e46a7dabf57204e5c845'}}, download_size=27184189035, post_processing_size=None, dataset_size=42994428331, size_in_bytes=70178617366)\n",
            "DatasetDict({\n",
            "    validation: Dataset({\n",
            "        features: ['image', 'image_id', 'prompt', 'target_bounding_box'],\n",
            "        num_rows: 3191\n",
            "    })\n",
            "    test: Dataset({\n",
            "        features: ['image', 'image_id', 'prompt', 'target_bounding_box'],\n",
            "        num_rows: 3912\n",
            "    })\n",
            "    train: Dataset({\n",
            "        features: ['image', 'image_id', 'prompt', 'target_bounding_box'],\n",
            "        num_rows: 390084\n",
            "    })\n",
            "})\n"
          ]
        }
      ],
      "source": [
        "print(dataset['train'].info)\n",
        "print(dataset)\n"
      ]
    },
    {
      "cell_type": "code",
      "source": [
        "#@title Let's look at a sample in the dataset\n",
        "import math\n",
        "import json\n",
        "from PIL import Image, ImageDraw\n",
        "\n",
        "# change this index from 0 to split size to see different samples\n",
        "sample = dataset['train'][49]\n",
        "image = sample['image']\n",
        "width, height = image.size\n",
        "print(f\"image width, height: {width, height}\")\n",
        "print(f\"prompt: {sample['prompt']}\")\n",
        "\n",
        "# bb = json.loads(sample[\"target_bounding_box\"])\n",
        "bb = sample[\"target_bounding_box\"]\n",
        "\n",
        "\n",
        "print(f\"target bounding box: {bb}\")\n",
        "\n",
        "xmin = math.floor(width*bb[\"xmin\"])\n",
        "ymin = math.floor(height*bb[\"ymin\"])\n",
        "xmax = math.floor(width*bb[\"xmax\"])\n",
        "ymax = math.floor(height*bb[\"ymax\"])\n",
        "\n",
        "print(f\"to image pixel values: xmin, ymin, xmax, ymax: {xmin, ymin, xmax, ymax}\")\n",
        "\n",
        "shape = [(xmin, ymin), (xmax, ymax)]\n",
        "\n",
        "# create rectangle image\n",
        "img1 = ImageDraw.Draw(image)  \n",
        "img1.rectangle(shape, outline =\"green\", width=5)\n",
        "image.resize((int(width*0.5), int(height*0.5)))\n"
      ],
      "metadata": {
        "colab": {
          "base_uri": "https://localhost:8080/",
          "height": 566
        },
        "id": "6f2fjxGaHWli",
        "outputId": "21056019-c5c6-460c-beca-2d5a1bf166ee"
      },
      "execution_count": 9,
      "outputs": [
        {
          "output_type": "stream",
          "name": "stdout",
          "text": [
            "image width, height: (540, 960)\n",
            "prompt: go to next\n",
            "target bounding box: {'xmax': 1.0, 'xmin': 0.8759258985519409, 'ymax': 0.1041666641831398, 'ymin': 0.03854166716337204}\n",
            "to image pixel values: xmin, ymin, xmax, ymax: (472, 37, 540, 99)\n"
          ]
        },
        {
          "output_type": "execute_result",
          "data": {
            "text/plain": [
              "<PIL.Image.Image image mode=RGB size=270x480 at 0x7F9195993F10>"
            ],
            "image/png": "[encoded data removed]"
          },
          "metadata": {},
          "execution_count": 9
        }
      ]
    },
    {
      "cell_type": "markdown",
      "metadata": {
        "id": "BCjMK93Cz3zf"
      },
      "source": [
        "## Load model and processor\n",
        "\n",
        "Next, we load the model (which is an instance of [VisionEncoderDecoderModel](https://huggingface.co/docs/transformers/model_doc/vision-encoder-decoder), and the processor, which is the object that can be used to prepare inputs for the model."
      ]
    },
    {
      "cell_type": "code",
      "execution_count": 10,
      "metadata": {
        "id": "ahkkeo8_o69z"
      },
      "outputs": [],
      "source": [
        "from transformers import VisionEncoderDecoderConfig\n",
        "\n",
        "pretrained_repo_name = REFEXP_MODEL_CHECKPOINT\n",
        "\n",
        "max_length = 128\n",
        "image_size = [1280, 960]\n",
        "\n",
        "# update image_size of the encoder\n",
        "# during pre-training, a larger image size was used\n",
        "config = VisionEncoderDecoderConfig.from_pretrained(pretrained_repo_name)\n",
        "config.encoder.image_size = image_size # (height, width)\n",
        "# update max_length of the decoder (for generation)\n",
        "config.decoder.max_length = max_length\n",
        "# TODO we should actually update max_position_embeddings and interpolate the pre-trained ones:\n",
        "# https://github.com/clovaai/donut/blob/0acc65a85d140852b8d9928565f0f6b2d98dc088/donut/model.py#L602"
      ]
    },
    {
      "cell_type": "code",
      "execution_count": 11,
      "metadata": {
        "id": "84TkZP5zz4hE"
      },
      "outputs": [],
      "source": [
        "from transformers import DonutProcessor, VisionEncoderDecoderModel, BartConfig\n",
        "\n",
        "processor = DonutProcessor.from_pretrained(pretrained_repo_name)\n",
        "model = VisionEncoderDecoderModel.from_pretrained(pretrained_repo_name, config=config)"
      ]
    },
    {
      "cell_type": "markdown",
      "source": [
        "## Add special tokens\n",
        "\n",
        "For DocVQA, we add special tokens for \\<yes> and \\<no/>, to make sure that the model (actually the decoder) learns embedding vectors for those explicitly."
      ],
      "metadata": {
        "id": "PfTPbvNRCEDF"
      }
    },
    {
      "cell_type": "code",
      "source": [
        "from typing import List\n",
        "\n",
        "def add_tokens(list_of_tokens: List[str]):\n",
        "    \"\"\"\n",
        "    Add tokens to tokenizer and resize the token embeddings\n",
        "    \"\"\"\n",
        "    newly_added_num = processor.tokenizer.add_tokens(list_of_tokens)\n",
        "    if newly_added_num > 0:\n",
        "        model.decoder.resize_token_embeddings(len(processor.tokenizer))"
      ],
      "metadata": {
        "id": "CfJMb2o31AA-"
      },
      "execution_count": 12,
      "outputs": []
    },
    {
      "cell_type": "code",
      "source": [
        "# # TODO: Do we need this for UI RefExp? It came from the DocVQA code\n",
        "# additional_tokens = [\"<yes/>\", \"<no/>\"]\n",
        "\n",
        "# add_tokens(additional_tokens)"
      ],
      "metadata": {
        "id": "_dnEFkj71UE1"
      },
      "execution_count": 13,
      "outputs": []
    },
    {
      "cell_type": "markdown",
      "metadata": {
        "id": "b46s3KR-x8Iv"
      },
      "source": [
        "## Create PyTorch dataset\n",
        "\n",
        "Here we create a regular PyTorch dataset.\n",
        "\n",
        "The model doesn't directly take the (image, JSON) pairs as input and labels. Rather, we create `pixel_values`, `decoder_input_ids` and `labels`. These are all PyTorch tensors. The `pixel_values` are the input images (resized, padded and normalized), the `decoder_input_ids` are the decoder inputs, and the `labels` are the decoder targets.\n",
        "\n",
        "The reason we create the `decoder_input_ids` explicitly here is because otherwise, the model would create them automatically based on the `labels` (by prepending the decoder start token ID, replacing -100 tokens by padding tokens). The reason for that is that we don't want the model to learn to generate the entire prompt, which includes the question. Rather, we only want it to learn to generate the answer. Hence, we'll set the labels of the prompt tokens to -100.\n",
        "\n"
      ]
    },
    {
      "cell_type": "code",
      "execution_count": 14,
      "metadata": {
        "id": "7tWX_qJDvw_S"
      },
      "outputs": [],
      "source": [
        "import json\n",
        "import random\n",
        "from typing import Any, List, Tuple\n",
        "\n",
        "import torch\n",
        "from torch.utils.data import Dataset\n",
        "\n",
        "added_tokens = []\n",
        "\n",
        "class DonutDataset(Dataset):\n",
        "    \"\"\"\n",
        "    DonutDataset which is saved in huggingface datasets format. (see details in https://huggingface.co/docs/datasets)\n",
        "    Each row, consists of image blob, prompt and target bounding box.,\n",
        "    and it will be converted into input_tensor(vectorized image) and input_ids(tokenized string).\n",
        "    Args:\n",
        "        dataset_name_or_path: name of dataset (available at huggingface.co/datasets) or the path containing image files and metadata.jsonl\n",
        "        max_length: the max number of tokens for the target sequences\n",
        "        split: whether to load \"train\", \"validation\" or \"test\" split\n",
        "        ignore_id: ignore_index for torch.nn.CrossEntropyLoss\n",
        "        task_start_token: the special token to be fed to the decoder to conduct the target task\n",
        "        prompt_end_token: the special token at the end of the sequences\n",
        "        sort_json_key: whether or not to sort the JSON keys\n",
        "    \"\"\"\n",
        "\n",
        "    def __init__(\n",
        "        self,\n",
        "        dataset_name_or_path: str,\n",
        "        max_length: int,\n",
        "        range_samples: int = None,\n",
        "        shuffle: bool = False,\n",
        "        split: str = \"train\",\n",
        "        ignore_id: int = -100,\n",
        "        task_start_token: str = \"<s>\",\n",
        "        prompt_end_token: str = None,\n",
        "        sort_json_key: bool = True,\n",
        "    ):\n",
        "        super().__init__()\n",
        "\n",
        "        self.max_length = max_length\n",
        "        self.split = split\n",
        "        self.ignore_id = ignore_id\n",
        "        self.task_start_token = task_start_token\n",
        "        self.prompt_end_token = prompt_end_token if prompt_end_token else task_start_token\n",
        "        self.sort_json_key = sort_json_key\n",
        "\n",
        "        self.dataset = load_dataset(dataset_name_or_path, split=self.split)\n",
        "\n",
        "        self.gt_token_sequences = []\n",
        "        if shuffle:\n",
        "          self.dataset = self.dataset.shuffle()\n",
        "        if range_samples is not None:\n",
        "          self.dataset = self.dataset.select(range_samples)\n",
        "        self.dataset = self.dataset.shuffle()\n",
        "        self.dataset_length = self.dataset.num_rows\n",
        "        for sample in self.dataset:\n",
        "            prompt = sample[\"prompt\"]\n",
        "            # bb = json.loads(sample[\"target_bounding_box\"])\n",
        "            bb = sample[\"target_bounding_box\"]\n",
        "            # Trim float precision to simplify training with shorter string representations of component coordinates.\n",
        "            # 2 decimals precision seems to be a good balance between component position acccuracy and model convergance time.\n",
        "            # 3 decimals precision is good enough for screenshot size up to [1000x1000], but it takes longer for the model to converge.\n",
        "            # For even finer granurality, we cam increase precision to 4 for [10,000 x 10,000] screen sizes, but it will take much more training time and compute resources to converge.\n",
        "            for key, value in bb.items():\n",
        "              bb[key] = round(value,2)\n",
        "\n",
        "            assert isinstance(bb, dict)\n",
        "            ground_truth = {\"prompt\": prompt, \"target_bounding_box\": bb}\n",
        "            gt_json = ground_truth\n",
        "\n",
        "            j2t = self.json2token(\n",
        "                  gt_json,\n",
        "                  update_special_tokens_for_json_key=self.split == \"train\",\n",
        "                  sort_json_key=self.sort_json_key,\n",
        "              ) + processor.tokenizer.eos_token\n",
        "            self.gt_token_sequences.append(j2t)\n",
        "\n",
        "        self.add_tokens([self.task_start_token, self.prompt_end_token])\n",
        "        self.prompt_end_token_id = processor.tokenizer.convert_tokens_to_ids(self.prompt_end_token)\n",
        "\n",
        "    def json2token(self, obj: Any, update_special_tokens_for_json_key: bool = True, sort_json_key: bool = True):\n",
        "        \"\"\"\n",
        "        Convert an ordered JSON object into a token sequence\n",
        "        \"\"\"\n",
        "        if type(obj) == dict:\n",
        "            if len(obj) == 1 and \"text_sequence\" in obj:\n",
        "                return obj[\"text_sequence\"]\n",
        "            else:\n",
        "                output = \"\"\n",
        "                if sort_json_key:\n",
        "                    keys = sorted(obj.keys(), reverse=True)\n",
        "                else:\n",
        "                    keys = obj.keys()\n",
        "                for k in keys:\n",
        "                    if update_special_tokens_for_json_key:\n",
        "                        self.add_tokens([fr\"<s_{k}>\", fr\"</s_{k}>\"])\n",
        "                    output += (\n",
        "                        fr\"<s_{k}>\"\n",
        "                        + self.json2token(obj[k], update_special_tokens_for_json_key, sort_json_key)\n",
        "                        + fr\"</s_{k}>\"\n",
        "                    )\n",
        "                return output\n",
        "        elif type(obj) == list:\n",
        "            return r\"<sep/>\".join(\n",
        "                [self.json2token(item, update_special_tokens_for_json_key, sort_json_key) for item in obj]\n",
        "            )\n",
        "        else:\n",
        "            obj = str(obj)\n",
        "            if f\"<{obj}/>\" in added_tokens:\n",
        "                obj = f\"<{obj}/>\"  # for categorical special tokens\n",
        "            return obj\n",
        "    \n",
        "    def add_tokens(self, list_of_tokens: List[str]):\n",
        "        \"\"\"\n",
        "        Add special tokens to tokenizer and resize the token embeddings of the decoder\n",
        "        \"\"\"\n",
        "        newly_added_num = processor.tokenizer.add_tokens(list_of_tokens)\n",
        "        if newly_added_num > 0:\n",
        "            model.decoder.resize_token_embeddings(len(processor.tokenizer))\n",
        "            added_tokens.extend(list_of_tokens)\n",
        "    \n",
        "    def __len__(self) -> int:\n",
        "        return self.dataset_length - 1\n",
        "\n",
        "    def __getitem__(self, idx: int) -> Tuple[torch.Tensor, torch.Tensor, torch.Tensor]:\n",
        "        \"\"\"\n",
        "        Load image from image_path of given dataset_path and convert into input_tensor and labels\n",
        "        Convert gt data into input_ids (tokenized string)\n",
        "        Returns:\n",
        "            input_tensor : preprocessed image\n",
        "            input_ids : tokenized gt_data\n",
        "            labels : masked labels (model doesn't need to predict prompt and pad token)\n",
        "        \"\"\"\n",
        "        sample = self.dataset[idx]\n",
        "\n",
        "        # input_tensor\n",
        "        pixel_values = processor(sample[\"image\"].convert(\"RGB\"), random_padding=self.split == \"train\", return_tensors=\"pt\").pixel_values\n",
        "        input_tensor = pixel_values.squeeze()\n",
        "\n",
        "        # input_ids\n",
        "        processed_parse = self.gt_token_sequences[idx]\n",
        "        input_ids = processor.tokenizer(\n",
        "            processed_parse,\n",
        "            add_special_tokens=False,\n",
        "            max_length=self.max_length,\n",
        "            padding=\"max_length\",\n",
        "            truncation=True,\n",
        "            return_tensors=\"pt\",\n",
        "        )[\"input_ids\"].squeeze(0)\n",
        "\n",
        "        if idx % 100 == 0:\n",
        "          print(f\"sameple #{idx}, input_ids: {input_ids}\")\n",
        "\n",
        "        if self.split == \"train\":\n",
        "            labels = input_ids.clone()\n",
        "            labels[\n",
        "                labels == processor.tokenizer.pad_token_id\n",
        "            ] = self.ignore_id  # model doesn't need to predict pad token\n",
        "            labels[\n",
        "                : torch.nonzero(labels == self.prompt_end_token_id).sum() + 1\n",
        "            ] = self.ignore_id  # model doesn't need to predict prompt (for VQA)\n",
        "            return input_tensor, input_ids, labels\n",
        "        else:\n",
        "            prompt_end_index = torch.nonzero(\n",
        "                input_ids == self.prompt_end_token_id\n",
        "            ).sum()  # return prompt end index instead of target output labels\n",
        "            return input_tensor, input_ids, prompt_end_index, processed_parse"
      ]
    },
    {
      "cell_type": "code",
      "execution_count": 15,
      "metadata": {
        "colab": {
          "base_uri": "https://localhost:8080/"
        },
        "id": "4_h6nyTm3RN0",
        "outputId": "d0048c38-4ac3-4389-a5cb-67c62f16dcc3"
      },
      "outputs": [
        {
          "output_type": "execute_result",
          "data": {
            "text/plain": [
              "DatasetDict({\n",
              "    validation: Dataset({\n",
              "        features: ['image', 'image_id', 'prompt', 'target_bounding_box'],\n",
              "        num_rows: 3191\n",
              "    })\n",
              "    test: Dataset({\n",
              "        features: ['image', 'image_id', 'prompt', 'target_bounding_box'],\n",
              "        num_rows: 3912\n",
              "    })\n",
              "    train: Dataset({\n",
              "        features: ['image', 'image_id', 'prompt', 'target_bounding_box'],\n",
              "        num_rows: 390084\n",
              "    })\n",
              "})"
            ]
          },
          "metadata": {},
          "execution_count": 15
        }
      ],
      "source": [
        "dataset"
      ]
    },
    {
      "cell_type": "code",
      "execution_count": 16,
      "metadata": {
        "colab": {
          "base_uri": "https://localhost:8080/"
        },
        "id": "3JpazNkf8CnA",
        "outputId": "6fff92b1-0f76-4f31-acc4-c72be9a1b87e"
      },
      "outputs": [
        {
          "output_type": "stream",
          "name": "stderr",
          "text": [
            "/usr/local/lib/python3.8/dist-packages/transformers/models/donut/processing_donut.py:186: FutureWarning: `feature_extractor` is deprecated and will be removed in v5. Use `image_processor` instead.\n",
            "  warnings.warn(\n",
            "WARNING:datasets.builder:Using custom data configuration ivelin--rico_refexp_combined-00b3f39c0a84947d\n",
            "WARNING:datasets.builder:Found cached dataset parquet (/root/.cache/huggingface/datasets/ivelin___parquet/ivelin--rico_refexp_combined-00b3f39c0a84947d/0.0.0/2a3b91fbd88a2c90d1dbbb32b460cf621d31bd5b05b934492fdef7d8d6f236ec)\n"
          ]
        }
      ],
      "source": [
        "# we update some settings which differ from pretraining; namely the size of the images + no rotation required\n",
        "# source: https://github.com/clovaai/donut/blob/master/config/train_cord.yaml\n",
        "processor.feature_extractor.size = image_size[::-1] # should be (width, height)\n",
        "processor.feature_extractor.do_align_long_axis = False\n",
        "\n",
        "# For warm up phase, consider picking only a small subset to see if the model converges on the data\n",
        "max_train_samples = 15000\n",
        "# pick a range for sampling\n",
        "# range_train_samples = range(4000, 4000+max_train_samples)\n",
        "range_train_samples = range(max_train_samples)\n",
        "\n",
        "train_dataset = DonutDataset(REFEXP_DATASET_NAME, max_length=max_length, \n",
        "                             range_samples=range_train_samples,\n",
        "                             shuffle=True,\n",
        "                             split=\"train\", task_start_token=\"<s_refexp>\", prompt_end_token=\"<s_target_bounding_box>\",\n",
        "                             sort_json_key=False,\n",
        "                             )\n",
        "\n"
      ]
    },
    {
      "cell_type": "code",
      "source": [
        "train_dataset[0]\n",
        "\n"
      ],
      "metadata": {
        "colab": {
          "base_uri": "https://localhost:8080/"
        },
        "id": "vlrKXSzLBAwi",
        "outputId": "0061f982-7db4-49ba-b41c-fc414dee5981"
      },
      "execution_count": 17,
      "outputs": [
        {
          "output_type": "stream",
          "name": "stdout",
          "text": [
            "sameple #0, input_ids: tensor([57527, 18539, 56738, 48941, 45125, 34445, 57528, 57529, 57535, 50891,\n",
            "        39539, 15524, 57536, 57531, 50891, 39539, 20779, 57532, 57537, 50891,\n",
            "        39539,  7505, 57538, 57533, 50891, 39539, 53979, 57534, 57530,     2,\n",
            "            1,     1,     1,     1,     1,     1,     1,     1,     1,     1,\n",
            "            1,     1,     1,     1,     1,     1,     1,     1,     1,     1,\n",
            "            1,     1,     1,     1,     1,     1,     1,     1,     1,     1,\n",
            "            1,     1,     1,     1,     1,     1,     1,     1,     1,     1,\n",
            "            1,     1,     1,     1,     1,     1,     1,     1,     1,     1,\n",
            "            1,     1,     1,     1,     1,     1,     1,     1,     1,     1,\n",
            "            1,     1,     1,     1,     1,     1,     1,     1,     1,     1,\n",
            "            1,     1,     1,     1,     1,     1,     1,     1,     1,     1,\n",
            "            1,     1,     1,     1,     1,     1,     1,     1,     1,     1,\n",
            "            1,     1,     1,     1,     1,     1,     1,     1])\n"
          ]
        },
        {
          "output_type": "execute_result",
          "data": {
            "text/plain": [
              "(tensor([[[-1., -1., -1.,  ..., -1., -1., -1.],\n",
              "          [-1., -1., -1.,  ..., -1., -1., -1.],\n",
              "          [-1., -1., -1.,  ..., -1., -1., -1.],\n",
              "          ...,\n",
              "          [-1., -1., -1.,  ..., -1., -1., -1.],\n",
              "          [-1., -1., -1.,  ..., -1., -1., -1.],\n",
              "          [-1., -1., -1.,  ..., -1., -1., -1.]],\n",
              " \n",
              "         [[-1., -1., -1.,  ..., -1., -1., -1.],\n",
              "          [-1., -1., -1.,  ..., -1., -1., -1.],\n",
              "          [-1., -1., -1.,  ..., -1., -1., -1.],\n",
              "          ...,\n",
              "          [-1., -1., -1.,  ..., -1., -1., -1.],\n",
              "          [-1., -1., -1.,  ..., -1., -1., -1.],\n",
              "          [-1., -1., -1.,  ..., -1., -1., -1.]],\n",
              " \n",
              "         [[-1., -1., -1.,  ..., -1., -1., -1.],\n",
              "          [-1., -1., -1.,  ..., -1., -1., -1.],\n",
              "          [-1., -1., -1.,  ..., -1., -1., -1.],\n",
              "          ...,\n",
              "          [-1., -1., -1.,  ..., -1., -1., -1.],\n",
              "          [-1., -1., -1.,  ..., -1., -1., -1.],\n",
              "          [-1., -1., -1.,  ..., -1., -1., -1.]]]),\n",
              " tensor([57527, 18539, 56738, 48941, 45125, 34445, 57528, 57529, 57535, 50891,\n",
              "         39539, 15524, 57536, 57531, 50891, 39539, 20779, 57532, 57537, 50891,\n",
              "         39539,  7505, 57538, 57533, 50891, 39539, 53979, 57534, 57530,     2,\n",
              "             1,     1,     1,     1,     1,     1,     1,     1,     1,     1,\n",
              "             1,     1,     1,     1,     1,     1,     1,     1,     1,     1,\n",
              "             1,     1,     1,     1,     1,     1,     1,     1,     1,     1,\n",
              "             1,     1,     1,     1,     1,     1,     1,     1,     1,     1,\n",
              "             1,     1,     1,     1,     1,     1,     1,     1,     1,     1,\n",
              "             1,     1,     1,     1,     1,     1,     1,     1,     1,     1,\n",
              "             1,     1,     1,     1,     1,     1,     1,     1,     1,     1,\n",
              "             1,     1,     1,     1,     1,     1,     1,     1,     1,     1,\n",
              "             1,     1,     1,     1,     1,     1,     1,     1,     1,     1,\n",
              "             1,     1,     1,     1,     1,     1,     1,     1]),\n",
              " tensor([ -100,  -100,  -100,  -100,  -100,  -100,  -100,  -100, 57535, 50891,\n",
              "         39539, 15524, 57536, 57531, 50891, 39539, 20779, 57532, 57537, 50891,\n",
              "         39539,  7505, 57538, 57533, 50891, 39539, 53979, 57534, 57530,     2,\n",
              "          -100,  -100,  -100,  -100,  -100,  -100,  -100,  -100,  -100,  -100,\n",
              "          -100,  -100,  -100,  -100,  -100,  -100,  -100,  -100,  -100,  -100,\n",
              "          -100,  -100,  -100,  -100,  -100,  -100,  -100,  -100,  -100,  -100,\n",
              "          -100,  -100,  -100,  -100,  -100,  -100,  -100,  -100,  -100,  -100,\n",
              "          -100,  -100,  -100,  -100,  -100,  -100,  -100,  -100,  -100,  -100,\n",
              "          -100,  -100,  -100,  -100,  -100,  -100,  -100,  -100,  -100,  -100,\n",
              "          -100,  -100,  -100,  -100,  -100,  -100,  -100,  -100,  -100,  -100,\n",
              "          -100,  -100,  -100,  -100,  -100,  -100,  -100,  -100,  -100,  -100,\n",
              "          -100,  -100,  -100,  -100,  -100,  -100,  -100,  -100,  -100,  -100,\n",
              "          -100,  -100,  -100,  -100,  -100,  -100,  -100,  -100]))"
            ]
          },
          "metadata": {},
          "execution_count": 17
        }
      ]
    },
    {
      "cell_type": "code",
      "source": [
        "\n",
        "# pick a small subset for initial val set to see if validation metrics improve\n",
        "max_val_samples = 800\n",
        "range_val_samples = range(max_val_samples)\n",
        "\n",
        "val_dataset = DonutDataset(REFEXP_DATASET_NAME, max_length=max_length, range_samples=range_val_samples,\n",
        "                             split=\"validation\", task_start_token=\"<s_refexp>\", prompt_end_token=\"<s_target_bounding_box>\",\n",
        "                             sort_json_key=False,\n",
        "                             )\n"
      ],
      "metadata": {
        "colab": {
          "base_uri": "https://localhost:8080/"
        },
        "id": "cxv4RS8i-rsJ",
        "outputId": "3bfe8636-f6a7-4769-9800-389cbabf83df"
      },
      "execution_count": 18,
      "outputs": [
        {
          "output_type": "stream",
          "name": "stderr",
          "text": [
            "WARNING:datasets.builder:Using custom data configuration ivelin--rico_refexp_combined-00b3f39c0a84947d\n",
            "WARNING:datasets.builder:Found cached dataset parquet (/root/.cache/huggingface/datasets/ivelin___parquet/ivelin--rico_refexp_combined-00b3f39c0a84947d/0.0.0/2a3b91fbd88a2c90d1dbbb32b460cf621d31bd5b05b934492fdef7d8d6f236ec)\n"
          ]
        }
      ]
    },
    {
      "cell_type": "code",
      "source": [
        "pixel_values, decoder_input_ids, labels = train_dataset[0]\n"
      ],
      "metadata": {
        "id": "9ZUvmOdAs7xk",
        "colab": {
          "base_uri": "https://localhost:8080/"
        },
        "outputId": "08dae704-f581-4913-e574-aa7a08e8e383"
      },
      "execution_count": 19,
      "outputs": [
        {
          "output_type": "stream",
          "name": "stdout",
          "text": [
            "sameple #0, input_ids: tensor([57527, 18539, 56738, 48941, 45125, 34445, 57528, 57529, 57535, 50891,\n",
            "        39539, 15524, 57536, 57531, 50891, 39539, 20779, 57532, 57537, 50891,\n",
            "        39539,  7505, 57538, 57533, 50891, 39539, 53979, 57534, 57530,     2,\n",
            "            1,     1,     1,     1,     1,     1,     1,     1,     1,     1,\n",
            "            1,     1,     1,     1,     1,     1,     1,     1,     1,     1,\n",
            "            1,     1,     1,     1,     1,     1,     1,     1,     1,     1,\n",
            "            1,     1,     1,     1,     1,     1,     1,     1,     1,     1,\n",
            "            1,     1,     1,     1,     1,     1,     1,     1,     1,     1,\n",
            "            1,     1,     1,     1,     1,     1,     1,     1,     1,     1,\n",
            "            1,     1,     1,     1,     1,     1,     1,     1,     1,     1,\n",
            "            1,     1,     1,     1,     1,     1,     1,     1,     1,     1,\n",
            "            1,     1,     1,     1,     1,     1,     1,     1,     1,     1,\n",
            "            1,     1,     1,     1,     1,     1,     1,     1])\n"
          ]
        }
      ]
    },
    {
      "cell_type": "code",
      "source": [
        "pixel_values.shape"
      ],
      "metadata": {
        "colab": {
          "base_uri": "https://localhost:8080/"
        },
        "id": "AQMuNYnA4XYk",
        "outputId": "02acf214-5853-47f2-f891-c7fa5e4bdf32"
      },
      "execution_count": 20,
      "outputs": [
        {
          "output_type": "execute_result",
          "data": {
            "text/plain": [
              "torch.Size([3, 1280, 960])"
            ]
          },
          "metadata": {},
          "execution_count": 20
        }
      ]
    },
    {
      "cell_type": "code",
      "source": [
        "print(labels)"
      ],
      "metadata": {
        "colab": {
          "base_uri": "https://localhost:8080/"
        },
        "id": "vWKlLJML4o-6",
        "outputId": "6308f6d5-69a6-43aa-c299-1bb53f7e3f2d"
      },
      "execution_count": 21,
      "outputs": [
        {
          "output_type": "stream",
          "name": "stdout",
          "text": [
            "tensor([ -100,  -100,  -100,  -100,  -100,  -100,  -100,  -100, 57535, 50891,\n",
            "        39539, 15524, 57536, 57531, 50891, 39539, 20779, 57532, 57537, 50891,\n",
            "        39539,  7505, 57538, 57533, 50891, 39539, 53979, 57534, 57530,     2,\n",
            "         -100,  -100,  -100,  -100,  -100,  -100,  -100,  -100,  -100,  -100,\n",
            "         -100,  -100,  -100,  -100,  -100,  -100,  -100,  -100,  -100,  -100,\n",
            "         -100,  -100,  -100,  -100,  -100,  -100,  -100,  -100,  -100,  -100,\n",
            "         -100,  -100,  -100,  -100,  -100,  -100,  -100,  -100,  -100,  -100,\n",
            "         -100,  -100,  -100,  -100,  -100,  -100,  -100,  -100,  -100,  -100,\n",
            "         -100,  -100,  -100,  -100,  -100,  -100,  -100,  -100,  -100,  -100,\n",
            "         -100,  -100,  -100,  -100,  -100,  -100,  -100,  -100,  -100,  -100,\n",
            "         -100,  -100,  -100,  -100,  -100,  -100,  -100,  -100,  -100,  -100,\n",
            "         -100,  -100,  -100,  -100,  -100,  -100,  -100,  -100,  -100,  -100,\n",
            "         -100,  -100,  -100,  -100,  -100,  -100,  -100,  -100])\n"
          ]
        }
      ]
    },
    {
      "cell_type": "code",
      "source": [
        "for decoder_input_id, label in zip(decoder_input_ids.tolist()[:-1], labels.tolist()[1:]):\n",
        "  if label != -100:\n",
        "    print(processor.decode([decoder_input_id]), processor.decode([label]))\n",
        "  else:\n",
        "    print(processor.decode([decoder_input_id]), label)"
      ],
      "metadata": {
        "colab": {
          "base_uri": "https://localhost:8080/"
        },
        "id": "Zud4yPeN4qQb",
        "outputId": "cbf02ec1-344a-420f-b719-ed32efab653a"
      },
      "execution_count": 22,
      "outputs": [
        {
          "output_type": "stream",
          "name": "stdout",
          "text": [
            "<s_prompt> -100\n",
            "click -100\n",
            "on -100\n",
            "the -100\n",
            "lock -100\n",
            "symbol -100\n",
            "</s_prompt> -100\n",
            "<s_target_bounding_box> <s_xmax>\n",
            "<s_xmax> 0\n",
            "0 .\n",
            ". 98\n",
            "98 </s_xmax>\n",
            "</s_xmax> <s_xmin>\n",
            "<s_xmin> 0\n",
            "0 .\n",
            ". 87\n",
            "87 </s_xmin>\n",
            "</s_xmin> <s_ymax>\n",
            "<s_ymax> 0\n",
            "0 .\n",
            ". 42\n",
            "42 </s_ymax>\n",
            "</s_ymax> <s_ymin>\n",
            "<s_ymin> 0\n",
            "0 .\n",
            ". 36\n",
            "36 </s_ymin>\n",
            "</s_ymin> </s_target_bounding_box>\n",
            "</s_target_bounding_box> </s>\n",
            "</s> -100\n",
            "<pad> -100\n",
            "<pad> -100\n",
            "<pad> -100\n",
            "<pad> -100\n",
            "<pad> -100\n",
            "<pad> -100\n",
            "<pad> -100\n",
            "<pad> -100\n",
            "<pad> -100\n",
            "<pad> -100\n",
            "<pad> -100\n",
            "<pad> -100\n",
            "<pad> -100\n",
            "<pad> -100\n",
            "<pad> -100\n",
            "<pad> -100\n",
            "<pad> -100\n",
            "<pad> -100\n",
            "<pad> -100\n",
            "<pad> -100\n",
            "<pad> -100\n",
            "<pad> -100\n",
            "<pad> -100\n",
            "<pad> -100\n",
            "<pad> -100\n",
            "<pad> -100\n",
            "<pad> -100\n",
            "<pad> -100\n",
            "<pad> -100\n",
            "<pad> -100\n",
            "<pad> -100\n",
            "<pad> -100\n",
            "<pad> -100\n",
            "<pad> -100\n",
            "<pad> -100\n",
            "<pad> -100\n",
            "<pad> -100\n",
            "<pad> -100\n",
            "<pad> -100\n",
            "<pad> -100\n",
            "<pad> -100\n",
            "<pad> -100\n",
            "<pad> -100\n",
            "<pad> -100\n",
            "<pad> -100\n",
            "<pad> -100\n",
            "<pad> -100\n",
            "<pad> -100\n",
            "<pad> -100\n",
            "<pad> -100\n",
            "<pad> -100\n",
            "<pad> -100\n",
            "<pad> -100\n",
            "<pad> -100\n",
            "<pad> -100\n",
            "<pad> -100\n",
            "<pad> -100\n",
            "<pad> -100\n",
            "<pad> -100\n",
            "<pad> -100\n",
            "<pad> -100\n",
            "<pad> -100\n",
            "<pad> -100\n",
            "<pad> -100\n",
            "<pad> -100\n",
            "<pad> -100\n",
            "<pad> -100\n",
            "<pad> -100\n",
            "<pad> -100\n",
            "<pad> -100\n",
            "<pad> -100\n",
            "<pad> -100\n",
            "<pad> -100\n",
            "<pad> -100\n",
            "<pad> -100\n",
            "<pad> -100\n",
            "<pad> -100\n",
            "<pad> -100\n",
            "<pad> -100\n",
            "<pad> -100\n",
            "<pad> -100\n",
            "<pad> -100\n",
            "<pad> -100\n",
            "<pad> -100\n",
            "<pad> -100\n",
            "<pad> -100\n",
            "<pad> -100\n",
            "<pad> -100\n",
            "<pad> -100\n",
            "<pad> -100\n",
            "<pad> -100\n",
            "<pad> -100\n",
            "<pad> -100\n",
            "<pad> -100\n",
            "<pad> -100\n",
            "<pad> -100\n",
            "<pad> -100\n"
          ]
        }
      ]
    },
    {
      "cell_type": "code",
      "source": [
        "pixel_values, decoder_input_ids, prompt_end_index, processed_parse = val_dataset[0]\n"
      ],
      "metadata": {
        "id": "0xcQqFDsBmPq",
        "colab": {
          "base_uri": "https://localhost:8080/"
        },
        "outputId": "1930804b-fafb-4347-ae4f-6d37d869325d"
      },
      "execution_count": 23,
      "outputs": [
        {
          "output_type": "stream",
          "name": "stdout",
          "text": [
            "sameple #0, input_ids: tensor([57527, 18539, 48941, 37612, 48023, 57528, 57529, 57535, 50891, 39539,\n",
            "        15524, 57536, 57531, 54824, 35934, 57532, 57537, 50891, 39539, 55654,\n",
            "        57538, 57533, 50891, 39539, 55785, 57534, 57530,     2,     1,     1,\n",
            "            1,     1,     1,     1,     1,     1,     1,     1,     1,     1,\n",
            "            1,     1,     1,     1,     1,     1,     1,     1,     1,     1,\n",
            "            1,     1,     1,     1,     1,     1,     1,     1,     1,     1,\n",
            "            1,     1,     1,     1,     1,     1,     1,     1,     1,     1,\n",
            "            1,     1,     1,     1,     1,     1,     1,     1,     1,     1,\n",
            "            1,     1,     1,     1,     1,     1,     1,     1,     1,     1,\n",
            "            1,     1,     1,     1,     1,     1,     1,     1,     1,     1,\n",
            "            1,     1,     1,     1,     1,     1,     1,     1,     1,     1,\n",
            "            1,     1,     1,     1,     1,     1,     1,     1,     1,     1,\n",
            "            1,     1,     1,     1,     1,     1,     1,     1])\n"
          ]
        }
      ]
    },
    {
      "cell_type": "code",
      "source": [
        "pixel_values.shape"
      ],
      "metadata": {
        "colab": {
          "base_uri": "https://localhost:8080/"
        },
        "id": "Szz2rquaBq89",
        "outputId": "f9044ad1-6078-4ff2-dc94-d4a74bcd0ad6"
      },
      "execution_count": 24,
      "outputs": [
        {
          "output_type": "execute_result",
          "data": {
            "text/plain": [
              "torch.Size([3, 1280, 960])"
            ]
          },
          "metadata": {},
          "execution_count": 24
        }
      ]
    },
    {
      "cell_type": "code",
      "source": [
        "prompt_end_index"
      ],
      "metadata": {
        "colab": {
          "base_uri": "https://localhost:8080/"
        },
        "id": "1mUwVF9yBr_u",
        "outputId": "8d1966d2-6f55-405a-b97e-e80a73a45d8f"
      },
      "execution_count": 25,
      "outputs": [
        {
          "output_type": "execute_result",
          "data": {
            "text/plain": [
              "tensor(6)"
            ]
          },
          "metadata": {},
          "execution_count": 25
        }
      ]
    },
    {
      "cell_type": "code",
      "source": [
        "processed_parse"
      ],
      "metadata": {
        "colab": {
          "base_uri": "https://localhost:8080/",
          "height": 36
        },
        "id": "cj2gybmeBuvQ",
        "outputId": "76a639e0-a611-4b97-da4b-3650e68746d9"
      },
      "execution_count": 26,
      "outputs": [
        {
          "output_type": "execute_result",
          "data": {
            "text/plain": [
              "'<s_prompt>click the activate</s_prompt><s_target_bounding_box><s_xmax>0.98</s_xmax><s_xmin>0.02</s_xmin><s_ymax>0.46</s_ymax><s_ymin>0.39</s_ymin></s_target_bounding_box></s>'"
            ],
            "application/vnd.google.colaboratory.intrinsic+json": {
              "type": "string"
            }
          },
          "metadata": {},
          "execution_count": 26
        }
      ]
    },
    {
      "cell_type": "markdown",
      "metadata": {
        "id": "ygTIylugfasG"
      },
      "source": [
        "## Create PyTorch DataLoaders\n",
        "\n",
        "Next, we create corresponding PyTorch DataLoaders."
      ]
    },
    {
      "cell_type": "code",
      "execution_count": 27,
      "metadata": {
        "id": "nLQ_Vl5MLugu",
        "colab": {
          "base_uri": "https://localhost:8080/"
        },
        "outputId": "f5081318-4130-4a8f-ae9a-84b28f613724"
      },
      "outputs": [
        {
          "output_type": "stream",
          "name": "stdout",
          "text": [
            "train dataset length: 15000\n",
            "validation dataset length: 800\n"
          ]
        }
      ],
      "source": [
        "print(f\"train dataset length: {train_dataset.dataset_length}\")\n",
        "print(f\"validation dataset length: {val_dataset.dataset_length}\")\n"
      ]
    },
    {
      "cell_type": "code",
      "source": [
        "from torch.utils.data import DataLoader\n",
        "\n",
        "train_dataloader = DataLoader(train_dataset, batch_size=1, shuffle=True, num_workers=4)\n",
        "val_dataloader = DataLoader(val_dataset, batch_size=1, shuffle=False, num_workers=4)"
      ],
      "metadata": {
        "id": "pIkar2gaX4Xl",
        "colab": {
          "base_uri": "https://localhost:8080/"
        },
        "outputId": "d2980c68-f449-433c-f1c2-e868e1571913"
      },
      "execution_count": 28,
      "outputs": [
        {
          "output_type": "stream",
          "name": "stderr",
          "text": [
            "/usr/local/lib/python3.8/dist-packages/torch/utils/data/dataloader.py:554: UserWarning: This DataLoader will create 4 worker processes in total. Our suggested max number of worker in current system is 2, which is smaller than what this DataLoader is going to create. Please be aware that excessive worker creation might get DataLoader running slow or even freeze, lower the worker number to avoid potential slowness/freeze if necessary.\n",
            "  warnings.warn(_create_warning_msg(\n"
          ]
        }
      ]
    },
    {
      "cell_type": "markdown",
      "metadata": {
        "id": "AxtTVgNnfdkD"
      },
      "source": [
        "Let's verify a batch:"
      ]
    },
    {
      "cell_type": "code",
      "execution_count": 29,
      "metadata": {
        "colab": {
          "base_uri": "https://localhost:8080/"
        },
        "id": "WHurHlLnL8Xm",
        "outputId": "4bf33af5-91dc-4082-a890-f29761639f81"
      },
      "outputs": [
        {
          "output_type": "stream",
          "name": "stdout",
          "text": [
            "torch.Size([1, 3, 1280, 960])\n"
          ]
        }
      ],
      "source": [
        "batch = next(iter(train_dataloader))\n",
        "pixel_values, decoder_input_ids, labels = batch\n",
        "print(pixel_values.shape)"
      ]
    },
    {
      "cell_type": "code",
      "source": [
        "decoder_input_ids.shape"
      ],
      "metadata": {
        "colab": {
          "base_uri": "https://localhost:8080/"
        },
        "id": "Vo0TXXDL8oHj",
        "outputId": "f1490b6d-0711-435e-ed1d-89c6317b21d7"
      },
      "execution_count": 30,
      "outputs": [
        {
          "output_type": "execute_result",
          "data": {
            "text/plain": [
              "torch.Size([1, 128])"
            ]
          },
          "metadata": {},
          "execution_count": 30
        }
      ]
    },
    {
      "cell_type": "markdown",
      "source": [
        "We can clearly see that we have set the labels of all prompt tokens (which includes the prompt) to -100, to make sure the model doesn't learn to generate them. We only start to have labels starting from the \\<s_target_bounding_box> decoder input token."
      ],
      "metadata": {
        "id": "a_GvAiCQkPSf"
      }
    },
    {
      "cell_type": "code",
      "execution_count": 31,
      "metadata": {
        "colab": {
          "base_uri": "https://localhost:8080/"
        },
        "id": "f8ehAwgPZrcc",
        "outputId": "a4fb69f8-7dc6-45e9-fb72-ea18691ef2ee"
      },
      "outputs": [
        {
          "output_type": "stream",
          "name": "stdout",
          "text": [
            "<s_prompt> -100\n",
            "open -100\n",
            "we -100\n",
            "all -100\n",
            "know -100\n",
            "item -100\n",
            "</s_prompt> -100\n",
            "<s_target_bounding_box> <s_xmax>\n",
            "<s_xmax> 1.0\n",
            "1.0 </s_xmax>\n",
            "</s_xmax> <s_xmin>\n",
            "<s_xmin> 0.0\n",
            "0.0 </s_xmin>\n",
            "</s_xmin> <s_ymax>\n",
            "<s_ymax> 0.5\n",
            "0.5 </s_ymax>\n",
            "</s_ymax> <s_ymin>\n",
            "<s_ymin> 0\n",
            "0 .\n",
            ". 36\n",
            "36 </s_ymin>\n",
            "</s_ymin> </s_target_bounding_box>\n",
            "</s_target_bounding_box> </s>\n",
            "</s> -100\n",
            "<pad> -100\n",
            "<pad> -100\n",
            "<pad> -100\n",
            "<pad> -100\n",
            "<pad> -100\n",
            "<pad> -100\n",
            "<pad> -100\n",
            "<pad> -100\n",
            "<pad> -100\n",
            "<pad> -100\n",
            "<pad> -100\n",
            "<pad> -100\n",
            "<pad> -100\n",
            "<pad> -100\n",
            "<pad> -100\n",
            "<pad> -100\n",
            "<pad> -100\n",
            "<pad> -100\n",
            "<pad> -100\n",
            "<pad> -100\n",
            "<pad> -100\n",
            "<pad> -100\n",
            "<pad> -100\n",
            "<pad> -100\n",
            "<pad> -100\n",
            "<pad> -100\n"
          ]
        }
      ],
      "source": [
        "for decoder_input_id, label in zip(decoder_input_ids[0].tolist()[:-1][:50], labels[0].tolist()[1:][:50]):\n",
        "  if label != -100:\n",
        "    print(processor.decode([decoder_input_id]), processor.decode([label]))\n",
        "  else:\n",
        "    print(processor.decode([decoder_input_id]), label)"
      ]
    },
    {
      "cell_type": "markdown",
      "metadata": {
        "id": "mnmD7rRy2WLI"
      },
      "source": [
        "## Define LightningModule\n",
        "\n",
        "We'll fine-tune the model using [PyTorch Lightning](https://www.pytorchlightning.ai/) here, but note that you can of course also just fine-tune with regular PyTorch, HuggingFace [Accelerate](https://github.com/huggingface/accelerate), the HuggingFace [Trainer](https://huggingface.co/docs/transformers/main_classes/trainer), etc.\n",
        "\n",
        "PyTorch Lightning is pretty convenient to handle things like device placement, mixed precision and logging for you."
      ]
    },
    {
      "cell_type": "markdown",
      "source": [
        "## Defining Evaluation Metric\n",
        "\n",
        "DocVQA normally uses Edit Distance, but that is not the most natural choice for bounding box evaluation.\n",
        "\n",
        "### Distance between rectangle centers\n",
        "\n",
        "In the early stages of training, center distance is a useful coarse grained eval metric. It tells us how close the center of the predicted bounding box is from the center of the ground truth bounding box.\n",
        "\n",
        "As the model improves, we can switch to a more fine grained eval metric such as IoU. See further below.\n"
      ],
      "metadata": {
        "id": "UXzLACRy1ZLP"
      }
    },
    {
      "cell_type": "code",
      "source": [
        "import math\n",
        "\n",
        "def get_center_distance(bb1, bb2):\n",
        "    \"\"\"\n",
        "    Calculate the distance between the centers of two bounding boxes.\n",
        "    Best case, distance between centers of predicted and ground truth bounding boxes will be 0.\n",
        "    Worst case,  distance will be the larges diagonal in the screen - sqrt(1,1).\n",
        "\n",
        "    Parameters\n",
        "    ----------\n",
        "    bb1 : dict\n",
        "        Keys: {'xmin', 'xmax', 'ymin', 'ymax'}\n",
        "        The (xmin, ymin) position is at the top left corner,\n",
        "        the (xmax, y2) position is at the bottom right corner\n",
        "    bb2 : dict\n",
        "        Keys: {'xmin', 'xmax', 'ymin', 'ymax'}\n",
        "        The (x, y) position is at the top left corner,\n",
        "        the (xmax, ymax) position is at the bottom right corner\n",
        "\n",
        "    Returns\n",
        "    -------\n",
        "    float\n",
        "        in [0, sqrt(1+1)]\n",
        "    \"\"\"\n",
        "    best_case = 0.0\n",
        "    worst_case = math.sqrt(1+1) # max diagonal\n",
        "    # print(f\"IoU input bb1, bb2: {bb1} , {bb2}\")\n",
        "    # if predictions are not resulting in properly shaped bounding boxes, return no-match\n",
        "    try:\n",
        "      if bb1['xmin'] > bb1['xmax']:\n",
        "        return worst_case # max distance = sqrt(1+1)\n",
        "      if bb1['ymin'] > bb1['ymax']:\n",
        "        return worst_case # max distance\n",
        "      # if any of the bounding box labels are not properly shaped, return no-match\n",
        "      if bb2['xmin'] > bb2['xmax']:\n",
        "        return worst_case  # max distance\n",
        "      if bb2['ymin'] > bb2['ymax']:\n",
        "        return worst_case  # max distance\n",
        "    except Exception as e:\n",
        "      print(f\"Error evaluating center distance between {bb1} and {bb2}\", e)\n",
        "      return worst_case      \n",
        "\n",
        "    # determine the coordinates of the center of each rectangle\n",
        "    bb1_x_center = (bb1['xmax'] + bb1['xmin'])/2\n",
        "    bb1_y_center = (bb1['ymax'] + bb1['ymin'])/2\n",
        "\n",
        "    bb2_x_center = (bb2['xmax'] + bb2['xmin'])/2\n",
        "    bb2_y_center = (bb2['ymax'] + bb2['ymin'])/2\n",
        "    center_dist = math.sqrt((bb2_x_center - bb1_x_center)**2 + (bb2_y_center - bb1_y_center)**2)\n",
        "\n",
        "    assert center_dist >= best_case\n",
        "    assert center_dist <= worst_case # sqrt(1+1)\n",
        "    return center_dist"
      ],
      "metadata": {
        "id": "YYk7Y6SoU9Qe"
      },
      "execution_count": 32,
      "outputs": []
    },
    {
      "cell_type": "markdown",
      "source": [
        "\n",
        "### Intersection over Union\n",
        "\n",
        "We can use [Intersection over Union](https://pyimagesearch.com/2016/11/07/intersection-over-union-iou-for-object-detection/) (IoU) to measure bounding box match as a validation progress metric instead of the Edit Distance metric used in DocVQA.\n",
        "\n",
        "Since the model outputs bounding box coordinates, we would like to see these bounding boxes trend towards overlapping exactly with the ground truth.\n",
        "\n",
        "![IoU image](https://i.stack.imgur.com/n1AZj.png)\n",
        "\n",
        "Edit distance also trends towards full match, but it may show less useful intermediate values. For example `xmin=0.123` and `xmin=0.923` are only 1 character separated, but in terms of bounding box overlap, they are very far apart.\n"
      ],
      "metadata": {
        "id": "RKtTK9RWU9kH"
      }
    },
    {
      "cell_type": "code",
      "source": [
        "\n",
        "def get_iou(bb1, bb2):\n",
        "    \"\"\"\n",
        "    Calculate the Intersection over Union (IoU) of two bounding boxes.\n",
        "    Best case, IoU is 1 indicating perfect match between prediction and ground truth.\n",
        "    Worst case, IoU is 0 when no overlap between bounding boxes.\n",
        "    Modifed version from the following original on stackoverflow:\n",
        "    https://stackoverflow.com/questions/25349178/calculating-percentage-of-bounding-box-overlap-for-image-detector-evaluation\n",
        "\n",
        "    Parameters\n",
        "    ----------\n",
        "    bb1 : dict\n",
        "        Keys: {'xmin', 'xmax', 'ymin', 'ymax'}\n",
        "        The (xmin, ymin) position is at the top left corner,\n",
        "        the (xmax, y2) position is at the bottom right corner\n",
        "    bb2 : dict\n",
        "        Keys: {'xmin', 'xmax', 'ymin', 'ymax'}\n",
        "        The (x, y) position is at the top left corner,\n",
        "        the (xmax, ymax) position is at the bottom right corner\n",
        "\n",
        "    Returns\n",
        "    -------\n",
        "    float\n",
        "        in [0, 1]\n",
        "    \"\"\"\n",
        "    best_case = 1.0\n",
        "    worst_case = 0.0\n",
        "    # print(f\"IoU input bb1, bb2: {bb1} , {bb2}\")\n",
        "    # if predictions are not resulting in properly shaped bounding boxes, return no-match\n",
        "    try:\n",
        "      if bb1['xmin'] >= bb1['xmax']:\n",
        "        return worst_case\n",
        "      if bb1['ymin'] >= bb1['ymax']:\n",
        "        return worst_case\n",
        "\n",
        "      # if any of the bounding box labels are not properly shaped, return no-match\n",
        "      if bb2['xmin'] >= bb2['xmax']:\n",
        "        return worst_case\n",
        "      if bb2['ymin'] >= bb2['ymax']:\n",
        "        return worst_case\n",
        "    except Exception as e:\n",
        "      print(f\"Error evaluating IoU between {bb1} and {bb2}\", e)\n",
        "      return worst_case\n",
        "\n",
        "    # determine the coordinates of the intersection rectangle\n",
        "    x_left = max(bb1['xmin'], bb2['xmin'])\n",
        "    y_top = max(bb1['ymin'], bb2['ymin'])\n",
        "    x_right = min(bb1['xmax'], bb2['xmax'])\n",
        "    y_bottom = min(bb1['ymax'], bb2['ymax'])\n",
        "\n",
        "    # print(f\"IoU x_left: {x_left}, y_top: {y_top}, x_right: {x_right}, y_bottom: {y_bottom}\")\n",
        "\n",
        "    if x_right < x_left or y_bottom < y_top:\n",
        "        return worst_case # no bbox overlap\n",
        "\n",
        "    # The intersection of two axis-aligned bounding boxes is always an\n",
        "    # axis-aligned bounding box\n",
        "    intersection_area = (x_right - x_left) * (y_bottom - y_top)\n",
        "    # print(f\"IoU intersection_area: {intersection_area}\")\n",
        "\n",
        "    # compute the area of both AABBs\n",
        "    bb1_area = (bb1['xmax'] - bb1['xmin']) * (bb1['ymax'] - bb1['ymin'])\n",
        "    bb2_area = (bb2['xmax'] - bb2['xmin']) * (bb2['ymax'] - bb2['ymin'])\n",
        "    # print(f\"IoU bb1_area: {bb1_area}\")\n",
        "    # print(f\"IoU bb2_area: {bb2_area}\")\n",
        "\n",
        "    # compute the intersection over union by taking the intersection\n",
        "    # area and dividing it by the sum of prediction + ground-truth\n",
        "    # areas - the interesection area\n",
        "    iou = intersection_area / float(bb1_area + bb2_area - intersection_area)\n",
        "    # if iou > 0:\n",
        "    #   print(f\"IoU input bb1, bb2: {bb1} , {bb2}\")\n",
        "    #   print(f\"IoU : {iou}\")\n",
        "    assert iou >= worst_case\n",
        "    assert iou <= best_case\n",
        "    return iou"
      ],
      "metadata": {
        "id": "AmDmvkkfnDef"
      },
      "execution_count": 33,
      "outputs": []
    },
    {
      "cell_type": "code",
      "execution_count": 34,
      "metadata": {
        "id": "oRm5i4gWG-sb"
      },
      "outputs": [],
      "source": [
        "from pathlib import Path\n",
        "import re\n",
        "# from nltk import edit_distance\n",
        "import numpy as np\n",
        "import math\n",
        "\n",
        "from torch.nn.utils.rnn import pad_sequence\n",
        "from torch.optim.lr_scheduler import LambdaLR\n",
        "\n",
        "import pytorch_lightning as pl\n",
        "from pytorch_lightning.utilities import rank_zero_only\n",
        "\n",
        "\n",
        "class DonutModelPLModule(pl.LightningModule):\n",
        "    def __init__(self, config, processor, model):\n",
        "        super().__init__()\n",
        "        self.config = config\n",
        "        self.processor = processor\n",
        "        self.model = model\n",
        "\n",
        "    def training_step(self, batch, batch_idx):\n",
        "        pixel_values, decoder_input_ids, labels = batch\n",
        "        \n",
        "        outputs = self.model(pixel_values,\n",
        "                             decoder_input_ids=decoder_input_ids[:, :-1],\n",
        "                             labels=labels[:, 1:])\n",
        "        loss = outputs.loss\n",
        "        self.log_dict({\"train_loss\": loss}, sync_dist=True)\n",
        "        return loss\n",
        "\n",
        "    def token2bbox(self, seq: str):\n",
        "        target_bbox = self.processor.token2json(seq)\n",
        "        bbox = target_bbox.get('target_bounding_box')\n",
        "        if bbox is None:\n",
        "          print(f\"token2bbox seq has no target_bounding_box, seq:{seq}\")\n",
        "          bbox = bbox = {\"xmin\": 0, \"ymin\": 0, \"xmax\": 0, \"ymax\": 0}\n",
        "          return bbox\n",
        "        # print(f\"token2 bounding box json: {bbox}\")\n",
        "        # safeguard in case text prediction is missing some bounding box coordinates\n",
        "        # or coordinates are not valid numeric values\n",
        "        try:\n",
        "          xmin = float(bbox.get(\"xmin\", 0))\n",
        "        except ValueError:\n",
        "          xmin = 0\n",
        "        try:\n",
        "          ymin = float(bbox.get(\"ymin\", 0))\n",
        "        except ValueError:\n",
        "          ymin = 0\n",
        "        try:\n",
        "          xmax = float(bbox.get(\"xmax\", 1))\n",
        "        except ValueError:\n",
        "          xmax = 1\n",
        "        try:\n",
        "          ymax = float(bbox.get(\"ymax\", 1))\n",
        "        except ValueError:\n",
        "          ymax = 1\n",
        "        # replace str with float coords\n",
        "        bbox = {\"xmin\": xmin, \"ymin\": ymin, \"xmax\": xmax, \"ymax\": ymax}\n",
        "        # print(f\"token2 bounding box float: {bbox}\")\n",
        "        return bbox\n",
        "\n",
        "    def validation_step(self, batch, batch_idx, dataset_idx=0):\n",
        "        pixel_values, decoder_input_ids, prompt_end_idxs, answers = batch\n",
        "        decoder_prompts = pad_sequence(\n",
        "            [input_id[: end_idx + 1] for input_id, end_idx in zip(decoder_input_ids, prompt_end_idxs)],\n",
        "            batch_first=True,\n",
        "        )\n",
        "        \n",
        "        outputs = self.model.generate(pixel_values,\n",
        "                                   decoder_input_ids=decoder_prompts,\n",
        "                                   max_length=max_length,\n",
        "                                   early_stopping=True,\n",
        "                                   pad_token_id=self.processor.tokenizer.pad_token_id,\n",
        "                                   eos_token_id=self.processor.tokenizer.eos_token_id,\n",
        "                                   use_cache=True,\n",
        "                                   num_beams=1,\n",
        "                                   bad_words_ids=[[self.processor.tokenizer.unk_token_id]],\n",
        "                                   return_dict_in_generate=True,)\n",
        "    \n",
        "        predictions = []\n",
        "        for seq in self.processor.tokenizer.batch_decode(outputs.sequences):\n",
        "            seq = seq.replace(self.processor.tokenizer.eos_token, \"\").replace(self.processor.tokenizer.pad_token, \"\")\n",
        "            seq = re.sub(r\"<.*?>\", \"\", seq, count=1).strip()  # remove first task start token\n",
        "            predictions.append(seq)\n",
        "\n",
        "        scores = list()\n",
        "        for pred, answer in zip(predictions, answers):\n",
        "            answer = re.sub(r\"<.*?>\", \"\", answer, count=1)\n",
        "            answer = answer.replace(self.processor.tokenizer.eos_token, \"\")\n",
        "            answer_bbox = self.token2bbox(answer)\n",
        "            pred_bbox = self.token2bbox(pred)\n",
        "            scores.append(get_center_distance(pred_bbox, answer_bbox))\n",
        "            # scores.append(get_iou(pred_bbox, answer_bbox))\n",
        "            if self.config.get(\"verbose\", False) and len(scores) == 1:\n",
        "              print(f\"      Prediction: {pred}\")\n",
        "              print(f\"          Answer: {answer}\")\n",
        "              print(f\" Prediction bbox: {pred_bbox}\")\n",
        "              print(f\"     Answer bbox: {answer_bbox}\")\n",
        "              print(f\"Eval score (Center Distance): {scores[0]}\")\n",
        "              # print(f\"Eval score (IoU): {scores[0]}\")\n",
        "              # print(f\"Eval score (Edit Distance): {scores[2]}\")\n",
        "\n",
        "        return scores\n",
        "\n",
        "    def validation_epoch_end(self, validation_step_outputs):\n",
        "        # I set this to 1 manually\n",
        "        # (previously set to len(self.config.dataset_name_or_paths))\n",
        "        num_of_loaders = 1\n",
        "        if num_of_loaders == 1:\n",
        "            validation_step_outputs = [validation_step_outputs]\n",
        "        assert len(validation_step_outputs) == num_of_loaders\n",
        "        cnt = [0] * num_of_loaders\n",
        "        total_metric = [0] * num_of_loaders\n",
        "        val_metric = [0] * num_of_loaders\n",
        "        for i, results in enumerate(validation_step_outputs):\n",
        "            for scores in results:\n",
        "                cnt[i] += len(scores)\n",
        "                total_metric[i] += np.sum(scores)\n",
        "            val_metric[i] = total_metric[i] / cnt[i]\n",
        "            val_metric_name = f\"val_metric_{i}th_dataset\"\n",
        "            self.log_dict({val_metric_name: val_metric[i]}, sync_dist=True)\n",
        "        self.log_dict({\"val_metric\": np.sum(total_metric) / np.sum(cnt)}, sync_dist=True)\n",
        "\n",
        "    def configure_optimizers(self):\n",
        "        # TODO add scheduler\n",
        "        optimizer = torch.optim.Adam(self.parameters(), lr=self.config.get(\"lr\"))\n",
        "    \n",
        "        return optimizer\n",
        "\n",
        "    def train_dataloader(self):\n",
        "        return train_dataloader\n",
        "\n",
        "    def val_dataloader(self):\n",
        "        return val_dataloader"
      ]
    },
    {
      "cell_type": "markdown",
      "source": [
        "Next, we instantiate the module:"
      ],
      "metadata": {
        "id": "bKujfvIDlAHo"
      }
    },
    {
      "cell_type": "code",
      "execution_count": 35,
      "metadata": {
        "id": "pxNJhCGjKhtR"
      },
      "outputs": [],
      "source": [
        "config = {\"max_epochs\": 2, # aim for 30,\n",
        "          \"val_check_interval\":0.4, # how many times we want to validate during an epoch\n",
        "          \"check_val_every_n_epoch\":1,\n",
        "          \"gradient_clip_val\":1.0,\n",
        "          \"num_training_samples_per_epoch\": 800,\n",
        "          \"lr\":3e-6, # Start at 3e-5 and reduce gradually every few epochs if loss oscilations too high\n",
        "          \"train_batch_sizes\": [8],\n",
        "          \"val_batch_sizes\": [1],\n",
        "          # \"seed\":2022,\n",
        "          \"num_nodes\": 1,\n",
        "          \"warmup_steps\": 20, # 20 = 800/8*2/10, 10%; 300 for 800/8*30/10, 10%\n",
        "          \"result_path\": \"./result\",\n",
        "          \"verbose\": True,\n",
        "          }\n",
        " \n",
        "model_module = DonutModelPLModule(config, processor, model)"
      ]
    },
    {
      "cell_type": "markdown",
      "metadata": {
        "id": "0ZoPiDOPKg0o"
      },
      "source": [
        "## Train!"
      ]
    },
    {
      "cell_type": "code",
      "source": [
        "import wandb\n",
        "# clear any previously open logging session\n",
        "wandb.finish()"
      ],
      "metadata": {
        "id": "GQhXL0AdWpuk"
      },
      "execution_count": 36,
      "outputs": []
    },
    {
      "cell_type": "code",
      "execution_count": 37,
      "metadata": {
        "id": "NiK6-vQHKnBy",
        "colab": {
          "base_uri": "https://localhost:8080/",
          "height": 208
        },
        "outputId": "5ad1f7f7-8201-4fbd-a4ca-05de7b2f24df"
      },
      "outputs": [
        {
          "output_type": "stream",
          "name": "stderr",
          "text": [
            "\u001b[34m\u001b[1mwandb\u001b[0m: Currently logged in as: \u001b[33mivelin-eth\u001b[0m. Use \u001b[1m`wandb login --relogin`\u001b[0m to force relogin\n"
          ]
        },
        {
          "output_type": "display_data",
          "data": {
            "text/plain": [
              "<IPython.core.display.HTML object>"
            ],
            "text/html": [
              "Tracking run with wandb version 0.13.9"
            ]
          },
          "metadata": {}
        },
        {
          "output_type": "display_data",
          "data": {
            "text/plain": [
              "<IPython.core.display.HTML object>"
            ],
            "text/html": [
              "Run data is saved locally in <code>./wandb/run-20230123_155405-dr33kkoh</code>"
            ]
          },
          "metadata": {}
        },
        {
          "output_type": "display_data",
          "data": {
            "text/plain": [
              "<IPython.core.display.HTML object>"
            ],
            "text/html": [
              "Syncing run <strong><a href=\"https://wandb.ai/ivelin-eth/Donut-RefExp/runs/dr33kkoh\" target=\"_blank\">zany-music-111</a></strong> to <a href=\"https://wandb.ai/ivelin-eth/Donut-RefExp\" target=\"_blank\">Weights & Biases</a> (<a href=\"https://wandb.me/run\" target=\"_blank\">docs</a>)<br/>"
            ]
          },
          "metadata": {}
        },
        {
          "output_type": "display_data",
          "data": {
            "text/plain": [
              "<IPython.core.display.HTML object>"
            ],
            "text/html": [
              " View project at <a href=\"https://wandb.ai/ivelin-eth/Donut-RefExp\" target=\"_blank\">https://wandb.ai/ivelin-eth/Donut-RefExp</a>"
            ]
          },
          "metadata": {}
        },
        {
          "output_type": "display_data",
          "data": {
            "text/plain": [
              "<IPython.core.display.HTML object>"
            ],
            "text/html": [
              " View run at <a href=\"https://wandb.ai/ivelin-eth/Donut-RefExp/runs/dr33kkoh\" target=\"_blank\">https://wandb.ai/ivelin-eth/Donut-RefExp/runs/dr33kkoh</a>"
            ]
          },
          "metadata": {}
        },
        {
          "output_type": "stream",
          "name": "stderr",
          "text": [
            "INFO:pytorch_lightning.utilities.rank_zero:Using 16bit None Automatic Mixed Precision (AMP)\n",
            "INFO:pytorch_lightning.utilities.rank_zero:GPU available: True (cuda), used: True\n",
            "INFO:pytorch_lightning.utilities.rank_zero:TPU available: False, using: 0 TPU cores\n",
            "INFO:pytorch_lightning.utilities.rank_zero:IPU available: False, using: 0 IPUs\n",
            "INFO:pytorch_lightning.utilities.rank_zero:HPU available: False, using: 0 HPUs\n"
          ]
        }
      ],
      "source": [
        "from pytorch_lightning.loggers import WandbLogger\n",
        " \n",
        "\n",
        "wandb_logger = WandbLogger(project=\"Donut-RefExp\")\n",
        "\n",
        "trainer = pl.Trainer(\n",
        "        accelerator=\"gpu\",\n",
        "        devices=1,\n",
        "        max_epochs=config.get(\"max_epochs\"),\n",
        "        val_check_interval=config.get(\"val_check_interval\"),\n",
        "        check_val_every_n_epoch=config.get(\"check_val_every_n_epoch\"),\n",
        "        gradient_clip_val=config.get(\"gradient_clip_val\"),\n",
        "        precision=16, # we'll use mixed precision\n",
        "        num_sanity_val_steps=0,\n",
        "        logger=wandb_logger\n",
        "        # callbacks=[lr_callback, checkpoint_callback],\n",
        ")\n",
        "\n"
      ]
    },
    {
      "cell_type": "code",
      "source": [
        "trainer.fit(model_module) #, ckpt_path=\"last\")"
      ],
      "metadata": {
        "colab": {
          "base_uri": "https://localhost:8080/",
          "height": 1000,
          "referenced_widgets": [
            "ef3132c26f4a4eb5aa6ab90cbd8f3330"
          ]
        },
        "id": "KNax96JP0CWR",
        "outputId": "942bb8f6-07e9-464b-c2d3-233ddb5c27e6"
      },
      "execution_count": null,
      "outputs": [
        {
          "output_type": "display_data",
          "data": {
            "text/plain": [
              "Validation: 0it [00:00, ?it/s]"
            ],
            "application/vnd.jupyter.widget-view+json": {
              "version_major": 2,
              "version_minor": 0,
              "model_id": "ef3132c26f4a4eb5aa6ab90cbd8f3330"
            }
          },
          "metadata": {}
        },
        {
          "output_type": "stream",
          "name": "stdout",
          "text": [
            "sameple #0, input_ids: tensor([57527, 18539, 48941, 37612, 48023, 57528, 57529, 57535, 50891, 39539,\n",
            "        15524, 57536, 57531, 54824, 35934, 57532, 57537, 50891, 39539, 55654,\n",
            "        57538, 57533, 50891, 39539, 55785, 57534, 57530,     2,     1,     1,\n",
            "            1,     1,     1,     1,     1,     1,     1,     1,     1,     1,\n",
            "            1,     1,     1,     1,     1,     1,     1,     1,     1,     1,\n",
            "            1,     1,     1,     1,     1,     1,     1,     1,     1,     1,\n",
            "            1,     1,     1,     1,     1,     1,     1,     1,     1,     1,\n",
            "            1,     1,     1,     1,     1,     1,     1,     1,     1,     1,\n",
            "            1,     1,     1,     1,     1,     1,     1,     1,     1,     1,\n",
            "            1,     1,     1,     1,     1,     1,     1,     1,     1,     1,\n",
            "            1,     1,     1,     1,     1,     1,     1,     1,     1,     1,\n",
            "            1,     1,     1,     1,     1,     1,     1,     1,     1,     1,\n",
            "            1,     1,     1,     1,     1,     1,     1,     1])\n",
            "      Prediction: click the activate</s_prompt><s_target_bounding_box><s_xmax> 0.85</s_xmax><s_xmin> 0.15</s_xmin><s_ymax> 0.46</s_ymax><s_ymin> 0.39</s_ymin></s_target_bounding_box>\n",
            "          Answer: click the activate</s_prompt><s_target_bounding_box><s_xmax>0.98</s_xmax><s_xmin>0.02</s_xmin><s_ymax>0.46</s_ymax><s_ymin>0.39</s_ymin></s_target_bounding_box>\n",
            " Prediction bbox: {'xmin': 0.15, 'ymin': 0.39, 'xmax': 0.85, 'ymax': 0.46}\n",
            "     Answer bbox: {'xmin': 0.02, 'ymin': 0.39, 'xmax': 0.98, 'ymax': 0.46}\n",
            "Eval score (Center Distance): 0.0\n",
            "      Prediction: click on the option snow above ice</s_prompt><s_target_bounding_box><s_xmax> 0.94</s_xmax><s_xmin> 0.06</s_xmin><s_ymax> 0.88</s_ymax><s_ymin> 0.81</s_ymin></s_target_bounding_box>\n",
            "          Answer: click on the option snow above ice</s_prompt><s_target_bounding_box><s_xmax>0.84</s_xmax><s_xmin>0.06</s_xmin><s_ymax>0.86</s_ymax><s_ymin>0.82</s_ymin></s_target_bounding_box>\n",
            " Prediction bbox: {'xmin': 0.06, 'ymin': 0.81, 'xmax': 0.94, 'ymax': 0.88}\n",
            "     Answer bbox: {'xmin': 0.06, 'ymin': 0.82, 'xmax': 0.84, 'ymax': 0.86}\n",
            "Eval score (Center Distance): 0.050249378105604495\n",
            "      Prediction: select the arrow button which is to the immediate left of about</s_prompt><s_target_bounding_box><s_xmax> 0.12</s_xmax><s_xmin> 0.02</s_xmin><s_ymax> 0.11</s_ymax><s_ymin> 0.03</s_ymin></s_target_bounding_box>\n",
            "          Answer: select the arrow button which is to the immediate left of about</s_prompt><s_target_bounding_box><s_xmax>0.1</s_xmax><s_xmin>0.03</s_xmin><s_ymax>0.09</s_ymax><s_ymin>0.03</s_ymin></s_target_bounding_box>\n",
            " Prediction bbox: {'xmin': 0.02, 'ymin': 0.03, 'xmax': 0.12, 'ymax': 0.11}\n",
            "     Answer bbox: {'xmin': 0.03, 'ymin': 0.03, 'xmax': 0.1, 'ymax': 0.09}\n",
            "Eval score (Center Distance): 0.011180339887498952\n",
            "      Prediction: click on the text below audiobooks from audible</s_prompt><s_target_bounding_box><s_xmax> 0.98</s_xmax><s_xmin> 0.02</s_xmin><s_ymax> 0.44</s_ymax><s_ymin> 0.37</s_ymin></s_target_bounding_box>\n",
            "          Answer: click on the text below audiobooks from audible</s_prompt><s_target_bounding_box><s_xmax>0.98</s_xmax><s_xmin>0.18</s_xmin><s_ymax>0.42</s_ymax><s_ymin>0.38</s_ymin></s_target_bounding_box>\n",
            " Prediction bbox: {'xmin': 0.02, 'ymin': 0.37, 'xmax': 0.98, 'ymax': 0.44}\n",
            "     Answer bbox: {'xmin': 0.18, 'ymin': 0.38, 'xmax': 0.98, 'ymax': 0.42}\n",
            "Eval score (Center Distance): 0.08015609770940695\n",
            "      Prediction: go to the r below menu button</s_prompt><s_target_bounding_box><s_xmax> 0.2</s_xmax><s_xmin> 0.0</s_xmin><s_ymax> 0.17</s_ymax><s_ymin> 0.11</s_ymin></s_target_bounding_box>\n",
            "          Answer: go to the r below menu button</s_prompt><s_target_bounding_box><s_xmax>0.18</s_xmax><s_xmin>0.01</s_xmin><s_ymax>0.16</s_ymax><s_ymin>0.11</s_ymin></s_target_bounding_box>\n",
            " Prediction bbox: {'xmin': 0.0, 'ymin': 0.11, 'xmax': 0.2, 'ymax': 0.17}\n",
            "     Answer bbox: {'xmin': 0.01, 'ymin': 0.11, 'xmax': 0.18, 'ymax': 0.16}\n",
            "Eval score (Center Distance): 0.007071067811865481\n",
            "      Prediction: open the icon to the left of the create listing app</s_prompt><s_target_bounding_box><s_xmax> 0.14</s_xmax><s_xmin> 0.0</s_xmin><s_ymax> 0.11</s_ymax><s_ymin> 0.03</s_ymin></s_target_bounding_box>\n",
            "          Answer: open the icon to the left of the create listing app</s_prompt><s_target_bounding_box><s_xmax>0.14</s_xmax><s_xmin>0.0</s_xmin><s_ymax>0.11</s_ymax><s_ymin>0.03</s_ymin></s_target_bounding_box>\n",
            " Prediction bbox: {'xmin': 0.0, 'ymin': 0.03, 'xmax': 0.14, 'ymax': 0.11}\n",
            "     Answer bbox: {'xmin': 0.0, 'ymin': 0.03, 'xmax': 0.14, 'ymax': 0.11}\n",
            "Eval score (Center Distance): 0.0\n",
            "      Prediction: link contacts</s_prompt><s_target_bounding_box><s_xmax> 0.23</s_xmax><s_xmin> 0.0</s_xmin><s_ymax> 0.57</s_ymax><s_ymin> 0.54</s_ymin></s_target_bounding_box>\n",
            "          Answer: link contacts</s_prompt><s_target_bounding_box><s_xmax>0.91</s_xmax><s_xmin>0.03</s_xmin><s_ymax>0.58</s_ymax><s_ymin>0.54</s_ymin></s_target_bounding_box>\n",
            " Prediction bbox: {'xmin': 0.0, 'ymin': 0.54, 'xmax': 0.23, 'ymax': 0.57}\n",
            "     Answer bbox: {'xmin': 0.03, 'ymin': 0.54, 'xmax': 0.91, 'ymax': 0.58}\n",
            "Eval score (Center Distance): 0.35503520952153467\n",
            "      Prediction: select the tools item</s_prompt><s_target_bounding_box><s_xmax> 0.8</s_xmax><s_xmin> 0.6</s_xmin><s_ymax> 0.93</s_ymax><s_ymin> 0.9</s_ymin></s_target_bounding_box>\n",
            "          Answer: select the tools item</s_prompt><s_target_bounding_box><s_xmax>0.8</s_xmax><s_xmin>0.6</s_xmin><s_ymax>0.93</s_ymax><s_ymin>0.9</s_ymin></s_target_bounding_box>\n",
            " Prediction bbox: {'xmin': 0.6, 'ymin': 0.9, 'xmax': 0.8, 'ymax': 0.93}\n",
            "     Answer bbox: {'xmin': 0.6, 'ymin': 0.9, 'xmax': 0.8, 'ymax': 0.93}\n",
            "Eval score (Center Distance): 0.0\n",
            "      Prediction: click on the button that having a text call log at the bottom of the page</s_prompt><s_target_bounding_box><s_xmax> 0.98</s_xmax><s_xmin> 0.16</s_xmin><s_ymax> 0.92</s_ymax><s_ymin> 0.84</s_ymin></s_target_bounding_box>\n",
            "          Answer: click on the button that having a text call log at the bottom of the page</s_prompt><s_target_bounding_box><s_xmax>0.74</s_xmax><s_xmin>0.64</s_xmin><s_ymax>0.9</s_ymax><s_ymin>0.84</s_ymin></s_target_bounding_box>\n",
            " Prediction bbox: {'xmin': 0.16, 'ymin': 0.84, 'xmax': 0.98, 'ymax': 0.92}\n",
            "     Answer bbox: {'xmin': 0.64, 'ymin': 0.84, 'xmax': 0.74, 'ymax': 0.9}\n",
            "Eval score (Center Distance): 0.12041594578792295\n",
            "      Prediction: cute</s_prompt><s_target_bounding_box><s_xmax> 0.92</s_xmax><s_xmin> 0.83</s_xmin><s_ymax> 0.17</s_ymax><s_ymin> 0.11</s_ymin></s_target_bounding_box>\n",
            "          Answer: cute</s_prompt><s_target_bounding_box><s_xmax>0.88</s_xmax><s_xmin>0.8</s_xmin><s_ymax>0.17</s_ymax><s_ymin>0.11</s_ymin></s_target_bounding_box>\n",
            " Prediction bbox: {'xmin': 0.83, 'ymin': 0.11, 'xmax': 0.92, 'ymax': 0.17}\n",
            "     Answer bbox: {'xmin': 0.8, 'ymin': 0.11, 'xmax': 0.88, 'ymax': 0.17}\n",
            "Eval score (Center Distance): 0.03499999999999992\n",
            "      Prediction: click on the image on the top left</s_prompt><s_target_bounding_box><s_xmax> 0.14</s_xmax><s_xmin> 0.02</s_xmin><s_ymax> 0.11</s_ymax><s_ymin> 0.03</s_ymin></s_target_bounding_box>\n",
            "          Answer: click on the image on the top left</s_prompt><s_target_bounding_box><s_xmax>0.13</s_xmax><s_xmin>0.02</s_xmin><s_ymax>0.19</s_ymax><s_ymin>0.13</s_ymin></s_target_bounding_box>\n",
            " Prediction bbox: {'xmin': 0.02, 'ymin': 0.03, 'xmax': 0.14, 'ymax': 0.11}\n",
            "     Answer bbox: {'xmin': 0.02, 'ymin': 0.13, 'xmax': 0.13, 'ymax': 0.19}\n",
            "Eval score (Center Distance): 0.09013878188659974\n",
            "      Prediction: message settings</s_prompt><s_target_bounding_box><s_xmax> 0.41</s_xmax><s_xmin> 0.06</s_xmin><s_ymax> 0.27</s_ymax><s_ymin> 0.24</s_ymin></s_target_bounding_box>\n",
            "          Answer: message settings</s_prompt><s_target_bounding_box><s_xmax>0.4</s_xmax><s_xmin>0.06</s_xmin><s_ymax>0.27</s_ymax><s_ymin>0.24</s_ymin></s_target_bounding_box>\n",
            " Prediction bbox: {'xmin': 0.06, 'ymin': 0.24, 'xmax': 0.41, 'ymax': 0.27}\n",
            "     Answer bbox: {'xmin': 0.06, 'ymin': 0.24, 'xmax': 0.4, 'ymax': 0.27}\n",
            "Eval score (Center Distance): 0.004999999999999977\n",
            "      Prediction: click on exit continue</s_prompt><s_target_bounding_box><s_xmax> 0.82</s_xmax><s_xmin> 0.48</s_xmin><s_ymax> 0.92</s_ymax><s_ymin> 0.86</s_ymin></s_target_bounding_box>\n",
            "          Answer: click on exit  continue</s_prompt><s_target_bounding_box><s_xmax>0.75</s_xmax><s_xmin>0.43</s_xmin><s_ymax>0.92</s_ymax><s_ymin>0.86</s_ymin></s_target_bounding_box>\n",
            " Prediction bbox: {'xmin': 0.48, 'ymin': 0.86, 'xmax': 0.82, 'ymax': 0.92}\n",
            "     Answer bbox: {'xmin': 0.43, 'ymin': 0.86, 'xmax': 0.75, 'ymax': 0.92}\n",
            "Eval score (Center Distance): 0.05999999999999994\n",
            "      Prediction: select the icon above the settings icon in the bottom</s_prompt><s_target_bounding_box><s_xmax> 0.78</s_xmax><s_xmin> 0.17</s_xmin><s_ymax> 0.61</s_ymax><s_ymin> 0.56</s_ymin></s_target_bounding_box>\n",
            "          Answer: select the icon above the settings icon in the bottom</s_prompt><s_target_bounding_box><s_xmax>0.1</s_xmax><s_xmin>0.04</s_xmin><s_ymax>0.61</s_ymax><s_ymin>0.55</s_ymin></s_target_bounding_box>\n",
            " Prediction bbox: {'xmin': 0.17, 'ymin': 0.56, 'xmax': 0.78, 'ymax': 0.61}\n",
            "     Answer bbox: {'xmin': 0.04, 'ymin': 0.55, 'xmax': 0.1, 'ymax': 0.61}\n",
            "Eval score (Center Distance): 0.40503086302157276\n",
            "      Prediction: click on the icon above top shared at the bottom of the web page</s_prompt><s_target_bounding_box><s_xmax> 0.67</s_xmax><s_xmin> 0.33</s_xmin><s_ymax> 0.87</s_ymax><s_ymin> 0.81</s_ymin></s_target_bounding_box>\n",
            "          Answer: click on the icon above top shared at the bottom of the web page</s_prompt><s_target_bounding_box><s_xmax>0.53</s_xmax><s_xmin>0.47</s_xmin><s_ymax>0.9</s_ymax><s_ymin>0.87</s_ymin></s_target_bounding_box>\n",
            " Prediction bbox: {'xmin': 0.33, 'ymin': 0.81, 'xmax': 0.67, 'ymax': 0.87}\n",
            "     Answer bbox: {'xmin': 0.47, 'ymin': 0.87, 'xmax': 0.53, 'ymax': 0.9}\n",
            "Eval score (Center Distance): 0.04499999999999993\n",
            "      Prediction: select more</s_prompt><s_target_bounding_box><s_xmax> 0.98</s_xmax><s_xmin> 0.85</s_xmin><s_ymax> 0.58</s_ymax><s_ymin> 0.53</s_ymin></s_target_bounding_box>\n",
            "          Answer: select more</s_prompt><s_target_bounding_box><s_xmax>0.98</s_xmax><s_xmin>0.85</s_xmin><s_ymax>0.57</s_ymax><s_ymin>0.53</s_ymin></s_target_bounding_box>\n",
            " Prediction bbox: {'xmin': 0.85, 'ymin': 0.53, 'xmax': 0.98, 'ymax': 0.58}\n",
            "     Answer bbox: {'xmin': 0.85, 'ymin': 0.53, 'xmax': 0.98, 'ymax': 0.57}\n",
            "Eval score (Center Distance): 0.004999999999999893\n",
            "      Prediction: click the first download button</s_prompt><s_target_bounding_box><s_xmax> 0.96</s_xmax><s_xmin> 0.91</s_xmin><s_ymax> 0.52</s_ymax><s_ymin> 0.49</s_ymin></s_target_bounding_box>\n",
            "          Answer: click the first download button</s_prompt><s_target_bounding_box><s_xmax>0.21</s_xmax><s_xmin>0.04</s_xmin><s_ymax>0.59</s_ymax><s_ymin>0.49</s_ymin></s_target_bounding_box>\n",
            " Prediction bbox: {'xmin': 0.91, 'ymin': 0.49, 'xmax': 0.96, 'ymax': 0.52}\n",
            "     Answer bbox: {'xmin': 0.04, 'ymin': 0.49, 'xmax': 0.21, 'ymax': 0.59}\n",
            "Eval score (Center Distance): 0.8107558202072929\n",
            "      Prediction: select the blue color logo of notepad on the left</s_prompt><s_target_bounding_box><s_xmax> 0.27</s_xmax><s_xmin> 0.06</s_xmin><s_ymax> 0.93</s_ymax><s_ymin> 0.91</s_ymin></s_target_bounding_box>\n",
            "          Answer: select the blue color logo of notepad on the left</s_prompt><s_target_bounding_box><s_xmax>0.41</s_xmax><s_xmin>0.34</s_xmin><s_ymax>0.15</s_ymax><s_ymin>0.11</s_ymin></s_target_bounding_box>\n",
            " Prediction bbox: {'xmin': 0.06, 'ymin': 0.91, 'xmax': 0.27, 'ymax': 0.93}\n",
            "     Answer bbox: {'xmin': 0.34, 'ymin': 0.11, 'xmax': 0.41, 'ymax': 0.15}\n",
            "Eval score (Center Distance): 0.8174350127074324\n",
            "      Prediction: flip to sign in item</s_prompt><s_target_bounding_box><s_xmax> 0.22</s_xmax><s_xmin> 0.04</s_xmin><s_ymax> 0.09</s_ymax><s_ymin> 0.05</s_ymin></s_target_bounding_box>\n",
            "          Answer: flip to sign in item</s_prompt><s_target_bounding_box><s_xmax>0.22</s_xmax><s_xmin>0.02</s_xmin><s_ymax>0.11</s_ymax><s_ymin>0.05</s_ymin></s_target_bounding_box>\n",
            " Prediction bbox: {'xmin': 0.04, 'ymin': 0.05, 'xmax': 0.22, 'ymax': 0.09}\n",
            "     Answer bbox: {'xmin': 0.02, 'ymin': 0.05, 'xmax': 0.22, 'ymax': 0.11}\n",
            "Eval score (Center Distance): 0.014142135623730954\n",
            "      Prediction: additional information</s_prompt><s_target_bounding_box><s_xmax> 0.92</s_xmax><s_xmin> 0.08</s_xmin><s_ymax> 0.46</s_ymax><s_ymin> 0.42</s_ymin></s_target_bounding_box>\n",
            "          Answer: additional information</s_prompt><s_target_bounding_box><s_xmax>0.93</s_xmax><s_xmin>0.07</s_xmin><s_ymax>0.44</s_ymax><s_ymin>0.42</s_ymin></s_target_bounding_box>\n",
            " Prediction bbox: {'xmin': 0.08, 'ymin': 0.42, 'xmax': 0.92, 'ymax': 0.46}\n",
            "     Answer bbox: {'xmin': 0.07, 'ymin': 0.42, 'xmax': 0.93, 'ymax': 0.44}\n",
            "Eval score (Center Distance): 0.010000000000000009\n",
            "      Prediction: edit</s_prompt><s_target_bounding_box><s_xmax> 0.98</s_xmax><s_xmin> 0.86</s_xmin><s_ymax> 0.16</s_ymax><s_ymin> 0.13</s_ymin></s_target_bounding_box>\n",
            "          Answer: edit</s_prompt><s_target_bounding_box><s_xmax>0.98</s_xmax><s_xmin>0.8</s_xmin><s_ymax>0.17</s_ymax><s_ymin>0.12</s_ymin></s_target_bounding_box>\n",
            " Prediction bbox: {'xmin': 0.86, 'ymin': 0.13, 'xmax': 0.98, 'ymax': 0.16}\n",
            "     Answer bbox: {'xmin': 0.8, 'ymin': 0.12, 'xmax': 0.98, 'ymax': 0.17}\n",
            "Eval score (Center Distance): 0.029999999999999916\n",
            "      Prediction: select bottom right symbol</s_prompt><s_target_bounding_box><s_xmax> 0.98</s_xmax><s_xmin> 0.89</s_xmin><s_ymax> 0.92</s_ymax><s_ymin> 0.9</s_ymin></s_target_bounding_box>\n",
            "          Answer: select bottom right symbol</s_prompt><s_target_bounding_box><s_xmax>0.99</s_xmax><s_xmin>0.88</s_xmin><s_ymax>0.93</s_ymax><s_ymin>0.88</s_ymin></s_target_bounding_box>\n",
            " Prediction bbox: {'xmin': 0.89, 'ymin': 0.9, 'xmax': 0.98, 'ymax': 0.92}\n",
            "     Answer bbox: {'xmin': 0.88, 'ymin': 0.88, 'xmax': 0.99, 'ymax': 0.93}\n",
            "Eval score (Center Distance): 0.0050000000000000044\n",
            "      Prediction: your creators</s_prompt><s_target_bounding_box><s_xmax> 0.35</s_xmax><s_xmin> 0.15</s_xmin><s_ymax> 0.42</s_ymax><s_ymin> 0.39</s_ymin></s_target_bounding_box>\n",
            "          Answer: your creators</s_prompt><s_target_bounding_box><s_xmax>0.9</s_xmax><s_xmin>0.14</s_xmin><s_ymax>0.42</s_ymax><s_ymin>0.39</s_ymin></s_target_bounding_box>\n",
            " Prediction bbox: {'xmin': 0.15, 'ymin': 0.39, 'xmax': 0.35, 'ymax': 0.42}\n",
            "     Answer bbox: {'xmin': 0.14, 'ymin': 0.39, 'xmax': 0.9, 'ymax': 0.42}\n",
            "Eval score (Center Distance): 0.27\n",
            "      Prediction: click on terms and privacy</s_prompt><s_target_bounding_box><s_xmax> 0.73</s_xmax><s_xmin> 0.27</s_xmin><s_ymax> 0.91</s_ymax><s_ymin> 0.88</s_ymin></s_target_bounding_box>\n",
            "          Answer: click on terms and privacy</s_prompt><s_target_bounding_box><s_xmax>0.52</s_xmax><s_xmin>0.24</s_xmin><s_ymax>0.91</s_ymax><s_ymin>0.87</s_ymin></s_target_bounding_box>\n",
            " Prediction bbox: {'xmin': 0.27, 'ymin': 0.88, 'xmax': 0.73, 'ymax': 0.91}\n",
            "     Answer bbox: {'xmin': 0.24, 'ymin': 0.87, 'xmax': 0.52, 'ymax': 0.91}\n",
            "Eval score (Center Distance): 0.12010412149464314\n",
            "      Prediction: find the settings icon</s_prompt><s_target_bounding_box><s_xmax> 0.99</s_xmax><s_xmin> 0.01</s_xmin><s_ymax> 0.93</s_ymax><s_ymin> 0.11</s_ymin></s_target_bounding_box>\n",
            "          Answer: find the settings icon</s_prompt><s_target_bounding_box><s_xmax>0.86</s_xmax><s_xmin>0.71</s_xmin><s_ymax>0.09</s_ymax><s_ymin>0.03</s_ymin></s_target_bounding_box>\n",
            " Prediction bbox: {'xmin': 0.01, 'ymin': 0.11, 'xmax': 0.99, 'ymax': 0.93}\n",
            "     Answer bbox: {'xmin': 0.71, 'ymin': 0.03, 'xmax': 0.86, 'ymax': 0.09}\n",
            "Eval score (Center Distance): 0.5411330705103874\n"
          ]
        }
      ]
    },
    {
      "cell_type": "code",
      "source": [],
      "metadata": {
        "id": "KuU1meNkN3-x"
      },
      "execution_count": null,
      "outputs": []
    },
    {
      "cell_type": "markdown",
      "source": [
        "# Push to hub and reuse\n",
        "\n",
        "HuggingFace's [hub](https://huggingface.co/) is a nice place to host, version and share machine learning models (and datasets, and demos in the form of [Spaces](https://huggingface.co/spaces)).\n",
        "\n",
        "We first provide our authentication token."
      ],
      "metadata": {
        "id": "1xl4AeMl3jmb"
      }
    },
    {
      "cell_type": "markdown",
      "source": [
        "Pushing to the hub after training is as easy as:"
      ],
      "metadata": {
        "id": "7X7GV-YE5loA"
      }
    },
    {
      "cell_type": "code",
      "source": [
        "repo_name = \"ivelin/donut-refexp-combined-v1\"\n",
        "\n",
        "#\n",
        "# here we push the processor and model to the hub\n",
        "# note that you can add `private=True` in case you're using the private hub\n",
        "# which makes sure the model is only shared with your colleagues\n",
        "model_module.processor.push_to_hub(repo_name) \n",
        "model_module.model.push_to_hub(repo_name)\n",
        "\n",
        " "
      ],
      "metadata": {
        "id": "gY24Xk8IDtNR"
      },
      "execution_count": null,
      "outputs": []
    },
    {
      "cell_type": "markdown",
      "source": [
        "Reloading can then be done as:"
      ],
      "metadata": {
        "id": "lN_F7nY67cre"
      }
    },
    {
      "cell_type": "code",
      "source": [
        "from transformers import DonutProcessor, VisionEncoderDecoderModel\n",
        "\n",
        "processor = DonutProcessor.from_pretrained(repo_name)\n",
        "model = VisionEncoderDecoderModel.from_pretrained(repo_name)\n",
        "\n",
        "backup_repo_name = \"ivelin/donut-refexp-combined-v1-backup\"\n",
        "\n",
        "# save a backup in case uploading to the main model fails and corrupts the data\n",
        "model_module.processor.push_to_hub(backup_repo_name) \n",
        "model_module.model.push_to_hub(backup_repo_name)\n"
      ],
      "metadata": {
        "id": "chaFQM0R3mrb"
      },
      "execution_count": null,
      "outputs": []
    },
    {
      "cell_type": "markdown",
      "source": [
        "## Inference\n",
        "\n",
        "For inference, you can use this [Gradio playground notebook](https://github.com/ivelin/donut_ui_refexp/blob/main/Donut_UI_RefExp_Gradio_Inference_Playground.ipynb) or this [Huggingface playspace](https://huggingface.co/spaces/ivelin/ui-refexp). Also see to the Donut [docs](https://huggingface.co/docs/transformers/main/en/model_doc/donut#inference)."
      ],
      "metadata": {
        "id": "9t50qDh-lGMg"
      }
    },
    {
      "cell_type": "markdown",
      "source": [],
      "metadata": {
        "id": "Dph3FRU6p67k"
      }
    }
  ]
}